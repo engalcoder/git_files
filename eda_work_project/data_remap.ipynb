{
 "cells": [
  {
   "cell_type": "code",
   "execution_count": 1,
   "id": "40bd6f1c",
   "metadata": {},
   "outputs": [],
   "source": [
    "import pandas as pd\n",
    "import numpy as np\n",
    "import math"
   ]
  },
  {
   "cell_type": "code",
   "execution_count": 2,
   "id": "ce702ca9",
   "metadata": {},
   "outputs": [],
   "source": [
    "df2022_full = pd.read_excel(r\".\\data\\P1_2022_data.xlsx\")"
   ]
  },
  {
   "cell_type": "code",
   "execution_count": 3,
   "id": "49325c0d",
   "metadata": {},
   "outputs": [],
   "source": [
    "df2023_05 = pd.read_excel(r\".\\data\\P1_2023_05_data.xlsx\")"
   ]
  },
  {
   "cell_type": "code",
   "execution_count": 5,
   "id": "3b22f654",
   "metadata": {},
   "outputs": [],
   "source": [
    "di_rename_col = {       '*************':                   'system_id',\n",
    "                        '*****************************':   'comment_creation_date',\n",
    "                        '*****************':               'project_name',\n",
    "                        '*************':                   'set_id',\n",
    "                        '*****************':               'set_rev',\n",
    "                        '*********************':           'doc_id',\n",
    "                        '*****************':               'doc_rev',\n",
    "                        '**********************':          'doc_name',\n",
    "                        '*************':                   'comment_type',\n",
    "                        '************************':        'comment_detailed_type',\n",
    "                        '***************':                 'comment_text',\n",
    "                        '*************':                   'division',\n",
    "                        '************':                    'response_text',\n",
    "                        '************':                    'response_author',\n",
    "                        '************************':        'response_date',\n",
    "                        '****************':                'comment_status',\n",
    "                        '********':                        'checklist_id',\n",
    "                        '******************************':  'num_of_pages',\n",
    "                        '***************':                 'comment_author'\n",
    "                }"
   ]
  },
  {
   "cell_type": "code",
   "execution_count": 6,
   "id": "60a9b272",
   "metadata": {},
   "outputs": [],
   "source": [
    "# 1st df\n",
    "df2022_full = df2022_full.rename(columns=di_rename_col)"
   ]
  },
  {
   "cell_type": "code",
   "execution_count": 7,
   "id": "cba618dc",
   "metadata": {},
   "outputs": [],
   "source": [
    "# 2nd df\n",
    "df2023_05 = df2023_05.rename(columns=di_rename_col)"
   ]
  },
  {
   "cell_type": "code",
   "execution_count": 8,
   "id": "14052c67",
   "metadata": {
    "scrolled": true
   },
   "outputs": [
    {
     "data": {
      "text/plain": [
       "system_id                0.000000\n",
       "comment_creation_date    0.000000\n",
       "project_name             0.000000\n",
       "set_id                   0.009099\n",
       "doc_id                   0.000000\n",
       "set_rev                  0.000000\n",
       "doc_name                 0.003817\n",
       "comment_type             0.000000\n",
       "comment_detailed_type    0.000000\n",
       "comment_text             0.000000\n",
       "division                 0.051434\n",
       "response_text            0.133097\n",
       "response_author          0.180329\n",
       "response_date            0.139883\n",
       "comment_status           0.132827\n",
       "dtype: float64"
      ]
     },
     "execution_count": 8,
     "metadata": {},
     "output_type": "execute_result"
    }
   ],
   "source": [
    "# missing data check 1st df\n",
    "df2022_full.isna().mean()"
   ]
  },
  {
   "cell_type": "code",
   "execution_count": 9,
   "id": "ef9a4d78",
   "metadata": {
    "scrolled": true
   },
   "outputs": [
    {
     "data": {
      "text/plain": [
       "system_id                0.000000\n",
       "comment_creation_date    0.000000\n",
       "project_name             0.000000\n",
       "set_id                   0.000000\n",
       "comment_type             0.000087\n",
       "comment_detailed_type    0.001312\n",
       "comment_text             0.000000\n",
       "comment_author           0.096938\n",
       "response_text            0.131234\n",
       "response_author          0.172178\n",
       "response_date            0.131409\n",
       "set_rev                  0.000000\n",
       "doc_id                   0.120472\n",
       "doc_rev                  0.120472\n",
       "doc_name                 0.123185\n",
       "comment_status           0.131321\n",
       "division                 0.036045\n",
       "num_of_pages             0.000000\n",
       "dtype: float64"
      ]
     },
     "execution_count": 9,
     "metadata": {},
     "output_type": "execute_result"
    }
   ],
   "source": [
    "# missing data check 2nd df\n",
    "df2023_05.isna().mean()"
   ]
  },
  {
   "attachments": {},
   "cell_type": "markdown",
   "id": "4ebe8f72",
   "metadata": {},
   "source": [
    "# Concatenation of initial DataFrames"
   ]
  },
  {
   "cell_type": "code",
   "execution_count": 10,
   "id": "4cc21978",
   "metadata": {},
   "outputs": [],
   "source": [
    "frames = [df2022_full, df2023_05]"
   ]
  },
  {
   "cell_type": "code",
   "execution_count": 11,
   "id": "e6e7692f",
   "metadata": {},
   "outputs": [],
   "source": [
    "df = pd.concat(frames, ignore_index=True)"
   ]
  },
  {
   "attachments": {},
   "cell_type": "markdown",
   "id": "7aa150a0",
   "metadata": {},
   "source": [
    "# 1. 'system_id' replace:"
   ]
  },
  {
   "cell_type": "code",
   "execution_count": 14,
   "id": "fd26c10a",
   "metadata": {},
   "outputs": [],
   "source": [
    "def remap_system_id(df, col_name):\n",
    "    i = 1\n",
    "    for idx, row in df.iterrows():\n",
    "        df.at[idx,col_name] = f'''ID-{'0'*(6 - len(str(i)))}{i}''' # id format: 'ID-00000N'\n",
    "        i += 1"
   ]
  },
  {
   "cell_type": "code",
   "execution_count": 15,
   "id": "c3ebf5ac",
   "metadata": {},
   "outputs": [],
   "source": [
    "remap_system_id(df, 'system_id')"
   ]
  },
  {
   "attachments": {},
   "cell_type": "markdown",
   "id": "54ea51fa",
   "metadata": {},
   "source": [
    "# 2. 'comment_creation_date' is not changed"
   ]
  },
  {
   "attachments": {},
   "cell_type": "markdown",
   "id": "8f4e92cf",
   "metadata": {},
   "source": [
    "# 3. 'project_name' replace:"
   ]
  },
  {
   "cell_type": "code",
   "execution_count": 16,
   "id": "29a7528e",
   "metadata": {},
   "outputs": [],
   "source": [
    "df.project_name = 'P1'"
   ]
  },
  {
   "attachments": {},
   "cell_type": "markdown",
   "id": "a4241241",
   "metadata": {},
   "source": [
    "# 4. 'set_id' replace:"
   ]
  },
  {
   "cell_type": "code",
   "execution_count": 17,
   "id": "b5a53d12",
   "metadata": {},
   "outputs": [],
   "source": [
    "def sets_remap(arr):\n",
    "    di = {}\n",
    "    i = 1\n",
    "    for item in arr:\n",
    "        while True:\n",
    "            try:\n",
    "                num_zero = f'''{'0'*(6 - len({i}))}''' # format: '00000N'\n",
    "                di[item] = f'''set-{int(int(str(item)[*:*])(formula))}-{num_zero}{i}''' # format: 'set-NNN-00000N'\n",
    "                break\n",
    "            except ValueError:\n",
    "                di[item] = np.nan\n",
    "                break       \n",
    "        i += 1\n",
    "    return di"
   ]
  },
  {
   "cell_type": "code",
   "execution_count": 18,
   "id": "6ff0f5c0",
   "metadata": {},
   "outputs": [],
   "source": [
    "set_ids = df['set_id'].unique()"
   ]
  },
  {
   "cell_type": "code",
   "execution_count": 19,
   "id": "236aa0d9",
   "metadata": {
    "scrolled": true
   },
   "outputs": [],
   "source": [
    "df = df.replace({'set_id': sets_remap(set_ids)})"
   ]
  },
  {
   "attachments": {},
   "cell_type": "markdown",
   "id": "6bc2e1e2",
   "metadata": {},
   "source": [
    "# 5. 'doc_id' replace:"
   ]
  },
  {
   "cell_type": "code",
   "execution_count": 20,
   "id": "f73759cd",
   "metadata": {},
   "outputs": [],
   "source": [
    "def docs_remap(arr):\n",
    "    di = {}\n",
    "    i = 1\n",
    "    for item in arr:\n",
    "        while True:\n",
    "            try:\n",
    "                num_zero = f'''{'0'*(6 - len({i}))}'''\n",
    "                di[item] = f'''doc-{int(int(str(item)[*:*])(formula))}-{num_zero}{i}'''\n",
    "                break\n",
    "            except ValueError:\n",
    "                di[item] = np.nan\n",
    "                break\n",
    "        i += 1\n",
    "    return di"
   ]
  },
  {
   "cell_type": "code",
   "execution_count": 21,
   "id": "450433a7",
   "metadata": {},
   "outputs": [],
   "source": [
    "doc_ids = df['doc_id'].unique()"
   ]
  },
  {
   "cell_type": "code",
   "execution_count": 22,
   "id": "180a88ed",
   "metadata": {},
   "outputs": [],
   "source": [
    "df = df.replace({'doc_id': docs_remap(doc_ids)})"
   ]
  },
  {
   "attachments": {},
   "cell_type": "markdown",
   "id": "cfe08a8d",
   "metadata": {},
   "source": [
    "# 6. 'set_rev' replace:"
   ]
  },
  {
   "cell_type": "code",
   "execution_count": 23,
   "id": "6b3ffcd7",
   "metadata": {},
   "outputs": [],
   "source": [
    "def rev_to_num(df, col_name):\n",
    "    for idx, row in df.iterrows():\n",
    "        while True:\n",
    "            try:\n",
    "                math.isnan(float(df.at[idx,col_name]))\n",
    "                break\n",
    "            except ValueError:\n",
    "                df.at[idx,col_name] = str(df.at[idx,col_name])[1:]\n",
    "                break    "
   ]
  },
  {
   "cell_type": "code",
   "execution_count": 24,
   "id": "3c451b83",
   "metadata": {},
   "outputs": [],
   "source": [
    "rev_to_num(df, 'set_rev')"
   ]
  },
  {
   "attachments": {},
   "cell_type": "markdown",
   "id": "8728cac5",
   "metadata": {},
   "source": [
    "# 7. 'doc_rev' replace:"
   ]
  },
  {
   "cell_type": "code",
   "execution_count": 25,
   "id": "2a80cb49",
   "metadata": {},
   "outputs": [],
   "source": [
    "rev_to_num(df, 'doc_rev')"
   ]
  },
  {
   "attachments": {},
   "cell_type": "markdown",
   "id": "83b9c2e2",
   "metadata": {},
   "source": [
    "# 8. 'doc_name' replace:"
   ]
  },
  {
   "cell_type": "code",
   "execution_count": 26,
   "id": "8ea900d9",
   "metadata": {},
   "outputs": [],
   "source": [
    "def doc_name_remap(df, col_name):\n",
    "    for idx, row in df.iterrows():\n",
    "         while True:\n",
    "            try:\n",
    "                math.isnan(float(df.at[idx,col_name]))\n",
    "                math.isnan(float(df.at[idx,'doc_id']))\n",
    "                break\n",
    "            except ValueError:\n",
    "                df.at[idx,col_name] = f'''{df.at[idx,'doc_id']}_name'''\n",
    "                break"
   ]
  },
  {
   "cell_type": "code",
   "execution_count": 27,
   "id": "4396b8ac",
   "metadata": {},
   "outputs": [],
   "source": [
    "doc_name_remap(df, 'doc_name')"
   ]
  },
  {
   "cell_type": "code",
   "execution_count": 28,
   "id": "a3a270e9",
   "metadata": {},
   "outputs": [],
   "source": [
    "df = df.replace({'doc_name': {'nan_name': np.nan}})"
   ]
  },
  {
   "attachments": {},
   "cell_type": "markdown",
   "id": "228e2acd",
   "metadata": {},
   "source": [
    "# 9. 'comment_type' replace:"
   ]
  },
  {
   "cell_type": "code",
   "execution_count": 29,
   "id": "6f4009e6",
   "metadata": {},
   "outputs": [],
   "source": [
    "types_name = df['comment_type'].unique()"
   ]
  },
  {
   "cell_type": "code",
   "execution_count": 30,
   "id": "77a230c9",
   "metadata": {},
   "outputs": [],
   "source": [
    "def types_remap(arr):\n",
    "    di = {}\n",
    "    i = 1\n",
    "    for item in arr:\n",
    "        while True:\n",
    "            try:\n",
    "                math.isnan(float(item))\n",
    "                break\n",
    "            except ValueError:\n",
    "                di[item] = f'''type_{i}'''\n",
    "                break\n",
    "        i += 1\n",
    "    return di"
   ]
  },
  {
   "cell_type": "code",
   "execution_count": 31,
   "id": "069d1566",
   "metadata": {},
   "outputs": [],
   "source": [
    "df = df.replace({'comment_type': types_remap(types_name)})"
   ]
  },
  {
   "attachments": {},
   "cell_type": "markdown",
   "id": "953daab7",
   "metadata": {},
   "source": [
    "# 10. 'comment_detailed_type' replace:"
   ]
  },
  {
   "cell_type": "code",
   "execution_count": 32,
   "id": "c5db51fe",
   "metadata": {},
   "outputs": [],
   "source": [
    "detailed_types_name = df['comment_detailed_type'].unique()"
   ]
  },
  {
   "cell_type": "code",
   "execution_count": 33,
   "id": "1f5e5a5e",
   "metadata": {},
   "outputs": [],
   "source": [
    "def detailed_types_remap(arr):\n",
    "    di = {}\n",
    "    i = 1\n",
    "    for item in arr:\n",
    "        while True:\n",
    "            try:\n",
    "                math.isnan(float(item))\n",
    "                break\n",
    "            except ValueError:\n",
    "                di[item] = f'''subtype_{i}'''\n",
    "                break    \n",
    "        i += 1\n",
    "    return di"
   ]
  },
  {
   "cell_type": "code",
   "execution_count": 34,
   "id": "41519bf5",
   "metadata": {},
   "outputs": [],
   "source": [
    "df = df.replace({'comment_detailed_type': detailed_types_remap(detailed_types_name)})"
   ]
  },
  {
   "attachments": {},
   "cell_type": "markdown",
   "id": "23ce8d3f",
   "metadata": {},
   "source": [
    "# 11. 'comment_text' replace:"
   ]
  },
  {
   "cell_type": "code",
   "execution_count": 35,
   "id": "ae44d100",
   "metadata": {},
   "outputs": [],
   "source": [
    "df.comment_text = 'comment_text'"
   ]
  },
  {
   "attachments": {},
   "cell_type": "markdown",
   "id": "3f92e471",
   "metadata": {},
   "source": [
    "# 12. 'comment_author' replace: replace:"
   ]
  },
  {
   "cell_type": "code",
   "execution_count": 36,
   "id": "1d7dda0e",
   "metadata": {},
   "outputs": [],
   "source": [
    "comment_authors_name = df['comment_author'].unique()"
   ]
  },
  {
   "cell_type": "code",
   "execution_count": 37,
   "id": "6ef023c0",
   "metadata": {},
   "outputs": [],
   "source": [
    "def comment_authors_remap(arr):\n",
    "    di = {}\n",
    "    i = 1\n",
    "    for item in arr:\n",
    "        while True:\n",
    "            try:\n",
    "                math.isnan(float(item))\n",
    "                break\n",
    "            except ValueError:\n",
    "                di[item] = f'''comment_author_{i}'''\n",
    "                break\n",
    "        i += 1\n",
    "    return di"
   ]
  },
  {
   "cell_type": "code",
   "execution_count": 38,
   "id": "49be1a37",
   "metadata": {},
   "outputs": [],
   "source": [
    "df = df.replace({'comment_author': comment_authors_remap(comment_authors_name)})"
   ]
  },
  {
   "attachments": {},
   "cell_type": "markdown",
   "id": "3b205b5b",
   "metadata": {},
   "source": [
    "# 13. 'division' replace:"
   ]
  },
  {
   "cell_type": "code",
   "execution_count": 39,
   "id": "c32fb227",
   "metadata": {},
   "outputs": [],
   "source": [
    "divisions_name = df['division'].unique()"
   ]
  },
  {
   "cell_type": "code",
   "execution_count": 40,
   "id": "51f30b9d",
   "metadata": {},
   "outputs": [],
   "source": [
    "def divisions_remap(arr):\n",
    "    di = {}\n",
    "    i = 1\n",
    "    for item in arr:\n",
    "        while True:\n",
    "            try:\n",
    "                math.isnan(float(item))\n",
    "                break\n",
    "            except ValueError:\n",
    "                di[item] = f'''division_{i}'''\n",
    "                break\n",
    "        i += 1\n",
    "    return di"
   ]
  },
  {
   "cell_type": "code",
   "execution_count": 41,
   "id": "1decad76",
   "metadata": {},
   "outputs": [],
   "source": [
    "df = df.replace({'division': divisions_remap(divisions_name)})"
   ]
  },
  {
   "attachments": {},
   "cell_type": "markdown",
   "id": "2977ce6d",
   "metadata": {},
   "source": [
    "# 14. 'response_text' replace:"
   ]
  },
  {
   "cell_type": "code",
   "execution_count": 42,
   "id": "04186eb8",
   "metadata": {},
   "outputs": [],
   "source": [
    "mask = df['response_text'].isnull()"
   ]
  },
  {
   "cell_type": "code",
   "execution_count": 43,
   "id": "4408ac90",
   "metadata": {},
   "outputs": [],
   "source": [
    "df['response_text'] = df['response_text'].where(mask,'response_text')"
   ]
  },
  {
   "attachments": {},
   "cell_type": "markdown",
   "id": "fb76332b",
   "metadata": {},
   "source": [
    "# 15. 'response_author' replace:"
   ]
  },
  {
   "cell_type": "code",
   "execution_count": 44,
   "id": "33b97990",
   "metadata": {},
   "outputs": [],
   "source": [
    "response_authors_name = df['response_author'].unique()"
   ]
  },
  {
   "cell_type": "code",
   "execution_count": 45,
   "id": "4e52d742",
   "metadata": {},
   "outputs": [],
   "source": [
    "def response_authors_remap(arr):\n",
    "    di = {}\n",
    "    i = 1\n",
    "    for item in arr:\n",
    "        while True:\n",
    "            try:\n",
    "                math.isnan(float(item))\n",
    "                break\n",
    "            except ValueError:\n",
    "                di[item] = f'''response_author_{i}'''\n",
    "                break\n",
    "        i += 1\n",
    "    return di"
   ]
  },
  {
   "cell_type": "code",
   "execution_count": 46,
   "id": "b4ed3afc",
   "metadata": {},
   "outputs": [],
   "source": [
    "df = df.replace({'response_author': response_authors_remap(response_authors_name)})"
   ]
  },
  {
   "attachments": {},
   "cell_type": "markdown",
   "id": "61b4a444",
   "metadata": {},
   "source": [
    "# 16. 'response_date' is not changed"
   ]
  },
  {
   "attachments": {},
   "cell_type": "markdown",
   "id": "ada6809c",
   "metadata": {},
   "source": [
    "# 17. 'response_author' replace:"
   ]
  },
  {
   "cell_type": "code",
   "execution_count": 50,
   "id": "b44995c3",
   "metadata": {},
   "outputs": [],
   "source": [
    "comment_status_name = df['comment_status'].unique()"
   ]
  },
  {
   "cell_type": "code",
   "execution_count": 52,
   "id": "8b225b8d",
   "metadata": {},
   "outputs": [],
   "source": [
    "di_comment_status_name = {'*****':'accepted','********':'fixed','********':'not_accepted',\n",
    "                          '*******':'not_accepted','*******':fixed','******':'accepted'}"
   ]
  },
  {
   "cell_type": "code",
   "execution_count": 53,
   "id": "28ee7714",
   "metadata": {},
   "outputs": [],
   "source": [
    "df = df.replace({'comment_status': di_comment_status_name})"
   ]
  },
  {
   "attachments": {},
   "cell_type": "markdown",
   "id": "8b336836",
   "metadata": {},
   "source": [
    "# 18. 'num_of_pages' is not changed"
   ]
  },
  {
   "attachments": {},
   "cell_type": "markdown",
   "id": "0007a09c",
   "metadata": {},
   "source": [
    "# Result check"
   ]
  },
  {
   "cell_type": "code",
   "execution_count": 54,
   "id": "af5ba328",
   "metadata": {
    "scrolled": true
   },
   "outputs": [
    {
     "data": {
      "text/html": [
       "<div>\n",
       "<style scoped>\n",
       "    .dataframe tbody tr th:only-of-type {\n",
       "        vertical-align: middle;\n",
       "    }\n",
       "\n",
       "    .dataframe tbody tr th {\n",
       "        vertical-align: top;\n",
       "    }\n",
       "\n",
       "    .dataframe thead th {\n",
       "        text-align: right;\n",
       "    }\n",
       "</style>\n",
       "<table border=\"1\" class=\"dataframe\">\n",
       "  <thead>\n",
       "    <tr style=\"text-align: right;\">\n",
       "      <th></th>\n",
       "      <th>system_id</th>\n",
       "      <th>comment_creation_date</th>\n",
       "      <th>project_name</th>\n",
       "      <th>set_id</th>\n",
       "      <th>doc_id</th>\n",
       "      <th>set_rev</th>\n",
       "      <th>doc_name</th>\n",
       "      <th>comment_type</th>\n",
       "      <th>comment_detailed_type</th>\n",
       "      <th>comment_text</th>\n",
       "      <th>division</th>\n",
       "      <th>response_text</th>\n",
       "      <th>response_author</th>\n",
       "      <th>response_date</th>\n",
       "      <th>comment_status</th>\n",
       "      <th>comment_author</th>\n",
       "      <th>doc_rev</th>\n",
       "      <th>num_of_pages</th>\n",
       "    </tr>\n",
       "  </thead>\n",
       "  <tbody>\n",
       "    <tr>\n",
       "      <th>0</th>\n",
       "      <td>ID-000001</td>\n",
       "      <td>2022-05-31 11:25:02</td>\n",
       "      <td>P1</td>\n",
       "      <td>set-65-000001</td>\n",
       "      <td>doc-65-000001</td>\n",
       "      <td>01</td>\n",
       "      <td>doc-65-000001_name</td>\n",
       "      <td>type_1</td>\n",
       "      <td>subtype_1</td>\n",
       "      <td>comment_text</td>\n",
       "      <td>division_1</td>\n",
       "      <td>response_text</td>\n",
       "      <td>response_author_1</td>\n",
       "      <td>2022-06-08 08:08:33</td>\n",
       "      <td>accepted</td>\n",
       "      <td>NaN</td>\n",
       "      <td>NaN</td>\n",
       "      <td>NaN</td>\n",
       "    </tr>\n",
       "    <tr>\n",
       "      <th>1</th>\n",
       "      <td>ID-000002</td>\n",
       "      <td>2022-05-31 07:43:29</td>\n",
       "      <td>P1</td>\n",
       "      <td>set-60-000002</td>\n",
       "      <td>doc-60-000002</td>\n",
       "      <td>02</td>\n",
       "      <td>doc-60-000002_name</td>\n",
       "      <td>type_1</td>\n",
       "      <td>subtype_2</td>\n",
       "      <td>comment_text</td>\n",
       "      <td>division_2</td>\n",
       "      <td>response_text</td>\n",
       "      <td>response_author_2</td>\n",
       "      <td>2022-06-14 12:07:00</td>\n",
       "      <td>fixed</td>\n",
       "      <td>NaN</td>\n",
       "      <td>NaN</td>\n",
       "      <td>NaN</td>\n",
       "    </tr>\n",
       "    <tr>\n",
       "      <th>2</th>\n",
       "      <td>ID-000003</td>\n",
       "      <td>2022-05-31 07:23:09</td>\n",
       "      <td>P1</td>\n",
       "      <td>set-60-000003</td>\n",
       "      <td>doc-60-000003</td>\n",
       "      <td>01</td>\n",
       "      <td>doc-60-000003_name</td>\n",
       "      <td>type_1</td>\n",
       "      <td>subtype_3</td>\n",
       "      <td>comment_text</td>\n",
       "      <td>division_3</td>\n",
       "      <td>response_text</td>\n",
       "      <td>response_author_3</td>\n",
       "      <td>2022-06-30 12:40:26</td>\n",
       "      <td>fixed</td>\n",
       "      <td>NaN</td>\n",
       "      <td>NaN</td>\n",
       "      <td>NaN</td>\n",
       "    </tr>\n",
       "    <tr>\n",
       "      <th>3</th>\n",
       "      <td>ID-000004</td>\n",
       "      <td>2022-05-31 07:24:13</td>\n",
       "      <td>P1</td>\n",
       "      <td>set-60-000003</td>\n",
       "      <td>doc-60-000003</td>\n",
       "      <td>01</td>\n",
       "      <td>doc-60-000003_name</td>\n",
       "      <td>type_1</td>\n",
       "      <td>subtype_3</td>\n",
       "      <td>comment_text</td>\n",
       "      <td>division_3</td>\n",
       "      <td>response_text</td>\n",
       "      <td>response_author_3</td>\n",
       "      <td>2022-06-30 12:42:23</td>\n",
       "      <td>fixed</td>\n",
       "      <td>NaN</td>\n",
       "      <td>NaN</td>\n",
       "      <td>NaN</td>\n",
       "    </tr>\n",
       "    <tr>\n",
       "      <th>4</th>\n",
       "      <td>ID-000005</td>\n",
       "      <td>2022-06-01 11:08:10</td>\n",
       "      <td>P1</td>\n",
       "      <td>set-60-000004</td>\n",
       "      <td>doc-60-000004</td>\n",
       "      <td>02</td>\n",
       "      <td>doc-60-000004_name</td>\n",
       "      <td>type_2</td>\n",
       "      <td>subtype_4</td>\n",
       "      <td>comment_text</td>\n",
       "      <td>division_4</td>\n",
       "      <td>response_text</td>\n",
       "      <td>response_author_4</td>\n",
       "      <td>2022-06-06 12:33:28</td>\n",
       "      <td>accepted</td>\n",
       "      <td>NaN</td>\n",
       "      <td>NaN</td>\n",
       "      <td>NaN</td>\n",
       "    </tr>\n",
       "    <tr>\n",
       "      <th>...</th>\n",
       "      <td>...</td>\n",
       "      <td>...</td>\n",
       "      <td>...</td>\n",
       "      <td>...</td>\n",
       "      <td>...</td>\n",
       "      <td>...</td>\n",
       "      <td>...</td>\n",
       "      <td>...</td>\n",
       "      <td>...</td>\n",
       "      <td>...</td>\n",
       "      <td>...</td>\n",
       "      <td>...</td>\n",
       "      <td>...</td>\n",
       "      <td>...</td>\n",
       "      <td>...</td>\n",
       "      <td>...</td>\n",
       "      <td>...</td>\n",
       "      <td>...</td>\n",
       "    </tr>\n",
       "    <tr>\n",
       "      <th>37361</th>\n",
       "      <td>ID-037362</td>\n",
       "      <td>2023-05-30 14:08:40</td>\n",
       "      <td>P1</td>\n",
       "      <td>set-60-000003538</td>\n",
       "      <td>doc-60-000007988</td>\n",
       "      <td>01</td>\n",
       "      <td>doc-60-000007988_name</td>\n",
       "      <td>type_1</td>\n",
       "      <td>subtype_24</td>\n",
       "      <td>comment_text</td>\n",
       "      <td>NaN</td>\n",
       "      <td>response_text</td>\n",
       "      <td>response_author_367</td>\n",
       "      <td>2023-05-31 13:02:05</td>\n",
       "      <td>not_accepted</td>\n",
       "      <td>comment_author_19</td>\n",
       "      <td>01</td>\n",
       "      <td>26.0</td>\n",
       "    </tr>\n",
       "    <tr>\n",
       "      <th>37362</th>\n",
       "      <td>ID-037363</td>\n",
       "      <td>2023-05-30 14:16:52</td>\n",
       "      <td>P1</td>\n",
       "      <td>set-55-00000699</td>\n",
       "      <td>doc-55-000001027</td>\n",
       "      <td>04</td>\n",
       "      <td>doc-55-000001027_name</td>\n",
       "      <td>type_3</td>\n",
       "      <td>subtype_17</td>\n",
       "      <td>comment_text</td>\n",
       "      <td>division_67</td>\n",
       "      <td>response_text</td>\n",
       "      <td>response_author_181</td>\n",
       "      <td>2023-05-31 08:43:17</td>\n",
       "      <td>fixed</td>\n",
       "      <td>comment_author_21</td>\n",
       "      <td>04</td>\n",
       "      <td>27.0</td>\n",
       "    </tr>\n",
       "    <tr>\n",
       "      <th>37363</th>\n",
       "      <td>ID-037364</td>\n",
       "      <td>2023-05-30 14:24:39</td>\n",
       "      <td>P1</td>\n",
       "      <td>set-65-000002177</td>\n",
       "      <td>doc-65-000003828</td>\n",
       "      <td>04</td>\n",
       "      <td>doc-65-000003828_name</td>\n",
       "      <td>type_5</td>\n",
       "      <td>subtype_12</td>\n",
       "      <td>comment_text</td>\n",
       "      <td>division_11</td>\n",
       "      <td>response_text</td>\n",
       "      <td>response_author_30</td>\n",
       "      <td>2023-06-01 10:35:32</td>\n",
       "      <td>fixed</td>\n",
       "      <td>comment_author_17</td>\n",
       "      <td>04</td>\n",
       "      <td>282.0</td>\n",
       "    </tr>\n",
       "    <tr>\n",
       "      <th>37364</th>\n",
       "      <td>ID-037365</td>\n",
       "      <td>2023-05-30 14:57:53</td>\n",
       "      <td>P1</td>\n",
       "      <td>set-65-000004306</td>\n",
       "      <td>doc-65-000007089</td>\n",
       "      <td>05</td>\n",
       "      <td>doc-65-000007089_name</td>\n",
       "      <td>type_5</td>\n",
       "      <td>subtype_12</td>\n",
       "      <td>comment_text</td>\n",
       "      <td>division_18</td>\n",
       "      <td>response_text</td>\n",
       "      <td>response_author_32</td>\n",
       "      <td>2023-06-02 07:35:22</td>\n",
       "      <td>accepted</td>\n",
       "      <td>comment_author_17</td>\n",
       "      <td>05</td>\n",
       "      <td>29.0</td>\n",
       "    </tr>\n",
       "    <tr>\n",
       "      <th>37365</th>\n",
       "      <td>ID-037366</td>\n",
       "      <td>2023-05-30 20:54:41</td>\n",
       "      <td>P1</td>\n",
       "      <td>set-60-000002569</td>\n",
       "      <td>doc-60-000003855</td>\n",
       "      <td>01</td>\n",
       "      <td>doc-60-000003855_name</td>\n",
       "      <td>type_3</td>\n",
       "      <td>subtype_17</td>\n",
       "      <td>comment_text</td>\n",
       "      <td>division_3</td>\n",
       "      <td>response_text</td>\n",
       "      <td>response_author_448</td>\n",
       "      <td>2023-06-01 07:19:10</td>\n",
       "      <td>fixed</td>\n",
       "      <td>comment_author_21</td>\n",
       "      <td>01</td>\n",
       "      <td>257.0</td>\n",
       "    </tr>\n",
       "  </tbody>\n",
       "</table>\n",
       "<p>37366 rows × 18 columns</p>\n",
       "</div>"
      ],
      "text/plain": [
       "       system_id comment_creation_date project_name            set_id  \\\n",
       "0      ID-000001   2022-05-31 11:25:02           P1     set-65-000001   \n",
       "1      ID-000002   2022-05-31 07:43:29           P1     set-60-000002   \n",
       "2      ID-000003   2022-05-31 07:23:09           P1     set-60-000003   \n",
       "3      ID-000004   2022-05-31 07:24:13           P1     set-60-000003   \n",
       "4      ID-000005   2022-06-01 11:08:10           P1     set-60-000004   \n",
       "...          ...                   ...          ...               ...   \n",
       "37361  ID-037362   2023-05-30 14:08:40           P1  set-60-000003538   \n",
       "37362  ID-037363   2023-05-30 14:16:52           P1   set-55-00000699   \n",
       "37363  ID-037364   2023-05-30 14:24:39           P1  set-65-000002177   \n",
       "37364  ID-037365   2023-05-30 14:57:53           P1  set-65-000004306   \n",
       "37365  ID-037366   2023-05-30 20:54:41           P1  set-60-000002569   \n",
       "\n",
       "                 doc_id set_rev               doc_name comment_type  \\\n",
       "0         doc-65-000001      01     doc-65-000001_name       type_1   \n",
       "1         doc-60-000002      02     doc-60-000002_name       type_1   \n",
       "2         doc-60-000003      01     doc-60-000003_name       type_1   \n",
       "3         doc-60-000003      01     doc-60-000003_name       type_1   \n",
       "4         doc-60-000004      02     doc-60-000004_name       type_2   \n",
       "...                 ...     ...                    ...          ...   \n",
       "37361  doc-60-000007988      01  doc-60-000007988_name       type_1   \n",
       "37362  doc-55-000001027      04  doc-55-000001027_name       type_3   \n",
       "37363  doc-65-000003828      04  doc-65-000003828_name       type_5   \n",
       "37364  doc-65-000007089      05  doc-65-000007089_name       type_5   \n",
       "37365  doc-60-000003855      01  doc-60-000003855_name       type_3   \n",
       "\n",
       "      comment_detailed_type  comment_text     division  response_text  \\\n",
       "0                 subtype_1  comment_text   division_1  response_text   \n",
       "1                 subtype_2  comment_text   division_2  response_text   \n",
       "2                 subtype_3  comment_text   division_3  response_text   \n",
       "3                 subtype_3  comment_text   division_3  response_text   \n",
       "4                 subtype_4  comment_text   division_4  response_text   \n",
       "...                     ...           ...          ...            ...   \n",
       "37361            subtype_24  comment_text          NaN  response_text   \n",
       "37362            subtype_17  comment_text  division_67  response_text   \n",
       "37363            subtype_12  comment_text  division_11  response_text   \n",
       "37364            subtype_12  comment_text  division_18  response_text   \n",
       "37365            subtype_17  comment_text   division_3  response_text   \n",
       "\n",
       "           response_author       response_date comment_status  \\\n",
       "0        response_author_1 2022-06-08 08:08:33       accepted   \n",
       "1        response_author_2 2022-06-14 12:07:00          fixed   \n",
       "2        response_author_3 2022-06-30 12:40:26          fixed   \n",
       "3        response_author_3 2022-06-30 12:42:23          fixed   \n",
       "4        response_author_4 2022-06-06 12:33:28       accepted   \n",
       "...                    ...                 ...            ...   \n",
       "37361  response_author_367 2023-05-31 13:02:05   not_accepted   \n",
       "37362  response_author_181 2023-05-31 08:43:17          fixed   \n",
       "37363   response_author_30 2023-06-01 10:35:32          fixed   \n",
       "37364   response_author_32 2023-06-02 07:35:22       accepted   \n",
       "37365  response_author_448 2023-06-01 07:19:10          fixed   \n",
       "\n",
       "          comment_author doc_rev  num_of_pages  \n",
       "0                    NaN     NaN           NaN  \n",
       "1                    NaN     NaN           NaN  \n",
       "2                    NaN     NaN           NaN  \n",
       "3                    NaN     NaN           NaN  \n",
       "4                    NaN     NaN           NaN  \n",
       "...                  ...     ...           ...  \n",
       "37361  comment_author_19      01          26.0  \n",
       "37362  comment_author_21      04          27.0  \n",
       "37363  comment_author_17      04         282.0  \n",
       "37364  comment_author_17      05          29.0  \n",
       "37365  comment_author_21      01         257.0  \n",
       "\n",
       "[37366 rows x 18 columns]"
      ]
     },
     "execution_count": 54,
     "metadata": {},
     "output_type": "execute_result"
    }
   ],
   "source": [
    "df"
   ]
  },
  {
   "cell_type": "code",
   "execution_count": 55,
   "id": "173ec682",
   "metadata": {
    "scrolled": true
   },
   "outputs": [
    {
     "data": {
      "text/plain": [
       "system_id                0.000000\n",
       "comment_creation_date    0.000000\n",
       "project_name             0.000000\n",
       "set_id                   0.019831\n",
       "doc_id                   0.055505\n",
       "set_rev                  0.000000\n",
       "doc_name                 0.055505\n",
       "comment_type             0.000027\n",
       "comment_detailed_type    0.000401\n",
       "comment_text             0.000000\n",
       "division                 0.046727\n",
       "response_text            0.132527\n",
       "response_author          0.177835\n",
       "response_date            0.137291\n",
       "comment_status           0.132366\n",
       "comment_author           0.723760\n",
       "doc_rev                  0.730959\n",
       "num_of_pages             0.694107\n",
       "dtype: float64"
      ]
     },
     "execution_count": 55,
     "metadata": {},
     "output_type": "execute_result"
    }
   ],
   "source": [
    "df.isna().mean()"
   ]
  },
  {
   "attachments": {},
   "cell_type": "markdown",
   "id": "b9ceb82e",
   "metadata": {},
   "source": [
    "# Change comments quantity (extarct **% random sample):"
   ]
  },
  {
   "cell_type": "code",
   "execution_count": 56,
   "id": "807f04e8",
   "metadata": {
    "scrolled": false
   },
   "outputs": [],
   "source": [
    "df_sample = df.sample(int(len(df.index)*(X))).reset_index(drop=True)"
   ]
  },
  {
   "cell_type": "code",
   "execution_count": 57,
   "id": "e6421f9f",
   "metadata": {},
   "outputs": [
    {
     "data": {
      "text/plain": [
       "system_id                0.000000\n",
       "comment_creation_date    0.000000\n",
       "project_name             0.000000\n",
       "set_id                   0.020446\n",
       "doc_id                   0.056950\n",
       "set_rev                  0.000000\n",
       "doc_name                 0.056950\n",
       "comment_type             0.000000\n",
       "comment_detailed_type    0.000214\n",
       "comment_text             0.000000\n",
       "division                 0.046513\n",
       "response_text            0.134507\n",
       "response_author          0.178933\n",
       "response_date            0.139378\n",
       "comment_status           0.134293\n",
       "comment_author           0.723010\n",
       "doc_rev                  0.731360\n",
       "num_of_pages             0.693839\n",
       "dtype: float64"
      ]
     },
     "execution_count": 57,
     "metadata": {},
     "output_type": "execute_result"
    }
   ],
   "source": [
    "df_sample.isna().mean()"
   ]
  },
  {
   "attachments": {},
   "cell_type": "markdown",
   "id": "06143f3d",
   "metadata": {},
   "source": [
    "# Write result file in 'csv'"
   ]
  },
  {
   "cell_type": "code",
   "execution_count": 58,
   "id": "861e908d",
   "metadata": {},
   "outputs": [],
   "source": [
    "df_sample.to_csv(r'.\\data\\result_data.csv', sep=',')"
   ]
  }
 ],
 "metadata": {
  "kernelspec": {
   "display_name": "Python 3 (ipykernel)",
   "language": "python",
   "name": "python3"
  },
  "language_info": {
   "codemirror_mode": {
    "name": "ipython",
    "version": 3
   },
   "file_extension": ".py",
   "mimetype": "text/x-python",
   "name": "python",
   "nbconvert_exporter": "python",
   "pygments_lexer": "ipython3",
   "version": "3.9.16"
  }
 },
 "nbformat": 4,
 "nbformat_minor": 5
}
