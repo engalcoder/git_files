{
 "cells": [
  {
   "cell_type": "code",
   "execution_count": 1,
   "id": "503aa73c-f994-46c3-b6cf-1bd63f827382",
   "metadata": {},
   "outputs": [],
   "source": [
    "import pandas as pd\n",
    "import pandahouse as ph\n",
    "import seaborn as sns\n",
    "import matplotlib.pyplot as plt\n",
    "import numpy as np\n",
    "from scipy import stats\n",
    "%matplotlib inline"
   ]
  },
  {
   "cell_type": "code",
   "execution_count": 2,
   "id": "601f6150-f080-41a5-83b4-00e225b58f48",
   "metadata": {},
   "outputs": [],
   "source": [
    "connection = {'host': 'https://clickhouse.lab.karpov.courses',\n",
    "                      'database':'********************',\n",
    "                      'user':'********', \n",
    "                      'password':'**********'\n",
    "                     }"
   ]
  },
  {
   "attachments": {},
   "cell_type": "markdown",
   "id": "03477026-de77-47cf-8cf8-b7298a2eca19",
   "metadata": {},
   "source": [
    "Эксперимент проходил с 2023-01-31 по 2023-02-06 включительно. Для эксперимента были задействованы 2 и 1 группы. \n",
    "В группе 2 был использован один из новых алгоритмов рекомендации постов, группа 1 использовалась в качестве контроля. \n",
    "Основная гипотеза заключается в том, что новый алгоритм во 2-й группе приведет к увеличению CTR. \n",
    "\n",
    "<b>Задача — проанализировать данные АB-теста</b> "
   ]
  },
  {
   "cell_type": "code",
   "execution_count": 3,
   "id": "e6110676-24ac-408c-af4e-546a14482eb0",
   "metadata": {},
   "outputs": [],
   "source": [
    "# Выбираем пользователей из групп 1 (контрольная) и 2 (экспериментальная) с учетом периода времени AB тестирования нового алгоритма\n",
    "q = \"\"\"\n",
    "SELECT exp_group,\n",
    "    user_id,\n",
    "    sum(action = 'like') as likes,\n",
    "    sum(action = 'view') as views,\n",
    "    likes/views as ctr\n",
    "FROM {db}.feed_actions\n",
    "WHERE toDate(time) >= '2023-01-31' and toDate(time) <= '2023-02-06'\n",
    "    and exp_group in (1,2)\n",
    "GROUP BY exp_group, user_id\n",
    "\"\"\""
   ]
  },
  {
   "cell_type": "code",
   "execution_count": 4,
   "id": "e9bf6e61-93c0-4cc1-9953-b20d512744b6",
   "metadata": {},
   "outputs": [],
   "source": [
    "df = ph.read_clickhouse(q, connection=connection)"
   ]
  },
  {
   "cell_type": "code",
   "execution_count": 5,
   "id": "8d32b36d-53be-4362-8d5b-d4ff034b3e9a",
   "metadata": {},
   "outputs": [],
   "source": [
    "#Settings for graphs\n",
    "sns.set(rc={'figure.figsize':(11.7,8.27)})"
   ]
  },
  {
   "cell_type": "code",
   "execution_count": 6,
   "id": "83f2c35f-88db-48a1-b2bb-151f70d01b67",
   "metadata": {},
   "outputs": [],
   "source": [
    "# significance level\n",
    "alpha = 0.05"
   ]
  },
  {
   "attachments": {},
   "cell_type": "markdown",
   "id": "c2e603ad-c330-43e9-a973-83933c2480f6",
   "metadata": {},
   "source": [
    "Распределение индивидуальных CTR по пользователям в группах 1 (red) и 2 (blue): "
   ]
  },
  {
   "cell_type": "code",
   "execution_count": 7,
   "id": "6294eabe-cd2e-4c6c-b38b-6a2a4523283f",
   "metadata": {},
   "outputs": [
    {
     "data": {
      "text/plain": [
       "<AxesSubplot:xlabel='ctr', ylabel='Count'>"
      ]
     },
     "execution_count": 7,
     "metadata": {},
     "output_type": "execute_result"
    },
    {
     "data": {
      "image/png": "[encoded data removed]",
      "text/plain": [
       "<Figure size 842.4x595.44 with 1 Axes>"
      ]
     },
     "metadata": {},
     "output_type": "display_data"
    }
   ],
   "source": [
    "sns.histplot(data = df,\n",
    "x='ctr',\n",
    "hue='exp_group',\n",
    "palette = ['r', 'b'],\n",
    "alpha=0.5,\n",
    "kde=False)"
   ]
  },
  {
   "cell_type": "code",
   "execution_count": 8,
   "id": "1807fa12-2674-474d-a6dc-757e6709c748",
   "metadata": {},
   "outputs": [
    {
     "data": {
      "text/plain": [
       "<AxesSubplot:xlabel='exp_group', ylabel='ctr'>"
      ]
     },
     "execution_count": 8,
     "metadata": {},
     "output_type": "execute_result"
    },
    {
     "data": {
      "image/png": "[encoded data removed]",
      "text/plain": [
       "<Figure size 842.4x595.44 with 1 Axes>"
      ]
     },
     "metadata": {},
     "output_type": "display_data"
    }
   ],
   "source": [
    "sns.boxplot(data=df, y='ctr', x='exp_group', palette = ['r', 'b'])"
   ]
  },
  {
   "attachments": {},
   "cell_type": "markdown",
   "id": "79bd8886-d407-4202-84e4-1344ea1fd20e",
   "metadata": {},
   "source": [
    "На основании графика box plot отмечаем, что медианное значение CTR у группы 2 (экспериментальная) по своему значению меньше, чем у группы 1 (контрольная). "
   ]
  },
  {
   "attachments": {},
   "cell_type": "markdown",
   "id": "d44fc1fa-2890-40d2-966e-ed743ad8b86f",
   "metadata": {},
   "source": [
    "1. Выполним анализ при помощи <b>t-test</b>:"
   ]
  },
  {
   "cell_type": "code",
   "execution_count": 9,
   "id": "26ae128e-e2f7-4935-a15f-90355c2e58ab",
   "metadata": {},
   "outputs": [],
   "source": [
    "#t-test\n",
    "t_score, p_value = stats.ttest_ind(df[df.exp_group == 1].ctr,\n",
    "                    df[df.exp_group == 2].ctr,\n",
    "                    equal_var=False)"
   ]
  },
  {
   "cell_type": "code",
   "execution_count": 10,
   "id": "a842d08e-c91f-41bb-b6b6-06dd281578a2",
   "metadata": {},
   "outputs": [
    {
     "name": "stdout",
     "output_type": "stream",
     "text": [
      "Значение статистики t-test: 0.7094392041270486 Значение p-value: 0.4780623130874935\n"
     ]
    }
   ],
   "source": [
    "print('Значение статистики t-test:', t_score, 'Значение p-value:', p_value)"
   ]
  },
  {
   "cell_type": "code",
   "execution_count": 11,
   "id": "d599a981-2382-4af7-b0b2-b75899b7e949",
   "metadata": {},
   "outputs": [
    {
     "data": {
      "text/plain": [
       "1.9599876712934454"
      ]
     },
     "execution_count": 11,
     "metadata": {},
     "output_type": "execute_result"
    }
   ],
   "source": [
    "# Critical t-test value\n",
    "stats.t.ppf(1 - alpha / 2, df[df.exp_group.isin([1, 2])].size - 2)"
   ]
  },
  {
   "attachments": {},
   "cell_type": "markdown",
   "id": "76a9464b-0052-4324-aaf4-33deb1895d37",
   "metadata": {},
   "source": [
    "Описание результата t-test: значение полученной статистики меньше критического значения, а значение p-value значительно выше принятого уровня значимоти 0.05. Следовательно нет оснований отвергнуть нулевую гипотезу о равенстве средних генеральных совокупностей. Однако, следует отметить, что характер распределения для группы 2 заметно отличается от нормального, поэтому корректность результатов t-testа следует оставить под вопросом."
   ]
  },
  {
   "attachments": {},
   "cell_type": "markdown",
   "id": "8fcb3913-a086-4184-8071-0f8aa763d34e",
   "metadata": {},
   "source": [
    "2. Выполним анализ при помощи теста <b>Манна-Уитни</b>:"
   ]
  },
  {
   "cell_type": "code",
   "execution_count": 12,
   "id": "235e8e76-90c9-4ffa-8643-8c256a1768fc",
   "metadata": {
    "tags": []
   },
   "outputs": [
    {
     "data": {
      "text/plain": [
       "MannwhitneyuResult(statistic=56601260.5, pvalue=6.0376484617779035e-56)"
      ]
     },
     "execution_count": 12,
     "metadata": {},
     "output_type": "execute_result"
    }
   ],
   "source": [
    "# Mann-Whitney test\n",
    "stats.mannwhitneyu(df[df.exp_group == 1].ctr,\n",
    "df[df.exp_group == 2].ctr,\n",
    "alternative = 'two-sided')"
   ]
  },
  {
   "attachments": {},
   "cell_type": "markdown",
   "id": "e94f0c85-e1ac-4219-975b-7265d64c5c1b",
   "metadata": {},
   "source": [
    "Описание результата теста Манна-Уитни: значение p-value значительно ниже принятого уровня значимоти 0.05. Следовательно есть основания отвергнуть нулевую гипотезу о равенстве средних генеральных совокупностей."
   ]
  },
  {
   "attachments": {},
   "cell_type": "markdown",
   "id": "74df78b0-0d3f-4c55-909c-b569fbc436d1",
   "metadata": {},
   "source": [
    "3. <b>Пуассоновский бутстреп<b/>"
   ]
  },
  {
   "attachments": {},
   "cell_type": "markdown",
   "id": "446a2ca7-f8a0-4d66-be89-f16140be25bb",
   "metadata": {},
   "source": [
    "Учитывая результаты теста Манна-Уитни оценим разность глобальных CTR для рассматриваемых групп 1 и 2:"
   ]
  },
  {
   "cell_type": "code",
   "execution_count": 13,
   "id": "17813ed3-298e-47b6-826e-e46d07227d5c",
   "metadata": {},
   "outputs": [],
   "source": [
    "def bootstrap(likes1, views1, likes2, views2, n_bootstrap=2000):\n",
    "    \n",
    "    poisson_bootstraps1 = stats.poisson(1).rvs(\n",
    "    (n_bootstrap, len(likes1))).astype(np.int64)\n",
    "    \n",
    "    poisson_bootstraps2 = stats.poisson(1).rvs(\n",
    "    (n_bootstrap, len(likes2))).astype(np.int64)\n",
    "    \n",
    "    globalCTR1 = (poisson_bootstraps1 * likes1).sum(axis=1) / (poisson_bootstraps1 * views1).sum(axis=1)\n",
    "    globalCTR2 = (poisson_bootstraps2 * likes2).sum(axis=1) / (poisson_bootstraps2 * views2).sum(axis=1)\n",
    "    \n",
    "    return globalCTR1, globalCTR2"
   ]
  },
  {
   "cell_type": "code",
   "execution_count": 14,
   "id": "7b7af2b2-14fc-4f5c-bd5f-611591cd7c9c",
   "metadata": {},
   "outputs": [],
   "source": [
    "likes1 = df[df.exp_group == 1].likes.to_numpy()\n",
    "views1 = df[df.exp_group == 1].views.to_numpy()\n",
    "likes2 = df[df.exp_group == 2].likes.to_numpy()\n",
    "views2 = df[df.exp_group == 2].views.to_numpy()\n",
    "ctr1, ctr2 = bootstrap(likes1, views1, likes2, views2)"
   ]
  },
  {
   "cell_type": "code",
   "execution_count": 15,
   "id": "4376386e-cb8e-41b7-a734-31bea9542dc9",
   "metadata": {},
   "outputs": [
    {
     "data": {
      "text/plain": [
       "<AxesSubplot:ylabel='Count'>"
      ]
     },
     "execution_count": 15,
     "metadata": {},
     "output_type": "execute_result"
    },
    {
     "data": {
      "image/png": "[encoded data removed]",
      "text/plain": [
       "<Figure size 842.4x595.44 with 1 Axes>"
      ]
     },
     "metadata": {},
     "output_type": "display_data"
    }
   ],
   "source": [
    "#1st group (red) - control\n",
    "sns.histplot(data = ctr1,\n",
    "alpha=0.5,\n",
    "color='r',\n",
    "kde=False)\n",
    "\n",
    "#2nd group (blue) - new algorytm\n",
    "sns.histplot(data = ctr2,\n",
    "alpha=0.5,\n",
    "color='b',\n",
    "kde=False)"
   ]
  },
  {
   "attachments": {},
   "cell_type": "markdown",
   "id": "4a671238-260d-4eab-bb34-a800abe7dd57",
   "metadata": {},
   "source": [
    "График разности глобальных CTR для рассматриваемых групп 1 и 2:"
   ]
  },
  {
   "cell_type": "code",
   "execution_count": 16,
   "id": "83df5c5b-a59c-4f4d-9112-0d1d6b9667ed",
   "metadata": {},
   "outputs": [
    {
     "data": {
      "text/plain": [
       "<AxesSubplot:ylabel='Count'>"
      ]
     },
     "execution_count": 16,
     "metadata": {},
     "output_type": "execute_result"
    },
    {
     "data": {
      "image/png": "[encoded data removed]",
      "text/plain": [
       "<Figure size 842.4x595.44 with 1 Axes>"
      ]
     },
     "metadata": {},
     "output_type": "display_data"
    }
   ],
   "source": [
    "sns.histplot(ctr2 - ctr1)"
   ]
  },
  {
   "attachments": {},
   "cell_type": "markdown",
   "id": "c5372648-b6c7-40e7-b093-62fe8e6697bf",
   "metadata": {},
   "source": [
    "<b>Выводы</b>: для анализа были применены методы Манна-Уитни и Пуассоновский бутстреп. Результаты анализа показали, что при выбранном уровне значимости 0.05 существуют статистически значимые отличия между распределениями CTR групп 1 и 2. С помощью Пуассоновского бутстрепа было оценено смещение распределения групповых CTR экспериментальной группы 2 относительно контрольной группы 1 - оно оказалось отрицательным. Это означает, что по итогам эксперимента имеет место негативный эффект, приводящий к ухудшению группового CTR.<br>\n",
    "Следовательно новый алгоритм рекомендаций \"похожих на лайкнутые постов\" внедрять не стоит.<br>\n",
    "Учитывая характер получившегося распределения пользовательских CTR (первая гисторамма) можно предположить, что в реализованном алгоритме не быди учтены эффекты, которые в процессе AB тестирования побудили людей разделиться на две неравные группы (например, пользователи из РФ начали получать в качестве рекомендаций похожие по содержанию на ранее лайкнутые новости, но из других стран)."
   ]
  }
 ],
 "metadata": {
  "kernelspec": {
   "display_name": "Python 3 (ipykernel)",
   "language": "python",
   "name": "python3"
  },
  "language_info": {
   "codemirror_mode": {
    "name": "ipython",
    "version": 3
   },
   "file_extension": ".py",
   "mimetype": "text/x-python",
   "name": "python",
   "nbconvert_exporter": "python",
   "pygments_lexer": "ipython3",
   "version": "3.8.10"
  }
 },
 "nbformat": 4,
 "nbformat_minor": 5
}
