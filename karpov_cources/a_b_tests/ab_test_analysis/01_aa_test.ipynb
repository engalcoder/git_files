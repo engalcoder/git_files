{
 "cells": [
  {
   "cell_type": "code",
   "execution_count": 1,
   "id": "3e2e5d1c-6df1-44d9-a373-c37eb7915706",
   "metadata": {},
   "outputs": [],
   "source": [
    "import pandas as pd\n",
    "import pandahouse as ph\n",
    "import seaborn as sns\n",
    "import matplotlib.pyplot as plt\n",
    "import numpy as np\n",
    "from scipy import stats\n",
    "%matplotlib inline"
   ]
  },
  {
   "cell_type": "code",
   "execution_count": 2,
   "id": "4ada5a1a-b4a0-4b61-a68b-b891bb691dbc",
   "metadata": {},
   "outputs": [],
   "source": [
    "#Settings for graphs\n",
    "sns.set(rc={'figure.figsize':(11.7,8.27)})"
   ]
  },
  {
   "cell_type": "code",
   "execution_count": 3,
   "id": "488b1f77-53fd-4675-a550-6f7462d5dbab",
   "metadata": {},
   "outputs": [],
   "source": [
    "connection = {'host': 'https://clickhouse.lab.karpov.courses',\n",
    "                      'database':'********************',\n",
    "                      'user':'********', \n",
    "                      'password':'**********'\n",
    "                     }"
   ]
  },
  {
   "cell_type": "code",
   "execution_count": 4,
   "id": "541952ea-9c3b-427f-8122-9fd6df5ab679",
   "metadata": {},
   "outputs": [],
   "source": [
    "# SQL query\n",
    "q = \"\"\"\n",
    "SELECT exp_group,\n",
    "    user_id,\n",
    "    sum(action = 'like') as likes,\n",
    "    sum(action = 'view') as views,\n",
    "    likes/views as ctr\n",
    "FROM {db}.feed_actions\n",
    "WHERE toDate(time) >= '2023-01-24' and toDate(time) <= '2023-01-30'\n",
    "    and exp_group in (2,3)\n",
    "GROUP BY exp_group, user_id\n",
    "\"\"\""
   ]
  },
  {
   "cell_type": "code",
   "execution_count": 5,
   "id": "a6228317-9506-4d71-9c8e-02a0758289be",
   "metadata": {},
   "outputs": [],
   "source": [
    "df = ph.read_clickhouse(q, connection=connection)"
   ]
  },
  {
   "cell_type": "code",
   "execution_count": 6,
   "id": "9297cd9d-6fb6-4642-bbbe-73f30f0e3017",
   "metadata": {},
   "outputs": [
    {
     "data": {
      "text/html": [
       "<div>\n",
       "<style scoped>\n",
       "    .dataframe tbody tr th:only-of-type {\n",
       "        vertical-align: middle;\n",
       "    }\n",
       "\n",
       "    .dataframe tbody tr th {\n",
       "        vertical-align: top;\n",
       "    }\n",
       "\n",
       "    .dataframe thead th {\n",
       "        text-align: right;\n",
       "    }\n",
       "</style>\n",
       "<table border=\"1\" class=\"dataframe\">\n",
       "  <thead>\n",
       "    <tr style=\"text-align: right;\">\n",
       "      <th></th>\n",
       "      <th>exp_group</th>\n",
       "      <th>user_id</th>\n",
       "      <th>likes</th>\n",
       "      <th>views</th>\n",
       "      <th>ctr</th>\n",
       "    </tr>\n",
       "  </thead>\n",
       "  <tbody>\n",
       "    <tr>\n",
       "      <th>0</th>\n",
       "      <td>3</td>\n",
       "      <td>115383</td>\n",
       "      <td>11</td>\n",
       "      <td>36</td>\n",
       "      <td>0.305556</td>\n",
       "    </tr>\n",
       "    <tr>\n",
       "      <th>1</th>\n",
       "      <td>3</td>\n",
       "      <td>123580</td>\n",
       "      <td>15</td>\n",
       "      <td>92</td>\n",
       "      <td>0.163043</td>\n",
       "    </tr>\n",
       "    <tr>\n",
       "      <th>2</th>\n",
       "      <td>2</td>\n",
       "      <td>131473</td>\n",
       "      <td>26</td>\n",
       "      <td>148</td>\n",
       "      <td>0.175676</td>\n",
       "    </tr>\n",
       "    <tr>\n",
       "      <th>3</th>\n",
       "      <td>2</td>\n",
       "      <td>23985</td>\n",
       "      <td>12</td>\n",
       "      <td>66</td>\n",
       "      <td>0.181818</td>\n",
       "    </tr>\n",
       "    <tr>\n",
       "      <th>4</th>\n",
       "      <td>2</td>\n",
       "      <td>24523</td>\n",
       "      <td>17</td>\n",
       "      <td>120</td>\n",
       "      <td>0.141667</td>\n",
       "    </tr>\n",
       "    <tr>\n",
       "      <th>...</th>\n",
       "      <td>...</td>\n",
       "      <td>...</td>\n",
       "      <td>...</td>\n",
       "      <td>...</td>\n",
       "      <td>...</td>\n",
       "    </tr>\n",
       "    <tr>\n",
       "      <th>17044</th>\n",
       "      <td>3</td>\n",
       "      <td>122008</td>\n",
       "      <td>4</td>\n",
       "      <td>31</td>\n",
       "      <td>0.129032</td>\n",
       "    </tr>\n",
       "    <tr>\n",
       "      <th>17045</th>\n",
       "      <td>2</td>\n",
       "      <td>25383</td>\n",
       "      <td>16</td>\n",
       "      <td>57</td>\n",
       "      <td>0.280702</td>\n",
       "    </tr>\n",
       "    <tr>\n",
       "      <th>17046</th>\n",
       "      <td>3</td>\n",
       "      <td>122190</td>\n",
       "      <td>25</td>\n",
       "      <td>74</td>\n",
       "      <td>0.337838</td>\n",
       "    </tr>\n",
       "    <tr>\n",
       "      <th>17047</th>\n",
       "      <td>2</td>\n",
       "      <td>108927</td>\n",
       "      <td>8</td>\n",
       "      <td>33</td>\n",
       "      <td>0.242424</td>\n",
       "    </tr>\n",
       "    <tr>\n",
       "      <th>17048</th>\n",
       "      <td>2</td>\n",
       "      <td>17310</td>\n",
       "      <td>2</td>\n",
       "      <td>14</td>\n",
       "      <td>0.142857</td>\n",
       "    </tr>\n",
       "  </tbody>\n",
       "</table>\n",
       "<p>17049 rows × 5 columns</p>\n",
       "</div>"
      ],
      "text/plain": [
       "       exp_group  user_id  likes  views       ctr\n",
       "0              3   115383     11     36  0.305556\n",
       "1              3   123580     15     92  0.163043\n",
       "2              2   131473     26    148  0.175676\n",
       "3              2    23985     12     66  0.181818\n",
       "4              2    24523     17    120  0.141667\n",
       "...          ...      ...    ...    ...       ...\n",
       "17044          3   122008      4     31  0.129032\n",
       "17045          2    25383     16     57  0.280702\n",
       "17046          3   122190     25     74  0.337838\n",
       "17047          2   108927      8     33  0.242424\n",
       "17048          2    17310      2     14  0.142857\n",
       "\n",
       "[17049 rows x 5 columns]"
      ]
     },
     "execution_count": 6,
     "metadata": {},
     "output_type": "execute_result"
    }
   ],
   "source": [
    "# DataFrame extracted from DB by SQL query\n",
    "df"
   ]
  },
  {
   "attachments": {},
   "cell_type": "markdown",
   "id": "993b3c76-993d-4fc3-8365-f368ad058d2a",
   "metadata": {},
   "source": [
    "Построим графики распределений пользовательских CTR для групп 2 и 3:"
   ]
  },
  {
   "cell_type": "code",
   "execution_count": 7,
   "id": "c976ed3e-8a15-47de-9897-2eb02252cd3b",
   "metadata": {},
   "outputs": [
    {
     "data": {
      "image/png": "[encoded data removed]",
      "text/plain": [
       "<Figure size 842.4x595.44 with 1 Axes>"
      ]
     },
     "metadata": {},
     "output_type": "display_data"
    }
   ],
   "source": [
    "groups = sns.histplot(data = df,\n",
    "x='ctr',\n",
    "hue='exp_group',\n",
    "palette = ['r', 'b'],\n",
    "alpha=0.5,\n",
    "kde=False)"
   ]
  },
  {
   "cell_type": "code",
   "execution_count": 8,
   "id": "abb6d978-9f1f-468e-a197-3a449aa1cfab",
   "metadata": {},
   "outputs": [
    {
     "data": {
      "text/plain": [
       "<AxesSubplot:xlabel='exp_group', ylabel='ctr'>"
      ]
     },
     "execution_count": 8,
     "metadata": {},
     "output_type": "execute_result"
    },
    {
     "data": {
      "image/png": "[encoded data removed]",
      "text/plain": [
       "<Figure size 842.4x595.44 with 1 Axes>"
      ]
     },
     "metadata": {},
     "output_type": "display_data"
    }
   ],
   "source": [
    "sns.boxplot(data=df, y='ctr', x='exp_group', palette = ['r', 'b'])"
   ]
  },
  {
   "attachments": {},
   "cell_type": "markdown",
   "id": "e957016a-1cf1-4b39-8aef-730ec7b2ddf3",
   "metadata": {},
   "source": [
    "Визуально распредления значений CTR для групп 2 и 3, а также средние (медианные) значения выглядят практически одинаковыми. Характер распределений для групп близок к нормальному, можем воспользоваться t-testом для проверки гипотезы о равенстве средних значений этих двух выборок. Примем уровень статистической значимости равным 5% (0.05):"
   ]
  },
  {
   "cell_type": "code",
   "execution_count": 9,
   "id": "0e199fbf-0f75-4f19-8137-8e60fafeb610",
   "metadata": {},
   "outputs": [],
   "source": [
    "alpha = 0.05"
   ]
  },
  {
   "attachments": {},
   "cell_type": "markdown",
   "id": "d5380cc2-4bac-48a3-873e-9b759532fcc9",
   "metadata": {},
   "source": [
    "<b>AA-тест</b>"
   ]
  },
  {
   "attachments": {},
   "cell_type": "markdown",
   "id": "7623969a-cee7-4da1-a812-4188d8a557e3",
   "metadata": {},
   "source": [
    "1. Для 10000 случайных выборок проведем оценку в скольки % случаях случайно выбранное значение пользовательского CTR из группы 2 больше, чем случайно выбранное значение из группы 3:"
   ]
  },
  {
   "cell_type": "code",
   "execution_count": 10,
   "id": "1ef6ccd8-d8a9-4093-b742-30c4294b55d6",
   "metadata": {},
   "outputs": [],
   "source": [
    "A_gt_B = 0\n",
    "for _ in range(10000):\n",
    "    A_gt_B+= df[df.exp_group == 2].ctr.sample().values[0] > df[df.exp_group == 3].ctr.sample().values[0]"
   ]
  },
  {
   "attachments": {},
   "cell_type": "markdown",
   "id": "2358764e-7864-4fe2-8855-1641f9ce0027",
   "metadata": {},
   "source": [
    "В случае, если значимых различий между группами 2 и 3 нет, получим значение близкое к 50%:"
   ]
  },
  {
   "cell_type": "code",
   "execution_count": 11,
   "id": "e30800b4-cf9e-48cc-9d77-d7f73c44decb",
   "metadata": {},
   "outputs": [
    {
     "name": "stdout",
     "output_type": "stream",
     "text": [
      "49.51 %\n"
     ]
    }
   ],
   "source": [
    "print(A_gt_B/100, '%')"
   ]
  },
  {
   "attachments": {},
   "cell_type": "markdown",
   "id": "9aa1cd33-dc4b-46e3-8a75-a0f11c977d31",
   "metadata": {},
   "source": [
    "2. Сравним распределения пользовательских CTR для групп 2 и 3 при помощи t-test:"
   ]
  },
  {
   "cell_type": "code",
   "execution_count": 12,
   "id": "d6aa4941-83a7-4ad2-9909-bf8fc34f4dc1",
   "metadata": {
    "tags": []
   },
   "outputs": [
    {
     "data": {
      "text/plain": [
       "Ttest_indResult(statistic=-0.7393597924958364, pvalue=0.45969873156476293)"
      ]
     },
     "execution_count": 12,
     "metadata": {},
     "output_type": "execute_result"
    }
   ],
   "source": [
    "stats.ttest_ind(df[df.exp_group == 2].ctr,\n",
    "                df[df.exp_group == 3].ctr,\n",
    "                equal_var=False)"
   ]
  },
  {
   "attachments": {},
   "cell_type": "markdown",
   "id": "ba13c0f6-4a16-424c-9411-ae4ddef3e53a",
   "metadata": {},
   "source": [
    "3. Выполним симуляцию 10000 АА-тестов. На каждой итерации сформируем подвыборки без повторения в 500 юзеров из 2 и 3 экспериментальной группы. Проведем сравнение этих подвыборок t-testом. "
   ]
  },
  {
   "cell_type": "code",
   "execution_count": 13,
   "id": "26d3f0d2-fd06-4389-b817-a228d0cd0f20",
   "metadata": {},
   "outputs": [],
   "source": [
    "t_scores = []\n",
    "p_values = []\n",
    "for _ in range(10000):\n",
    "    t_score, p_value = stats.ttest_ind(df[df.exp_group == 2].sample(n=500, replace=False).ctr,\n",
    "                df[df.exp_group == 3].sample(n=500, replace=False).ctr,\n",
    "                equal_var=False)\n",
    "    \n",
    "    # Adding each p-value from 10000 t-test iterations to array: \n",
    "    p_values.append(p_value)\n",
    "    t_scores.append(t_score)"
   ]
  },
  {
   "attachments": {},
   "cell_type": "markdown",
   "id": "a566705b-f3c0-4d9e-aebd-0654b35f709b",
   "metadata": {},
   "source": [
    "Построим график получившегося распределения 10000 значений t_score:"
   ]
  },
  {
   "cell_type": "code",
   "execution_count": 14,
   "id": "631acb75-3148-4032-be95-55fb0c3e7122",
   "metadata": {},
   "outputs": [
    {
     "data": {
      "text/plain": [
       "Text(0, 0.5, 'frequency')"
      ]
     },
     "execution_count": 14,
     "metadata": {},
     "output_type": "execute_result"
    },
    {
     "data": {
      "image/png": "[encoded data removed]",
      "text/plain": [
       "<Figure size 842.4x595.44 with 1 Axes>"
      ]
     },
     "metadata": {},
     "output_type": "display_data"
    }
   ],
   "source": [
    "ax = plt.subplots()\n",
    "ax = sns.histplot(data = t_scores,\n",
    "                    bins=50,\n",
    "                    alpha=0.5,\n",
    "                    legend=True,\n",
    "                    kde=False)\n",
    "ax.set_xlabel(\"t-score\")\n",
    "ax.set_ylabel(\"frequency\")"
   ]
  },
  {
   "attachments": {},
   "cell_type": "markdown",
   "id": "cbc33b71-4998-40b9-b4f5-b6fea8da20f5",
   "metadata": {},
   "source": [
    "Построим график получившегося распределения 10000 значений p-value:"
   ]
  },
  {
   "cell_type": "code",
   "execution_count": 15,
   "id": "dedc6235-e197-4ce2-8729-f24acd3b1f16",
   "metadata": {},
   "outputs": [
    {
     "data": {
      "text/plain": [
       "Text(0, 0.5, 'frequency')"
      ]
     },
     "execution_count": 15,
     "metadata": {},
     "output_type": "execute_result"
    },
    {
     "data": {
      "image/png": "[encoded data removed]",
      "text/plain": [
       "<Figure size 842.4x595.44 with 1 Axes>"
      ]
     },
     "metadata": {},
     "output_type": "display_data"
    }
   ],
   "source": [
    "hist, ax = plt.subplots()\n",
    "ax = sns.histplot(data = p_values,\n",
    "                    bins=50,\n",
    "                    alpha=0.5,\n",
    "                    legend=True,\n",
    "                    kde=False)\n",
    "ax.set_xlabel(\"p-value\")\n",
    "ax.set_ylabel(\"frequency\")"
   ]
  },
  {
   "cell_type": "code",
   "execution_count": 16,
   "id": "af0145f1-bada-4bd2-a25d-9b9e0fd8e206",
   "metadata": {
    "tags": []
   },
   "outputs": [
    {
     "data": {
      "image/png": "[encoded data removed]",
      "text/plain": [
       "<Figure size 842.4x595.44 with 1 Axes>"
      ]
     },
     "metadata": {},
     "output_type": "display_data"
    }
   ],
   "source": [
    "def plot_pvalue_distribution(pvalues_aa, alpha):\n",
    "    X = np.linspace(0, 1, 1000)\n",
    "    Y_aa = [np.mean(pvalues_aa < x) for x in X]\n",
    "    \n",
    "    plt.plot(X, Y_aa, label='A/A test result')\n",
    "    \n",
    "    plt.xlabel('p-value', size=12)\n",
    "    plt.legend(fontsize=12)\n",
    "    plt.grid(color='grey', linestyle='-', linewidth=0.5)\n",
    "    plt.show()\n",
    "\n",
    "plot_pvalue_distribution(p_values, alpha)"
   ]
  },
  {
   "attachments": {},
   "cell_type": "markdown",
   "id": "b7c04e12-5dc1-4eb5-9d2c-a42964970fb0",
   "metadata": {},
   "source": [
    "Из графиков видим, что p-values распределены равномерно в диапазоне от 0 до 1."
   ]
  },
  {
   "attachments": {},
   "cell_type": "markdown",
   "id": "e01efdb5-bc0e-4ae7-b6fe-78a8fda7b4f4",
   "metadata": {},
   "source": [
    "Оценим долю p-values, которые меньше либо равны 0.05:"
   ]
  },
  {
   "cell_type": "code",
   "execution_count": 17,
   "id": "4a9accf1-5a8e-4122-991c-a4977cd35a3d",
   "metadata": {},
   "outputs": [
    {
     "data": {
      "text/plain": [
       "469"
      ]
     },
     "execution_count": 17,
     "metadata": {},
     "output_type": "execute_result"
    }
   ],
   "source": [
    "# Count of p values <= 0.05\n",
    "p_val_lim = 0\n",
    "for i in p_values:\n",
    "    if i <= 0.05:\n",
    "        p_val_lim += 1\n",
    "p_val_lim"
   ]
  },
  {
   "cell_type": "code",
   "execution_count": 18,
   "id": "e7bc2159-832a-4a9a-9f25-4e13472049e6",
   "metadata": {},
   "outputs": [
    {
     "name": "stdout",
     "output_type": "stream",
     "text": [
      "Процент p values <= 0.05: 4.6899999999999995 %\n"
     ]
    }
   ],
   "source": [
    "print('Процент p values <= 0.05:', p_val_lim / len(p_values) * 100,'%')"
   ]
  },
  {
   "attachments": {},
   "cell_type": "markdown",
   "id": "1d35b9a2-7f9f-4959-b2dd-a221c1076658",
   "metadata": {},
   "source": [
    "Оценим доверительный интервал:"
   ]
  },
  {
   "cell_type": "code",
   "execution_count": 19,
   "id": "218bbc94-471a-4ed6-88a5-8d8145e9d956",
   "metadata": {},
   "outputs": [],
   "source": [
    "def print_estimated_errors(pvalues_aa, alpha):\n",
    "    # Estimation the probability of errors\n",
    "    estimated_first_type_error = np.mean(pvalues_aa < alpha)\n",
    "    ci_first = estimate_ci_bernoulli(estimated_first_type_error, len(pvalues_aa))\n",
    "    print(f'Оценка вероятности ошибки I рода = {estimated_first_type_error:0.4f}')\n",
    "    print(f'Доверительный интервал = [{ci_first[0]:0.4f}, {ci_first[1]:0.4f}]')"
   ]
  },
  {
   "cell_type": "code",
   "execution_count": 20,
   "id": "e09e05ce-41f5-46be-a95d-11fcacf3f3ef",
   "metadata": {},
   "outputs": [],
   "source": [
    "def estimate_ci_bernoulli(p, n, alpha=0.05):\n",
    "    # Confidence interval for a Bernoulli random variable\n",
    "    t = stats.norm.ppf(1 - alpha / 2, loc=0, scale=1)\n",
    "    std_n = np.sqrt(p * (1 - p) / n)\n",
    "    return p - t * std_n, p + t * std_n"
   ]
  },
  {
   "cell_type": "code",
   "execution_count": 21,
   "id": "bd1bb7c8-7d35-4010-b5c3-ffb18a485822",
   "metadata": {},
   "outputs": [
    {
     "name": "stdout",
     "output_type": "stream",
     "text": [
      "Оценка вероятности ошибки I рода = 0.0469\n",
      "Доверительный интервал = [0.0428, 0.0510]\n"
     ]
    }
   ],
   "source": [
    "pvalues_aa = np.array(p_values)\n",
    "print_estimated_errors(pvalues_aa, alpha)"
   ]
  },
  {
   "attachments": {},
   "cell_type": "markdown",
   "id": "4af42fcf-3a54-4f66-b596-c1031914ee8e",
   "metadata": {},
   "source": [
    "<b>Вывод:</b> доля p-values <= 0.05 составляет менее 5%, следовательно, с учетом принятого уровня статистической значимости = 5%, различия между средними значениями CTR групп 2 и 3 не являются статистически значимыми, а значит система сплитования аботает корректно. Указанные группы принимаем одинаковыми и подтверждаем возможность их использования для AB-тестирования."
   ]
  }
 ],
 "metadata": {
  "kernelspec": {
   "display_name": "Python 3 (ipykernel)",
   "language": "python",
   "name": "python3"
  },
  "language_info": {
   "codemirror_mode": {
    "name": "ipython",
    "version": 3
   },
   "file_extension": ".py",
   "mimetype": "text/x-python",
   "name": "python",
   "nbconvert_exporter": "python",
   "pygments_lexer": "ipython3",
   "version": "3.8.10"
  }
 },
 "nbformat": 4,
 "nbformat_minor": 5
}
