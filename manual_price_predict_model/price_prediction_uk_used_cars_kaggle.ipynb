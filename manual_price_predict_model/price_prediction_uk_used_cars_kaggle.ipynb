{
  "nbformat": 4,
  "nbformat_minor": 0,
  "metadata": {
    "colab": {
      "provenance": []
    },
    "kernelspec": {
      "name": "python3",
      "display_name": "Python 3"
    },
    "language_info": {
      "name": "python"
    }
  },
  "cells": [
    {
      "cell_type": "markdown",
      "source": [
        "#Загрузка данных"
      ],
      "metadata": {
        "id": "Wznb2sXOkp31"
      }
    },
    {
      "cell_type": "markdown",
      "source": [
        "https://drive.google.com/file/d/17drXbvrpEf4PkFsYVdFqAgAAsuzygF4u/view?usp=sharing"
      ],
      "metadata": {
        "id": "N5LNc-2ZWlKP"
      }
    },
    {
      "cell_type": "code",
      "source": [
        "! gdown 17drXbvrpEf4PkFsYVdFqAgAAsuzygF4u"
      ],
      "metadata": {
        "colab": {
          "base_uri": "https://localhost:8080/"
        },
        "id": "5fz80HvuWelm",
        "outputId": "acc24484-96f7-4e60-d000-818d2dc3d54d"
      },
      "execution_count": 1,
      "outputs": [
        {
          "output_type": "stream",
          "name": "stdout",
          "text": [
            "Downloading...\n",
            "From: https://drive.google.com/uc?id=17drXbvrpEf4PkFsYVdFqAgAAsuzygF4u\n",
            "To: /content/uk_used_cars_kaggle.zip\n",
            "\r  0% 0.00/1.15M [00:00<?, ?B/s]\r100% 1.15M/1.15M [00:00<00:00, 99.1MB/s]\n"
          ]
        }
      ]
    },
    {
      "cell_type": "code",
      "source": [
        "! unzip /content/uk_used_cars_kaggle.zip -d /content/uk_used_cars_kaggle"
      ],
      "metadata": {
        "colab": {
          "base_uri": "https://localhost:8080/"
        },
        "id": "LaonmkL9XOLC",
        "outputId": "52526f93-e01e-4b77-d791-7b42ca666b5c"
      },
      "execution_count": 2,
      "outputs": [
        {
          "output_type": "stream",
          "name": "stdout",
          "text": [
            "Archive:  /content/uk_used_cars_kaggle.zip\n",
            "  inflating: /content/uk_used_cars_kaggle/audi.csv  \n",
            "  inflating: /content/uk_used_cars_kaggle/bmw.csv  \n",
            "  inflating: /content/uk_used_cars_kaggle/cclass.csv  \n",
            "  inflating: /content/uk_used_cars_kaggle/focus.csv  \n",
            "  inflating: /content/uk_used_cars_kaggle/ford.csv  \n",
            "  inflating: /content/uk_used_cars_kaggle/hyundi.csv  \n",
            "  inflating: /content/uk_used_cars_kaggle/merc.csv  \n",
            "  inflating: /content/uk_used_cars_kaggle/skoda.csv  \n",
            "  inflating: /content/uk_used_cars_kaggle/toyota.csv  \n",
            "  inflating: /content/uk_used_cars_kaggle/unclean cclass.csv  \n",
            "  inflating: /content/uk_used_cars_kaggle/unclean focus.csv  \n",
            "  inflating: /content/uk_used_cars_kaggle/vauxhall.csv  \n",
            "  inflating: /content/uk_used_cars_kaggle/vw.csv  \n"
          ]
        }
      ]
    },
    {
      "cell_type": "code",
      "source": [
        "import pandas as pd"
      ],
      "metadata": {
        "id": "bSIXLnwNXtMv"
      },
      "execution_count": 3,
      "outputs": []
    },
    {
      "cell_type": "code",
      "source": [
        "df = pd.read_csv('/content/uk_used_cars_kaggle/bmw.csv')"
      ],
      "metadata": {
        "id": "iHAQDxk4Xx6j"
      },
      "execution_count": 4,
      "outputs": []
    },
    {
      "cell_type": "code",
      "source": [
        "df.head()"
      ],
      "metadata": {
        "colab": {
          "base_uri": "https://localhost:8080/",
          "height": 206
        },
        "id": "FCp7u-lzX85Y",
        "outputId": "c0fb4df5-ab36-4d55-9b9a-159b2bb22921"
      },
      "execution_count": 5,
      "outputs": [
        {
          "output_type": "execute_result",
          "data": {
            "text/plain": [
              "       model  year  price transmission  mileage fuelType  tax   mpg  \\\n",
              "0   5 Series  2014  11200    Automatic    67068   Diesel  125  57.6   \n",
              "1   6 Series  2018  27000    Automatic    14827   Petrol  145  42.8   \n",
              "2   5 Series  2016  16000    Automatic    62794   Diesel  160  51.4   \n",
              "3   1 Series  2017  12750    Automatic    26676   Diesel  145  72.4   \n",
              "4   7 Series  2014  14500    Automatic    39554   Diesel  160  50.4   \n",
              "\n",
              "   engineSize  \n",
              "0         2.0  \n",
              "1         2.0  \n",
              "2         3.0  \n",
              "3         1.5  \n",
              "4         3.0  "
            ],
            "text/html": [
              "\n",
              "  <div id=\"df-4751b5c6-067e-4abe-8dab-25b89886df1a\">\n",
              "    <div class=\"colab-df-container\">\n",
              "      <div>\n",
              "<style scoped>\n",
              "    .dataframe tbody tr th:only-of-type {\n",
              "        vertical-align: middle;\n",
              "    }\n",
              "\n",
              "    .dataframe tbody tr th {\n",
              "        vertical-align: top;\n",
              "    }\n",
              "\n",
              "    .dataframe thead th {\n",
              "        text-align: right;\n",
              "    }\n",
              "</style>\n",
              "<table border=\"1\" class=\"dataframe\">\n",
              "  <thead>\n",
              "    <tr style=\"text-align: right;\">\n",
              "      <th></th>\n",
              "      <th>model</th>\n",
              "      <th>year</th>\n",
              "      <th>price</th>\n",
              "      <th>transmission</th>\n",
              "      <th>mileage</th>\n",
              "      <th>fuelType</th>\n",
              "      <th>tax</th>\n",
              "      <th>mpg</th>\n",
              "      <th>engineSize</th>\n",
              "    </tr>\n",
              "  </thead>\n",
              "  <tbody>\n",
              "    <tr>\n",
              "      <th>0</th>\n",
              "      <td>5 Series</td>\n",
              "      <td>2014</td>\n",
              "      <td>11200</td>\n",
              "      <td>Automatic</td>\n",
              "      <td>67068</td>\n",
              "      <td>Diesel</td>\n",
              "      <td>125</td>\n",
              "      <td>57.6</td>\n",
              "      <td>2.0</td>\n",
              "    </tr>\n",
              "    <tr>\n",
              "      <th>1</th>\n",
              "      <td>6 Series</td>\n",
              "      <td>2018</td>\n",
              "      <td>27000</td>\n",
              "      <td>Automatic</td>\n",
              "      <td>14827</td>\n",
              "      <td>Petrol</td>\n",
              "      <td>145</td>\n",
              "      <td>42.8</td>\n",
              "      <td>2.0</td>\n",
              "    </tr>\n",
              "    <tr>\n",
              "      <th>2</th>\n",
              "      <td>5 Series</td>\n",
              "      <td>2016</td>\n",
              "      <td>16000</td>\n",
              "      <td>Automatic</td>\n",
              "      <td>62794</td>\n",
              "      <td>Diesel</td>\n",
              "      <td>160</td>\n",
              "      <td>51.4</td>\n",
              "      <td>3.0</td>\n",
              "    </tr>\n",
              "    <tr>\n",
              "      <th>3</th>\n",
              "      <td>1 Series</td>\n",
              "      <td>2017</td>\n",
              "      <td>12750</td>\n",
              "      <td>Automatic</td>\n",
              "      <td>26676</td>\n",
              "      <td>Diesel</td>\n",
              "      <td>145</td>\n",
              "      <td>72.4</td>\n",
              "      <td>1.5</td>\n",
              "    </tr>\n",
              "    <tr>\n",
              "      <th>4</th>\n",
              "      <td>7 Series</td>\n",
              "      <td>2014</td>\n",
              "      <td>14500</td>\n",
              "      <td>Automatic</td>\n",
              "      <td>39554</td>\n",
              "      <td>Diesel</td>\n",
              "      <td>160</td>\n",
              "      <td>50.4</td>\n",
              "      <td>3.0</td>\n",
              "    </tr>\n",
              "  </tbody>\n",
              "</table>\n",
              "</div>\n",
              "      <button class=\"colab-df-convert\" onclick=\"convertToInteractive('df-4751b5c6-067e-4abe-8dab-25b89886df1a')\"\n",
              "              title=\"Convert this dataframe to an interactive table.\"\n",
              "              style=\"display:none;\">\n",
              "        \n",
              "  <svg xmlns=\"http://www.w3.org/2000/svg\" height=\"24px\"viewBox=\"0 0 24 24\"\n",
              "       width=\"24px\">\n",
              "    <path d=\"M0 0h24v24H0V0z\" fill=\"none\"/>\n",
              "    <path d=\"M18.56 5.44l.94 2.06.94-2.06 2.06-.94-2.06-.94-.94-2.06-.94 2.06-2.06.94zm-11 1L8.5 8.5l.94-2.06 2.06-.94-2.06-.94L8.5 2.5l-.94 2.06-2.06.94zm10 10l.94 2.06.94-2.06 2.06-.94-2.06-.94-.94-2.06-.94 2.06-2.06.94z\"/><path d=\"M17.41 7.96l-1.37-1.37c-.4-.4-.92-.59-1.43-.59-.52 0-1.04.2-1.43.59L10.3 9.45l-7.72 7.72c-.78.78-.78 2.05 0 2.83L4 21.41c.39.39.9.59 1.41.59.51 0 1.02-.2 1.41-.59l7.78-7.78 2.81-2.81c.8-.78.8-2.07 0-2.86zM5.41 20L4 18.59l7.72-7.72 1.47 1.35L5.41 20z\"/>\n",
              "  </svg>\n",
              "      </button>\n",
              "      \n",
              "  <style>\n",
              "    .colab-df-container {\n",
              "      display:flex;\n",
              "      flex-wrap:wrap;\n",
              "      gap: 12px;\n",
              "    }\n",
              "\n",
              "    .colab-df-convert {\n",
              "      background-color: #E8F0FE;\n",
              "      border: none;\n",
              "      border-radius: 50%;\n",
              "      cursor: pointer;\n",
              "      display: none;\n",
              "      fill: #1967D2;\n",
              "      height: 32px;\n",
              "      padding: 0 0 0 0;\n",
              "      width: 32px;\n",
              "    }\n",
              "\n",
              "    .colab-df-convert:hover {\n",
              "      background-color: #E2EBFA;\n",
              "      box-shadow: 0px 1px 2px rgba(60, 64, 67, 0.3), 0px 1px 3px 1px rgba(60, 64, 67, 0.15);\n",
              "      fill: #174EA6;\n",
              "    }\n",
              "\n",
              "    [theme=dark] .colab-df-convert {\n",
              "      background-color: #3B4455;\n",
              "      fill: #D2E3FC;\n",
              "    }\n",
              "\n",
              "    [theme=dark] .colab-df-convert:hover {\n",
              "      background-color: #434B5C;\n",
              "      box-shadow: 0px 1px 3px 1px rgba(0, 0, 0, 0.15);\n",
              "      filter: drop-shadow(0px 1px 2px rgba(0, 0, 0, 0.3));\n",
              "      fill: #FFFFFF;\n",
              "    }\n",
              "  </style>\n",
              "\n",
              "      <script>\n",
              "        const buttonEl =\n",
              "          document.querySelector('#df-4751b5c6-067e-4abe-8dab-25b89886df1a button.colab-df-convert');\n",
              "        buttonEl.style.display =\n",
              "          google.colab.kernel.accessAllowed ? 'block' : 'none';\n",
              "\n",
              "        async function convertToInteractive(key) {\n",
              "          const element = document.querySelector('#df-4751b5c6-067e-4abe-8dab-25b89886df1a');\n",
              "          const dataTable =\n",
              "            await google.colab.kernel.invokeFunction('convertToInteractive',\n",
              "                                                     [key], {});\n",
              "          if (!dataTable) return;\n",
              "\n",
              "          const docLinkHtml = 'Like what you see? Visit the ' +\n",
              "            '<a target=\"_blank\" href=https://colab.research.google.com/notebooks/data_table.ipynb>data table notebook</a>'\n",
              "            + ' to learn more about interactive tables.';\n",
              "          element.innerHTML = '';\n",
              "          dataTable['output_type'] = 'display_data';\n",
              "          await google.colab.output.renderOutput(dataTable, element);\n",
              "          const docLink = document.createElement('div');\n",
              "          docLink.innerHTML = docLinkHtml;\n",
              "          element.appendChild(docLink);\n",
              "        }\n",
              "      </script>\n",
              "    </div>\n",
              "  </div>\n",
              "  "
            ]
          },
          "metadata": {},
          "execution_count": 5
        }
      ]
    },
    {
      "cell_type": "code",
      "source": [
        "len(df)"
      ],
      "metadata": {
        "colab": {
          "base_uri": "https://localhost:8080/"
        },
        "id": "eXT5UbFcX-fx",
        "outputId": "93380858-46cd-417e-99dd-afcccea06299"
      },
      "execution_count": 6,
      "outputs": [
        {
          "output_type": "execute_result",
          "data": {
            "text/plain": [
              "10781"
            ]
          },
          "metadata": {},
          "execution_count": 6
        }
      ]
    },
    {
      "cell_type": "markdown",
      "source": [
        "#Обучающая и тестовая выборка"
      ],
      "metadata": {
        "id": "24XntP4-aGiz"
      }
    },
    {
      "cell_type": "markdown",
      "source": [
        "Выполним разбиение датасета на обучающую (train) и тестовую (test) группы:\n",
        "test - 25%,\n",
        "train - 75%"
      ],
      "metadata": {
        "id": "U-SO4UvFX-DW"
      }
    },
    {
      "cell_type": "code",
      "source": [
        "from sklearn.model_selection import train_test_split"
      ],
      "metadata": {
        "id": "Y3a3ELUhaJGT"
      },
      "execution_count": 7,
      "outputs": []
    },
    {
      "cell_type": "code",
      "source": [
        "train, test = train_test_split(df,random_state=42)"
      ],
      "metadata": {
        "id": "o7oU4N7xaR7W"
      },
      "execution_count": 8,
      "outputs": []
    },
    {
      "cell_type": "code",
      "source": [
        "len(test) / len(df)"
      ],
      "metadata": {
        "colab": {
          "base_uri": "https://localhost:8080/"
        },
        "id": "YupK93uuahhE",
        "outputId": "4e2846a3-407e-4d35-f76f-991b868a7083"
      },
      "execution_count": 9,
      "outputs": [
        {
          "output_type": "execute_result",
          "data": {
            "text/plain": [
              "0.2500695668305352"
            ]
          },
          "metadata": {},
          "execution_count": 9
        }
      ]
    },
    {
      "cell_type": "markdown",
      "source": [
        "#Анализ данных"
      ],
      "metadata": {
        "id": "9CNfRGuYfbf1"
      }
    },
    {
      "cell_type": "markdown",
      "source": [
        "Проверка на наличие пропусков:"
      ],
      "metadata": {
        "id": "rGLrjRr8fj2W"
      }
    },
    {
      "cell_type": "code",
      "source": [
        "df.isna().mean()"
      ],
      "metadata": {
        "colab": {
          "base_uri": "https://localhost:8080/"
        },
        "id": "KOd_pKz2fh12",
        "outputId": "72268a4f-d5c5-4983-f7ef-cd2cb085f32e"
      },
      "execution_count": 10,
      "outputs": [
        {
          "output_type": "execute_result",
          "data": {
            "text/plain": [
              "model           0.0\n",
              "year            0.0\n",
              "price           0.0\n",
              "transmission    0.0\n",
              "mileage         0.0\n",
              "fuelType        0.0\n",
              "tax             0.0\n",
              "mpg             0.0\n",
              "engineSize      0.0\n",
              "dtype: float64"
            ]
          },
          "metadata": {},
          "execution_count": 10
        }
      ]
    },
    {
      "cell_type": "markdown",
      "source": [
        "Визуализация train (гистограмма):"
      ],
      "metadata": {
        "id": "opyyMhrAfv-O"
      }
    },
    {
      "cell_type": "code",
      "source": [
        "import matplotlib.pyplot as plt\n",
        "plt.style.use('dark_background')"
      ],
      "metadata": {
        "id": "VtvIM7NEhOFh"
      },
      "execution_count": 11,
      "outputs": []
    },
    {
      "cell_type": "code",
      "source": [
        "train.price.hist()"
      ],
      "metadata": {
        "colab": {
          "base_uri": "https://localhost:8080/",
          "height": 447
        },
        "id": "KUKIL6Wmg75f",
        "outputId": "fdf7d672-1529-4000-8b8a-2b68b00313cc"
      },
      "execution_count": 12,
      "outputs": [
        {
          "output_type": "execute_result",
          "data": {
            "text/plain": [
              "<Axes: >"
            ]
          },
          "metadata": {},
          "execution_count": 12
        },
        {
          "output_type": "display_data",
          "data": {
            "text/plain": [
              "<Figure size 640x480 with 1 Axes>"
            ],
            "image/png": "[encoded data removed]"
          },
          "metadata": {}
        }
      ]
    },
    {
      "cell_type": "code",
      "source": [
        "train.price.describe()"
      ],
      "metadata": {
        "colab": {
          "base_uri": "https://localhost:8080/"
        },
        "id": "l4-RkV6kiD4p",
        "outputId": "a63b1dbf-0ca3-4c53-a633-2196abadc868"
      },
      "execution_count": 13,
      "outputs": [
        {
          "output_type": "execute_result",
          "data": {
            "text/plain": [
              "count      8085.000000\n",
              "mean      22668.821645\n",
              "std       11469.825387\n",
              "min        1445.000000\n",
              "25%       14800.000000\n",
              "50%       20022.000000\n",
              "75%       27850.000000\n",
              "max      123456.000000\n",
              "Name: price, dtype: float64"
            ]
          },
          "metadata": {},
          "execution_count": 13
        }
      ]
    },
    {
      "cell_type": "markdown",
      "source": [
        "Сводные данные год-цена (train):"
      ],
      "metadata": {
        "id": "tu84YZeTjC10"
      }
    },
    {
      "cell_type": "code",
      "source": [
        "from sqlalchemy.sql.expression import asc\n",
        "train.groupby('year').price.agg(['count','mean','median']).sort_values('year',ascending=False)"
      ],
      "metadata": {
        "colab": {
          "base_uri": "https://localhost:8080/",
          "height": 865
        },
        "id": "2FNcFFL7jMZ5",
        "outputId": "bae61ccc-919f-4aec-b5ad-59790c2c244e"
      },
      "execution_count": 14,
      "outputs": [
        {
          "output_type": "execute_result",
          "data": {
            "text/plain": [
              "      count          mean   median\n",
              "year                              \n",
              "2020    552  35359.445652  32450.5\n",
              "2019   2598  31066.986143  27980.0\n",
              "2018    635  22562.450394  21000.0\n",
              "2017   1296  19205.839506  18299.5\n",
              "2016   1398  16531.655222  15699.5\n",
              "2015    716  15086.536313  14103.5\n",
              "2014    384  13411.333333  12797.5\n",
              "2013    253  11041.347826  10490.0\n",
              "2012     92   9432.923913   8990.0\n",
              "2011     37   8860.297297   8470.0\n",
              "2010     31   7374.129032   6495.0\n",
              "2009     22   6506.090909   5845.0\n",
              "2008     18   6004.666667   5272.5\n",
              "2007     12   5027.833333   4597.5\n",
              "2006     12   5445.250000   3942.5\n",
              "2005      6   5390.166667   4685.0\n",
              "2004      7   7932.857143   3495.0\n",
              "2003      2   9222.500000   9222.5\n",
              "2002      4   3893.500000   3494.5\n",
              "2001      3   7333.333333   5950.0\n",
              "2000      1   1550.000000   1550.0\n",
              "1999      3   3980.000000   3995.0\n",
              "1998      1   3950.000000   3950.0\n",
              "1997      1   3950.000000   3950.0\n",
              "1996      1   5995.000000   5995.0"
            ],
            "text/html": [
              "\n",
              "  <div id=\"df-b4869c41-5372-4cc2-a827-c0ce14a7c54a\">\n",
              "    <div class=\"colab-df-container\">\n",
              "      <div>\n",
              "<style scoped>\n",
              "    .dataframe tbody tr th:only-of-type {\n",
              "        vertical-align: middle;\n",
              "    }\n",
              "\n",
              "    .dataframe tbody tr th {\n",
              "        vertical-align: top;\n",
              "    }\n",
              "\n",
              "    .dataframe thead th {\n",
              "        text-align: right;\n",
              "    }\n",
              "</style>\n",
              "<table border=\"1\" class=\"dataframe\">\n",
              "  <thead>\n",
              "    <tr style=\"text-align: right;\">\n",
              "      <th></th>\n",
              "      <th>count</th>\n",
              "      <th>mean</th>\n",
              "      <th>median</th>\n",
              "    </tr>\n",
              "    <tr>\n",
              "      <th>year</th>\n",
              "      <th></th>\n",
              "      <th></th>\n",
              "      <th></th>\n",
              "    </tr>\n",
              "  </thead>\n",
              "  <tbody>\n",
              "    <tr>\n",
              "      <th>2020</th>\n",
              "      <td>552</td>\n",
              "      <td>35359.445652</td>\n",
              "      <td>32450.5</td>\n",
              "    </tr>\n",
              "    <tr>\n",
              "      <th>2019</th>\n",
              "      <td>2598</td>\n",
              "      <td>31066.986143</td>\n",
              "      <td>27980.0</td>\n",
              "    </tr>\n",
              "    <tr>\n",
              "      <th>2018</th>\n",
              "      <td>635</td>\n",
              "      <td>22562.450394</td>\n",
              "      <td>21000.0</td>\n",
              "    </tr>\n",
              "    <tr>\n",
              "      <th>2017</th>\n",
              "      <td>1296</td>\n",
              "      <td>19205.839506</td>\n",
              "      <td>18299.5</td>\n",
              "    </tr>\n",
              "    <tr>\n",
              "      <th>2016</th>\n",
              "      <td>1398</td>\n",
              "      <td>16531.655222</td>\n",
              "      <td>15699.5</td>\n",
              "    </tr>\n",
              "    <tr>\n",
              "      <th>2015</th>\n",
              "      <td>716</td>\n",
              "      <td>15086.536313</td>\n",
              "      <td>14103.5</td>\n",
              "    </tr>\n",
              "    <tr>\n",
              "      <th>2014</th>\n",
              "      <td>384</td>\n",
              "      <td>13411.333333</td>\n",
              "      <td>12797.5</td>\n",
              "    </tr>\n",
              "    <tr>\n",
              "      <th>2013</th>\n",
              "      <td>253</td>\n",
              "      <td>11041.347826</td>\n",
              "      <td>10490.0</td>\n",
              "    </tr>\n",
              "    <tr>\n",
              "      <th>2012</th>\n",
              "      <td>92</td>\n",
              "      <td>9432.923913</td>\n",
              "      <td>8990.0</td>\n",
              "    </tr>\n",
              "    <tr>\n",
              "      <th>2011</th>\n",
              "      <td>37</td>\n",
              "      <td>8860.297297</td>\n",
              "      <td>8470.0</td>\n",
              "    </tr>\n",
              "    <tr>\n",
              "      <th>2010</th>\n",
              "      <td>31</td>\n",
              "      <td>7374.129032</td>\n",
              "      <td>6495.0</td>\n",
              "    </tr>\n",
              "    <tr>\n",
              "      <th>2009</th>\n",
              "      <td>22</td>\n",
              "      <td>6506.090909</td>\n",
              "      <td>5845.0</td>\n",
              "    </tr>\n",
              "    <tr>\n",
              "      <th>2008</th>\n",
              "      <td>18</td>\n",
              "      <td>6004.666667</td>\n",
              "      <td>5272.5</td>\n",
              "    </tr>\n",
              "    <tr>\n",
              "      <th>2007</th>\n",
              "      <td>12</td>\n",
              "      <td>5027.833333</td>\n",
              "      <td>4597.5</td>\n",
              "    </tr>\n",
              "    <tr>\n",
              "      <th>2006</th>\n",
              "      <td>12</td>\n",
              "      <td>5445.250000</td>\n",
              "      <td>3942.5</td>\n",
              "    </tr>\n",
              "    <tr>\n",
              "      <th>2005</th>\n",
              "      <td>6</td>\n",
              "      <td>5390.166667</td>\n",
              "      <td>4685.0</td>\n",
              "    </tr>\n",
              "    <tr>\n",
              "      <th>2004</th>\n",
              "      <td>7</td>\n",
              "      <td>7932.857143</td>\n",
              "      <td>3495.0</td>\n",
              "    </tr>\n",
              "    <tr>\n",
              "      <th>2003</th>\n",
              "      <td>2</td>\n",
              "      <td>9222.500000</td>\n",
              "      <td>9222.5</td>\n",
              "    </tr>\n",
              "    <tr>\n",
              "      <th>2002</th>\n",
              "      <td>4</td>\n",
              "      <td>3893.500000</td>\n",
              "      <td>3494.5</td>\n",
              "    </tr>\n",
              "    <tr>\n",
              "      <th>2001</th>\n",
              "      <td>3</td>\n",
              "      <td>7333.333333</td>\n",
              "      <td>5950.0</td>\n",
              "    </tr>\n",
              "    <tr>\n",
              "      <th>2000</th>\n",
              "      <td>1</td>\n",
              "      <td>1550.000000</td>\n",
              "      <td>1550.0</td>\n",
              "    </tr>\n",
              "    <tr>\n",
              "      <th>1999</th>\n",
              "      <td>3</td>\n",
              "      <td>3980.000000</td>\n",
              "      <td>3995.0</td>\n",
              "    </tr>\n",
              "    <tr>\n",
              "      <th>1998</th>\n",
              "      <td>1</td>\n",
              "      <td>3950.000000</td>\n",
              "      <td>3950.0</td>\n",
              "    </tr>\n",
              "    <tr>\n",
              "      <th>1997</th>\n",
              "      <td>1</td>\n",
              "      <td>3950.000000</td>\n",
              "      <td>3950.0</td>\n",
              "    </tr>\n",
              "    <tr>\n",
              "      <th>1996</th>\n",
              "      <td>1</td>\n",
              "      <td>5995.000000</td>\n",
              "      <td>5995.0</td>\n",
              "    </tr>\n",
              "  </tbody>\n",
              "</table>\n",
              "</div>\n",
              "      <button class=\"colab-df-convert\" onclick=\"convertToInteractive('df-b4869c41-5372-4cc2-a827-c0ce14a7c54a')\"\n",
              "              title=\"Convert this dataframe to an interactive table.\"\n",
              "              style=\"display:none;\">\n",
              "        \n",
              "  <svg xmlns=\"http://www.w3.org/2000/svg\" height=\"24px\"viewBox=\"0 0 24 24\"\n",
              "       width=\"24px\">\n",
              "    <path d=\"M0 0h24v24H0V0z\" fill=\"none\"/>\n",
              "    <path d=\"M18.56 5.44l.94 2.06.94-2.06 2.06-.94-2.06-.94-.94-2.06-.94 2.06-2.06.94zm-11 1L8.5 8.5l.94-2.06 2.06-.94-2.06-.94L8.5 2.5l-.94 2.06-2.06.94zm10 10l.94 2.06.94-2.06 2.06-.94-2.06-.94-.94-2.06-.94 2.06-2.06.94z\"/><path d=\"M17.41 7.96l-1.37-1.37c-.4-.4-.92-.59-1.43-.59-.52 0-1.04.2-1.43.59L10.3 9.45l-7.72 7.72c-.78.78-.78 2.05 0 2.83L4 21.41c.39.39.9.59 1.41.59.51 0 1.02-.2 1.41-.59l7.78-7.78 2.81-2.81c.8-.78.8-2.07 0-2.86zM5.41 20L4 18.59l7.72-7.72 1.47 1.35L5.41 20z\"/>\n",
              "  </svg>\n",
              "      </button>\n",
              "      \n",
              "  <style>\n",
              "    .colab-df-container {\n",
              "      display:flex;\n",
              "      flex-wrap:wrap;\n",
              "      gap: 12px;\n",
              "    }\n",
              "\n",
              "    .colab-df-convert {\n",
              "      background-color: #E8F0FE;\n",
              "      border: none;\n",
              "      border-radius: 50%;\n",
              "      cursor: pointer;\n",
              "      display: none;\n",
              "      fill: #1967D2;\n",
              "      height: 32px;\n",
              "      padding: 0 0 0 0;\n",
              "      width: 32px;\n",
              "    }\n",
              "\n",
              "    .colab-df-convert:hover {\n",
              "      background-color: #E2EBFA;\n",
              "      box-shadow: 0px 1px 2px rgba(60, 64, 67, 0.3), 0px 1px 3px 1px rgba(60, 64, 67, 0.15);\n",
              "      fill: #174EA6;\n",
              "    }\n",
              "\n",
              "    [theme=dark] .colab-df-convert {\n",
              "      background-color: #3B4455;\n",
              "      fill: #D2E3FC;\n",
              "    }\n",
              "\n",
              "    [theme=dark] .colab-df-convert:hover {\n",
              "      background-color: #434B5C;\n",
              "      box-shadow: 0px 1px 3px 1px rgba(0, 0, 0, 0.15);\n",
              "      filter: drop-shadow(0px 1px 2px rgba(0, 0, 0, 0.3));\n",
              "      fill: #FFFFFF;\n",
              "    }\n",
              "  </style>\n",
              "\n",
              "      <script>\n",
              "        const buttonEl =\n",
              "          document.querySelector('#df-b4869c41-5372-4cc2-a827-c0ce14a7c54a button.colab-df-convert');\n",
              "        buttonEl.style.display =\n",
              "          google.colab.kernel.accessAllowed ? 'block' : 'none';\n",
              "\n",
              "        async function convertToInteractive(key) {\n",
              "          const element = document.querySelector('#df-b4869c41-5372-4cc2-a827-c0ce14a7c54a');\n",
              "          const dataTable =\n",
              "            await google.colab.kernel.invokeFunction('convertToInteractive',\n",
              "                                                     [key], {});\n",
              "          if (!dataTable) return;\n",
              "\n",
              "          const docLinkHtml = 'Like what you see? Visit the ' +\n",
              "            '<a target=\"_blank\" href=https://colab.research.google.com/notebooks/data_table.ipynb>data table notebook</a>'\n",
              "            + ' to learn more about interactive tables.';\n",
              "          element.innerHTML = '';\n",
              "          dataTable['output_type'] = 'display_data';\n",
              "          await google.colab.output.renderOutput(dataTable, element);\n",
              "          const docLink = document.createElement('div');\n",
              "          docLink.innerHTML = docLinkHtml;\n",
              "          element.appendChild(docLink);\n",
              "        }\n",
              "      </script>\n",
              "    </div>\n",
              "  </div>\n",
              "  "
            ]
          },
          "metadata": {},
          "execution_count": 14
        }
      ]
    },
    {
      "cell_type": "code",
      "source": [
        "train.groupby('year').price.median().plot()"
      ],
      "metadata": {
        "colab": {
          "base_uri": "https://localhost:8080/",
          "height": 466
        },
        "id": "zoUFR5aHk1Fr",
        "outputId": "5de17dec-4618-4aaa-d177-f31562e47493"
      },
      "execution_count": 15,
      "outputs": [
        {
          "output_type": "execute_result",
          "data": {
            "text/plain": [
              "<Axes: xlabel='year'>"
            ]
          },
          "metadata": {},
          "execution_count": 15
        },
        {
          "output_type": "display_data",
          "data": {
            "text/plain": [
              "<Figure size 640x480 with 1 Axes>"
            ],
            "image/png": "[encoded data removed]"
          },
          "metadata": {}
        }
      ]
    },
    {
      "cell_type": "markdown",
      "source": [],
      "metadata": {
        "id": "5AwYf5K9dz4G"
      }
    },
    {
      "cell_type": "markdown",
      "source": [],
      "metadata": {
        "id": "uRs9iZWhdz1i"
      }
    },
    {
      "cell_type": "markdown",
      "source": [
        "#Baseline"
      ],
      "metadata": {
        "id": "sdsp2JG7iTNt"
      }
    },
    {
      "cell_type": "markdown",
      "source": [
        "Модель предсказания стоимости по среднему значению:"
      ],
      "metadata": {
        "id": "1OUsix0poKYC"
      }
    },
    {
      "cell_type": "code",
      "source": [
        "train['price_pred_mean'] = train.price.mean()"
      ],
      "metadata": {
        "id": "NdNhRegqiRmz"
      },
      "execution_count": 16,
      "outputs": []
    },
    {
      "cell_type": "code",
      "source": [
        "train['err'] = train['price_pred_mean'] - train['price']"
      ],
      "metadata": {
        "id": "zI-Fv9r0ipgk"
      },
      "execution_count": 17,
      "outputs": []
    },
    {
      "cell_type": "code",
      "source": [
        "train['err_abs'] = abs(train['err'])"
      ],
      "metadata": {
        "id": "aSeO_h-3i9Bi"
      },
      "execution_count": 18,
      "outputs": []
    },
    {
      "cell_type": "code",
      "source": [
        "train['err_abs'].mean()"
      ],
      "metadata": {
        "colab": {
          "base_uri": "https://localhost:8080/"
        },
        "id": "sA_HUFVZkJfw",
        "outputId": "d6db3a3b-cbca-4b96-f7e0-a9d5c36119a3"
      },
      "execution_count": 19,
      "outputs": [
        {
          "output_type": "execute_result",
          "data": {
            "text/plain": [
              "8450.556631461715"
            ]
          },
          "metadata": {},
          "execution_count": 19
        }
      ]
    },
    {
      "cell_type": "code",
      "source": [
        "train['err_abs_pct'] = train['err_abs'] / train['price']"
      ],
      "metadata": {
        "id": "BLIyHY9fkNeh"
      },
      "execution_count": 20,
      "outputs": []
    },
    {
      "cell_type": "code",
      "source": [
        "train['err_abs_pct'].mean()"
      ],
      "metadata": {
        "colab": {
          "base_uri": "https://localhost:8080/"
        },
        "id": "e0LA_uVrkdIw",
        "outputId": "0dc3a529-3d08-49e3-a309-a9b970626682"
      },
      "execution_count": 21,
      "outputs": [
        {
          "output_type": "execute_result",
          "data": {
            "text/plain": [
              "0.48316912602731443"
            ]
          },
          "metadata": {},
          "execution_count": 21
        }
      ]
    },
    {
      "cell_type": "code",
      "source": [
        "from sklearn.metrics import mean_absolute_error, mean_absolute_percentage_error"
      ],
      "metadata": {
        "id": "uVWNv0Ltk-P4"
      },
      "execution_count": 22,
      "outputs": []
    },
    {
      "cell_type": "markdown",
      "source": [
        "Модель предсказания стоимости по медианному значению:"
      ],
      "metadata": {
        "id": "EcYx6FCooZcy"
      }
    },
    {
      "cell_type": "code",
      "source": [
        "train['price_pred_median'] = train.price.median()"
      ],
      "metadata": {
        "id": "uYp30K8ulHdB"
      },
      "execution_count": 23,
      "outputs": []
    },
    {
      "cell_type": "code",
      "source": [
        "mean_absolute_error(train['price'], train['price_pred_median'])"
      ],
      "metadata": {
        "colab": {
          "base_uri": "https://localhost:8080/"
        },
        "id": "9uXPdR-Kljkl",
        "outputId": "98e0b21c-ce4d-4567-8fb3-fc27c1dcccbf"
      },
      "execution_count": 24,
      "outputs": [
        {
          "output_type": "execute_result",
          "data": {
            "text/plain": [
              "8220.5146567718"
            ]
          },
          "metadata": {},
          "execution_count": 24
        }
      ]
    },
    {
      "cell_type": "code",
      "source": [
        "mean_absolute_percentage_error(train['price'], train['price_pred_median'])"
      ],
      "metadata": {
        "colab": {
          "base_uri": "https://localhost:8080/"
        },
        "id": "K3Yi-mtol1I-",
        "outputId": "4b3d74f5-11ca-43b1-cd4b-941b32fc9635"
      },
      "execution_count": 25,
      "outputs": [
        {
          "output_type": "execute_result",
          "data": {
            "text/plain": [
              "0.41711111879393314"
            ]
          },
          "metadata": {},
          "execution_count": 25
        }
      ]
    },
    {
      "cell_type": "markdown",
      "source": [
        "Медианное значение точнее предсказывает цену авто, принимем его в качестве baseline метрики."
      ],
      "metadata": {
        "id": "gmYevTRymeWK"
      }
    },
    {
      "cell_type": "markdown",
      "source": [
        "Проверим корректность модели предсказания цены baseline на тестовой выборке:"
      ],
      "metadata": {
        "id": "1k8dsGR0mtLH"
      }
    },
    {
      "cell_type": "code",
      "source": [
        "test['price_pred_median'] = train.price.median()"
      ],
      "metadata": {
        "id": "RL38yWErnGyM"
      },
      "execution_count": 26,
      "outputs": []
    },
    {
      "cell_type": "code",
      "source": [
        "test"
      ],
      "metadata": {
        "colab": {
          "base_uri": "https://localhost:8080/",
          "height": 424
        },
        "id": "3aLLDlWfnQuv",
        "outputId": "13031820-90c0-498a-cd48-63dcd59ea347"
      },
      "execution_count": 27,
      "outputs": [
        {
          "output_type": "execute_result",
          "data": {
            "text/plain": [
              "          model  year  price transmission  mileage fuelType  tax    mpg  \\\n",
              "8728   1 Series  2018  15300       Manual    36469   Diesel  150   50.4   \n",
              "761    5 Series  2014  15495    Semi-Auto    51565   Diesel  160   51.4   \n",
              "7209         X3  2019  39875    Semi-Auto     8988   Diesel  150   36.7   \n",
              "6685   2 Series  2019  21730    Automatic     5054   Petrol  145   39.2   \n",
              "8548   2 Series  2018  13799       Manual    13369   Diesel  145   65.7   \n",
              "...         ...   ...    ...          ...      ...      ...  ...    ...   \n",
              "9825   4 Series  2019  25500    Automatic     3250   Petrol  145   48.7   \n",
              "3522   7 Series  2019  52700    Semi-Auto      706   Diesel  145   44.1   \n",
              "9757   3 Series  2017  15795    Automatic    64000   Hybrid    0  134.5   \n",
              "6100   4 Series  2019  29840    Automatic     6000   Diesel  145   60.1   \n",
              "3946   4 Series  2020  34980    Semi-Auto     1000   Petrol  145   48.7   \n",
              "\n",
              "      engineSize  price_pred_median  \n",
              "8728         1.5            20022.0  \n",
              "761          2.0            20022.0  \n",
              "7209         3.0            20022.0  \n",
              "6685         1.5            20022.0  \n",
              "8548         1.5            20022.0  \n",
              "...          ...                ...  \n",
              "9825         2.0            20022.0  \n",
              "3522         3.0            20022.0  \n",
              "9757         2.0            20022.0  \n",
              "6100         2.0            20022.0  \n",
              "3946         2.0            20022.0  \n",
              "\n",
              "[2696 rows x 10 columns]"
            ],
            "text/html": [
              "\n",
              "  <div id=\"df-ec8f016c-90a9-49a0-8ed0-847c7f0b5c90\">\n",
              "    <div class=\"colab-df-container\">\n",
              "      <div>\n",
              "<style scoped>\n",
              "    .dataframe tbody tr th:only-of-type {\n",
              "        vertical-align: middle;\n",
              "    }\n",
              "\n",
              "    .dataframe tbody tr th {\n",
              "        vertical-align: top;\n",
              "    }\n",
              "\n",
              "    .dataframe thead th {\n",
              "        text-align: right;\n",
              "    }\n",
              "</style>\n",
              "<table border=\"1\" class=\"dataframe\">\n",
              "  <thead>\n",
              "    <tr style=\"text-align: right;\">\n",
              "      <th></th>\n",
              "      <th>model</th>\n",
              "      <th>year</th>\n",
              "      <th>price</th>\n",
              "      <th>transmission</th>\n",
              "      <th>mileage</th>\n",
              "      <th>fuelType</th>\n",
              "      <th>tax</th>\n",
              "      <th>mpg</th>\n",
              "      <th>engineSize</th>\n",
              "      <th>price_pred_median</th>\n",
              "    </tr>\n",
              "  </thead>\n",
              "  <tbody>\n",
              "    <tr>\n",
              "      <th>8728</th>\n",
              "      <td>1 Series</td>\n",
              "      <td>2018</td>\n",
              "      <td>15300</td>\n",
              "      <td>Manual</td>\n",
              "      <td>36469</td>\n",
              "      <td>Diesel</td>\n",
              "      <td>150</td>\n",
              "      <td>50.4</td>\n",
              "      <td>1.5</td>\n",
              "      <td>20022.0</td>\n",
              "    </tr>\n",
              "    <tr>\n",
              "      <th>761</th>\n",
              "      <td>5 Series</td>\n",
              "      <td>2014</td>\n",
              "      <td>15495</td>\n",
              "      <td>Semi-Auto</td>\n",
              "      <td>51565</td>\n",
              "      <td>Diesel</td>\n",
              "      <td>160</td>\n",
              "      <td>51.4</td>\n",
              "      <td>2.0</td>\n",
              "      <td>20022.0</td>\n",
              "    </tr>\n",
              "    <tr>\n",
              "      <th>7209</th>\n",
              "      <td>X3</td>\n",
              "      <td>2019</td>\n",
              "      <td>39875</td>\n",
              "      <td>Semi-Auto</td>\n",
              "      <td>8988</td>\n",
              "      <td>Diesel</td>\n",
              "      <td>150</td>\n",
              "      <td>36.7</td>\n",
              "      <td>3.0</td>\n",
              "      <td>20022.0</td>\n",
              "    </tr>\n",
              "    <tr>\n",
              "      <th>6685</th>\n",
              "      <td>2 Series</td>\n",
              "      <td>2019</td>\n",
              "      <td>21730</td>\n",
              "      <td>Automatic</td>\n",
              "      <td>5054</td>\n",
              "      <td>Petrol</td>\n",
              "      <td>145</td>\n",
              "      <td>39.2</td>\n",
              "      <td>1.5</td>\n",
              "      <td>20022.0</td>\n",
              "    </tr>\n",
              "    <tr>\n",
              "      <th>8548</th>\n",
              "      <td>2 Series</td>\n",
              "      <td>2018</td>\n",
              "      <td>13799</td>\n",
              "      <td>Manual</td>\n",
              "      <td>13369</td>\n",
              "      <td>Diesel</td>\n",
              "      <td>145</td>\n",
              "      <td>65.7</td>\n",
              "      <td>1.5</td>\n",
              "      <td>20022.0</td>\n",
              "    </tr>\n",
              "    <tr>\n",
              "      <th>...</th>\n",
              "      <td>...</td>\n",
              "      <td>...</td>\n",
              "      <td>...</td>\n",
              "      <td>...</td>\n",
              "      <td>...</td>\n",
              "      <td>...</td>\n",
              "      <td>...</td>\n",
              "      <td>...</td>\n",
              "      <td>...</td>\n",
              "      <td>...</td>\n",
              "    </tr>\n",
              "    <tr>\n",
              "      <th>9825</th>\n",
              "      <td>4 Series</td>\n",
              "      <td>2019</td>\n",
              "      <td>25500</td>\n",
              "      <td>Automatic</td>\n",
              "      <td>3250</td>\n",
              "      <td>Petrol</td>\n",
              "      <td>145</td>\n",
              "      <td>48.7</td>\n",
              "      <td>2.0</td>\n",
              "      <td>20022.0</td>\n",
              "    </tr>\n",
              "    <tr>\n",
              "      <th>3522</th>\n",
              "      <td>7 Series</td>\n",
              "      <td>2019</td>\n",
              "      <td>52700</td>\n",
              "      <td>Semi-Auto</td>\n",
              "      <td>706</td>\n",
              "      <td>Diesel</td>\n",
              "      <td>145</td>\n",
              "      <td>44.1</td>\n",
              "      <td>3.0</td>\n",
              "      <td>20022.0</td>\n",
              "    </tr>\n",
              "    <tr>\n",
              "      <th>9757</th>\n",
              "      <td>3 Series</td>\n",
              "      <td>2017</td>\n",
              "      <td>15795</td>\n",
              "      <td>Automatic</td>\n",
              "      <td>64000</td>\n",
              "      <td>Hybrid</td>\n",
              "      <td>0</td>\n",
              "      <td>134.5</td>\n",
              "      <td>2.0</td>\n",
              "      <td>20022.0</td>\n",
              "    </tr>\n",
              "    <tr>\n",
              "      <th>6100</th>\n",
              "      <td>4 Series</td>\n",
              "      <td>2019</td>\n",
              "      <td>29840</td>\n",
              "      <td>Automatic</td>\n",
              "      <td>6000</td>\n",
              "      <td>Diesel</td>\n",
              "      <td>145</td>\n",
              "      <td>60.1</td>\n",
              "      <td>2.0</td>\n",
              "      <td>20022.0</td>\n",
              "    </tr>\n",
              "    <tr>\n",
              "      <th>3946</th>\n",
              "      <td>4 Series</td>\n",
              "      <td>2020</td>\n",
              "      <td>34980</td>\n",
              "      <td>Semi-Auto</td>\n",
              "      <td>1000</td>\n",
              "      <td>Petrol</td>\n",
              "      <td>145</td>\n",
              "      <td>48.7</td>\n",
              "      <td>2.0</td>\n",
              "      <td>20022.0</td>\n",
              "    </tr>\n",
              "  </tbody>\n",
              "</table>\n",
              "<p>2696 rows × 10 columns</p>\n",
              "</div>\n",
              "      <button class=\"colab-df-convert\" onclick=\"convertToInteractive('df-ec8f016c-90a9-49a0-8ed0-847c7f0b5c90')\"\n",
              "              title=\"Convert this dataframe to an interactive table.\"\n",
              "              style=\"display:none;\">\n",
              "        \n",
              "  <svg xmlns=\"http://www.w3.org/2000/svg\" height=\"24px\"viewBox=\"0 0 24 24\"\n",
              "       width=\"24px\">\n",
              "    <path d=\"M0 0h24v24H0V0z\" fill=\"none\"/>\n",
              "    <path d=\"M18.56 5.44l.94 2.06.94-2.06 2.06-.94-2.06-.94-.94-2.06-.94 2.06-2.06.94zm-11 1L8.5 8.5l.94-2.06 2.06-.94-2.06-.94L8.5 2.5l-.94 2.06-2.06.94zm10 10l.94 2.06.94-2.06 2.06-.94-2.06-.94-.94-2.06-.94 2.06-2.06.94z\"/><path d=\"M17.41 7.96l-1.37-1.37c-.4-.4-.92-.59-1.43-.59-.52 0-1.04.2-1.43.59L10.3 9.45l-7.72 7.72c-.78.78-.78 2.05 0 2.83L4 21.41c.39.39.9.59 1.41.59.51 0 1.02-.2 1.41-.59l7.78-7.78 2.81-2.81c.8-.78.8-2.07 0-2.86zM5.41 20L4 18.59l7.72-7.72 1.47 1.35L5.41 20z\"/>\n",
              "  </svg>\n",
              "      </button>\n",
              "      \n",
              "  <style>\n",
              "    .colab-df-container {\n",
              "      display:flex;\n",
              "      flex-wrap:wrap;\n",
              "      gap: 12px;\n",
              "    }\n",
              "\n",
              "    .colab-df-convert {\n",
              "      background-color: #E8F0FE;\n",
              "      border: none;\n",
              "      border-radius: 50%;\n",
              "      cursor: pointer;\n",
              "      display: none;\n",
              "      fill: #1967D2;\n",
              "      height: 32px;\n",
              "      padding: 0 0 0 0;\n",
              "      width: 32px;\n",
              "    }\n",
              "\n",
              "    .colab-df-convert:hover {\n",
              "      background-color: #E2EBFA;\n",
              "      box-shadow: 0px 1px 2px rgba(60, 64, 67, 0.3), 0px 1px 3px 1px rgba(60, 64, 67, 0.15);\n",
              "      fill: #174EA6;\n",
              "    }\n",
              "\n",
              "    [theme=dark] .colab-df-convert {\n",
              "      background-color: #3B4455;\n",
              "      fill: #D2E3FC;\n",
              "    }\n",
              "\n",
              "    [theme=dark] .colab-df-convert:hover {\n",
              "      background-color: #434B5C;\n",
              "      box-shadow: 0px 1px 3px 1px rgba(0, 0, 0, 0.15);\n",
              "      filter: drop-shadow(0px 1px 2px rgba(0, 0, 0, 0.3));\n",
              "      fill: #FFFFFF;\n",
              "    }\n",
              "  </style>\n",
              "\n",
              "      <script>\n",
              "        const buttonEl =\n",
              "          document.querySelector('#df-ec8f016c-90a9-49a0-8ed0-847c7f0b5c90 button.colab-df-convert');\n",
              "        buttonEl.style.display =\n",
              "          google.colab.kernel.accessAllowed ? 'block' : 'none';\n",
              "\n",
              "        async function convertToInteractive(key) {\n",
              "          const element = document.querySelector('#df-ec8f016c-90a9-49a0-8ed0-847c7f0b5c90');\n",
              "          const dataTable =\n",
              "            await google.colab.kernel.invokeFunction('convertToInteractive',\n",
              "                                                     [key], {});\n",
              "          if (!dataTable) return;\n",
              "\n",
              "          const docLinkHtml = 'Like what you see? Visit the ' +\n",
              "            '<a target=\"_blank\" href=https://colab.research.google.com/notebooks/data_table.ipynb>data table notebook</a>'\n",
              "            + ' to learn more about interactive tables.';\n",
              "          element.innerHTML = '';\n",
              "          dataTable['output_type'] = 'display_data';\n",
              "          await google.colab.output.renderOutput(dataTable, element);\n",
              "          const docLink = document.createElement('div');\n",
              "          docLink.innerHTML = docLinkHtml;\n",
              "          element.appendChild(docLink);\n",
              "        }\n",
              "      </script>\n",
              "    </div>\n",
              "  </div>\n",
              "  "
            ]
          },
          "metadata": {},
          "execution_count": 27
        }
      ]
    },
    {
      "cell_type": "code",
      "source": [
        "mean_absolute_error(test['price'], test['price_pred_median'])"
      ],
      "metadata": {
        "colab": {
          "base_uri": "https://localhost:8080/"
        },
        "outputId": "a1a89793-e345-4792-c12b-cb2a1fea61c1",
        "id": "T3bYIKLcndUx"
      },
      "execution_count": 28,
      "outputs": [
        {
          "output_type": "execute_result",
          "data": {
            "text/plain": [
              "8211.845697329376"
            ]
          },
          "metadata": {},
          "execution_count": 28
        }
      ]
    },
    {
      "cell_type": "code",
      "source": [
        "mean_absolute_percentage_error(test['price'], test['price_pred_median'])"
      ],
      "metadata": {
        "colab": {
          "base_uri": "https://localhost:8080/"
        },
        "outputId": "8b855fa6-a4ab-4db2-b43f-8c5f1491c84f",
        "id": "4tZDV17fndU0"
      },
      "execution_count": 29,
      "outputs": [
        {
          "output_type": "execute_result",
          "data": {
            "text/plain": [
              "0.409212791738344"
            ]
          },
          "metadata": {},
          "execution_count": 29
        }
      ]
    },
    {
      "cell_type": "markdown",
      "source": [
        "Точность для теста соответствует полученной точности для обучающей выборки. Принимаем, что полученная модель работает на тесте аналогичным образом как и на обучающей выборке."
      ],
      "metadata": {
        "id": "boljkn7Id9gJ"
      }
    },
    {
      "cell_type": "markdown",
      "source": [
        "#Алгоритм на основании года"
      ],
      "metadata": {
        "id": "4MXcu4ZBow5U"
      }
    },
    {
      "cell_type": "code",
      "source": [
        "train.groupby('year')['price'].agg(['count','mean','median'])"
      ],
      "metadata": {
        "colab": {
          "base_uri": "https://localhost:8080/",
          "height": 865
        },
        "id": "5SKAgJEUo4n6",
        "outputId": "b63344f7-2791-4832-b437-5521af33f0b6"
      },
      "execution_count": 30,
      "outputs": [
        {
          "output_type": "execute_result",
          "data": {
            "text/plain": [
              "      count          mean   median\n",
              "year                              \n",
              "1996      1   5995.000000   5995.0\n",
              "1997      1   3950.000000   3950.0\n",
              "1998      1   3950.000000   3950.0\n",
              "1999      3   3980.000000   3995.0\n",
              "2000      1   1550.000000   1550.0\n",
              "2001      3   7333.333333   5950.0\n",
              "2002      4   3893.500000   3494.5\n",
              "2003      2   9222.500000   9222.5\n",
              "2004      7   7932.857143   3495.0\n",
              "2005      6   5390.166667   4685.0\n",
              "2006     12   5445.250000   3942.5\n",
              "2007     12   5027.833333   4597.5\n",
              "2008     18   6004.666667   5272.5\n",
              "2009     22   6506.090909   5845.0\n",
              "2010     31   7374.129032   6495.0\n",
              "2011     37   8860.297297   8470.0\n",
              "2012     92   9432.923913   8990.0\n",
              "2013    253  11041.347826  10490.0\n",
              "2014    384  13411.333333  12797.5\n",
              "2015    716  15086.536313  14103.5\n",
              "2016   1398  16531.655222  15699.5\n",
              "2017   1296  19205.839506  18299.5\n",
              "2018    635  22562.450394  21000.0\n",
              "2019   2598  31066.986143  27980.0\n",
              "2020    552  35359.445652  32450.5"
            ],
            "text/html": [
              "\n",
              "  <div id=\"df-02757810-db90-4117-a85e-c83644cbab3d\">\n",
              "    <div class=\"colab-df-container\">\n",
              "      <div>\n",
              "<style scoped>\n",
              "    .dataframe tbody tr th:only-of-type {\n",
              "        vertical-align: middle;\n",
              "    }\n",
              "\n",
              "    .dataframe tbody tr th {\n",
              "        vertical-align: top;\n",
              "    }\n",
              "\n",
              "    .dataframe thead th {\n",
              "        text-align: right;\n",
              "    }\n",
              "</style>\n",
              "<table border=\"1\" class=\"dataframe\">\n",
              "  <thead>\n",
              "    <tr style=\"text-align: right;\">\n",
              "      <th></th>\n",
              "      <th>count</th>\n",
              "      <th>mean</th>\n",
              "      <th>median</th>\n",
              "    </tr>\n",
              "    <tr>\n",
              "      <th>year</th>\n",
              "      <th></th>\n",
              "      <th></th>\n",
              "      <th></th>\n",
              "    </tr>\n",
              "  </thead>\n",
              "  <tbody>\n",
              "    <tr>\n",
              "      <th>1996</th>\n",
              "      <td>1</td>\n",
              "      <td>5995.000000</td>\n",
              "      <td>5995.0</td>\n",
              "    </tr>\n",
              "    <tr>\n",
              "      <th>1997</th>\n",
              "      <td>1</td>\n",
              "      <td>3950.000000</td>\n",
              "      <td>3950.0</td>\n",
              "    </tr>\n",
              "    <tr>\n",
              "      <th>1998</th>\n",
              "      <td>1</td>\n",
              "      <td>3950.000000</td>\n",
              "      <td>3950.0</td>\n",
              "    </tr>\n",
              "    <tr>\n",
              "      <th>1999</th>\n",
              "      <td>3</td>\n",
              "      <td>3980.000000</td>\n",
              "      <td>3995.0</td>\n",
              "    </tr>\n",
              "    <tr>\n",
              "      <th>2000</th>\n",
              "      <td>1</td>\n",
              "      <td>1550.000000</td>\n",
              "      <td>1550.0</td>\n",
              "    </tr>\n",
              "    <tr>\n",
              "      <th>2001</th>\n",
              "      <td>3</td>\n",
              "      <td>7333.333333</td>\n",
              "      <td>5950.0</td>\n",
              "    </tr>\n",
              "    <tr>\n",
              "      <th>2002</th>\n",
              "      <td>4</td>\n",
              "      <td>3893.500000</td>\n",
              "      <td>3494.5</td>\n",
              "    </tr>\n",
              "    <tr>\n",
              "      <th>2003</th>\n",
              "      <td>2</td>\n",
              "      <td>9222.500000</td>\n",
              "      <td>9222.5</td>\n",
              "    </tr>\n",
              "    <tr>\n",
              "      <th>2004</th>\n",
              "      <td>7</td>\n",
              "      <td>7932.857143</td>\n",
              "      <td>3495.0</td>\n",
              "    </tr>\n",
              "    <tr>\n",
              "      <th>2005</th>\n",
              "      <td>6</td>\n",
              "      <td>5390.166667</td>\n",
              "      <td>4685.0</td>\n",
              "    </tr>\n",
              "    <tr>\n",
              "      <th>2006</th>\n",
              "      <td>12</td>\n",
              "      <td>5445.250000</td>\n",
              "      <td>3942.5</td>\n",
              "    </tr>\n",
              "    <tr>\n",
              "      <th>2007</th>\n",
              "      <td>12</td>\n",
              "      <td>5027.833333</td>\n",
              "      <td>4597.5</td>\n",
              "    </tr>\n",
              "    <tr>\n",
              "      <th>2008</th>\n",
              "      <td>18</td>\n",
              "      <td>6004.666667</td>\n",
              "      <td>5272.5</td>\n",
              "    </tr>\n",
              "    <tr>\n",
              "      <th>2009</th>\n",
              "      <td>22</td>\n",
              "      <td>6506.090909</td>\n",
              "      <td>5845.0</td>\n",
              "    </tr>\n",
              "    <tr>\n",
              "      <th>2010</th>\n",
              "      <td>31</td>\n",
              "      <td>7374.129032</td>\n",
              "      <td>6495.0</td>\n",
              "    </tr>\n",
              "    <tr>\n",
              "      <th>2011</th>\n",
              "      <td>37</td>\n",
              "      <td>8860.297297</td>\n",
              "      <td>8470.0</td>\n",
              "    </tr>\n",
              "    <tr>\n",
              "      <th>2012</th>\n",
              "      <td>92</td>\n",
              "      <td>9432.923913</td>\n",
              "      <td>8990.0</td>\n",
              "    </tr>\n",
              "    <tr>\n",
              "      <th>2013</th>\n",
              "      <td>253</td>\n",
              "      <td>11041.347826</td>\n",
              "      <td>10490.0</td>\n",
              "    </tr>\n",
              "    <tr>\n",
              "      <th>2014</th>\n",
              "      <td>384</td>\n",
              "      <td>13411.333333</td>\n",
              "      <td>12797.5</td>\n",
              "    </tr>\n",
              "    <tr>\n",
              "      <th>2015</th>\n",
              "      <td>716</td>\n",
              "      <td>15086.536313</td>\n",
              "      <td>14103.5</td>\n",
              "    </tr>\n",
              "    <tr>\n",
              "      <th>2016</th>\n",
              "      <td>1398</td>\n",
              "      <td>16531.655222</td>\n",
              "      <td>15699.5</td>\n",
              "    </tr>\n",
              "    <tr>\n",
              "      <th>2017</th>\n",
              "      <td>1296</td>\n",
              "      <td>19205.839506</td>\n",
              "      <td>18299.5</td>\n",
              "    </tr>\n",
              "    <tr>\n",
              "      <th>2018</th>\n",
              "      <td>635</td>\n",
              "      <td>22562.450394</td>\n",
              "      <td>21000.0</td>\n",
              "    </tr>\n",
              "    <tr>\n",
              "      <th>2019</th>\n",
              "      <td>2598</td>\n",
              "      <td>31066.986143</td>\n",
              "      <td>27980.0</td>\n",
              "    </tr>\n",
              "    <tr>\n",
              "      <th>2020</th>\n",
              "      <td>552</td>\n",
              "      <td>35359.445652</td>\n",
              "      <td>32450.5</td>\n",
              "    </tr>\n",
              "  </tbody>\n",
              "</table>\n",
              "</div>\n",
              "      <button class=\"colab-df-convert\" onclick=\"convertToInteractive('df-02757810-db90-4117-a85e-c83644cbab3d')\"\n",
              "              title=\"Convert this dataframe to an interactive table.\"\n",
              "              style=\"display:none;\">\n",
              "        \n",
              "  <svg xmlns=\"http://www.w3.org/2000/svg\" height=\"24px\"viewBox=\"0 0 24 24\"\n",
              "       width=\"24px\">\n",
              "    <path d=\"M0 0h24v24H0V0z\" fill=\"none\"/>\n",
              "    <path d=\"M18.56 5.44l.94 2.06.94-2.06 2.06-.94-2.06-.94-.94-2.06-.94 2.06-2.06.94zm-11 1L8.5 8.5l.94-2.06 2.06-.94-2.06-.94L8.5 2.5l-.94 2.06-2.06.94zm10 10l.94 2.06.94-2.06 2.06-.94-2.06-.94-.94-2.06-.94 2.06-2.06.94z\"/><path d=\"M17.41 7.96l-1.37-1.37c-.4-.4-.92-.59-1.43-.59-.52 0-1.04.2-1.43.59L10.3 9.45l-7.72 7.72c-.78.78-.78 2.05 0 2.83L4 21.41c.39.39.9.59 1.41.59.51 0 1.02-.2 1.41-.59l7.78-7.78 2.81-2.81c.8-.78.8-2.07 0-2.86zM5.41 20L4 18.59l7.72-7.72 1.47 1.35L5.41 20z\"/>\n",
              "  </svg>\n",
              "      </button>\n",
              "      \n",
              "  <style>\n",
              "    .colab-df-container {\n",
              "      display:flex;\n",
              "      flex-wrap:wrap;\n",
              "      gap: 12px;\n",
              "    }\n",
              "\n",
              "    .colab-df-convert {\n",
              "      background-color: #E8F0FE;\n",
              "      border: none;\n",
              "      border-radius: 50%;\n",
              "      cursor: pointer;\n",
              "      display: none;\n",
              "      fill: #1967D2;\n",
              "      height: 32px;\n",
              "      padding: 0 0 0 0;\n",
              "      width: 32px;\n",
              "    }\n",
              "\n",
              "    .colab-df-convert:hover {\n",
              "      background-color: #E2EBFA;\n",
              "      box-shadow: 0px 1px 2px rgba(60, 64, 67, 0.3), 0px 1px 3px 1px rgba(60, 64, 67, 0.15);\n",
              "      fill: #174EA6;\n",
              "    }\n",
              "\n",
              "    [theme=dark] .colab-df-convert {\n",
              "      background-color: #3B4455;\n",
              "      fill: #D2E3FC;\n",
              "    }\n",
              "\n",
              "    [theme=dark] .colab-df-convert:hover {\n",
              "      background-color: #434B5C;\n",
              "      box-shadow: 0px 1px 3px 1px rgba(0, 0, 0, 0.15);\n",
              "      filter: drop-shadow(0px 1px 2px rgba(0, 0, 0, 0.3));\n",
              "      fill: #FFFFFF;\n",
              "    }\n",
              "  </style>\n",
              "\n",
              "      <script>\n",
              "        const buttonEl =\n",
              "          document.querySelector('#df-02757810-db90-4117-a85e-c83644cbab3d button.colab-df-convert');\n",
              "        buttonEl.style.display =\n",
              "          google.colab.kernel.accessAllowed ? 'block' : 'none';\n",
              "\n",
              "        async function convertToInteractive(key) {\n",
              "          const element = document.querySelector('#df-02757810-db90-4117-a85e-c83644cbab3d');\n",
              "          const dataTable =\n",
              "            await google.colab.kernel.invokeFunction('convertToInteractive',\n",
              "                                                     [key], {});\n",
              "          if (!dataTable) return;\n",
              "\n",
              "          const docLinkHtml = 'Like what you see? Visit the ' +\n",
              "            '<a target=\"_blank\" href=https://colab.research.google.com/notebooks/data_table.ipynb>data table notebook</a>'\n",
              "            + ' to learn more about interactive tables.';\n",
              "          element.innerHTML = '';\n",
              "          dataTable['output_type'] = 'display_data';\n",
              "          await google.colab.output.renderOutput(dataTable, element);\n",
              "          const docLink = document.createElement('div');\n",
              "          docLink.innerHTML = docLinkHtml;\n",
              "          element.appendChild(docLink);\n",
              "        }\n",
              "      </script>\n",
              "    </div>\n",
              "  </div>\n",
              "  "
            ]
          },
          "metadata": {},
          "execution_count": 30
        }
      ]
    },
    {
      "cell_type": "code",
      "source": [
        "model_year_mean = train.groupby('year')['price'].mean().reset_index()"
      ],
      "metadata": {
        "id": "nafuXRRjpjPB"
      },
      "execution_count": 31,
      "outputs": []
    },
    {
      "cell_type": "code",
      "source": [
        "model_year_mean.columns = ['year', 'price_pred_year_mean']"
      ],
      "metadata": {
        "id": "GjREB8KHp7Gs"
      },
      "execution_count": 32,
      "outputs": []
    },
    {
      "cell_type": "code",
      "source": [
        "model_year_mean"
      ],
      "metadata": {
        "colab": {
          "base_uri": "https://localhost:8080/",
          "height": 833
        },
        "id": "799WUakWsPz4",
        "outputId": "8c5809f3-719c-41de-85bc-85e9df315b0f"
      },
      "execution_count": 33,
      "outputs": [
        {
          "output_type": "execute_result",
          "data": {
            "text/plain": [
              "    year  price_pred_year_mean\n",
              "0   1996           5995.000000\n",
              "1   1997           3950.000000\n",
              "2   1998           3950.000000\n",
              "3   1999           3980.000000\n",
              "4   2000           1550.000000\n",
              "5   2001           7333.333333\n",
              "6   2002           3893.500000\n",
              "7   2003           9222.500000\n",
              "8   2004           7932.857143\n",
              "9   2005           5390.166667\n",
              "10  2006           5445.250000\n",
              "11  2007           5027.833333\n",
              "12  2008           6004.666667\n",
              "13  2009           6506.090909\n",
              "14  2010           7374.129032\n",
              "15  2011           8860.297297\n",
              "16  2012           9432.923913\n",
              "17  2013          11041.347826\n",
              "18  2014          13411.333333\n",
              "19  2015          15086.536313\n",
              "20  2016          16531.655222\n",
              "21  2017          19205.839506\n",
              "22  2018          22562.450394\n",
              "23  2019          31066.986143\n",
              "24  2020          35359.445652"
            ],
            "text/html": [
              "\n",
              "  <div id=\"df-9f9677e8-ed24-40f8-a271-b41f1728e0c6\">\n",
              "    <div class=\"colab-df-container\">\n",
              "      <div>\n",
              "<style scoped>\n",
              "    .dataframe tbody tr th:only-of-type {\n",
              "        vertical-align: middle;\n",
              "    }\n",
              "\n",
              "    .dataframe tbody tr th {\n",
              "        vertical-align: top;\n",
              "    }\n",
              "\n",
              "    .dataframe thead th {\n",
              "        text-align: right;\n",
              "    }\n",
              "</style>\n",
              "<table border=\"1\" class=\"dataframe\">\n",
              "  <thead>\n",
              "    <tr style=\"text-align: right;\">\n",
              "      <th></th>\n",
              "      <th>year</th>\n",
              "      <th>price_pred_year_mean</th>\n",
              "    </tr>\n",
              "  </thead>\n",
              "  <tbody>\n",
              "    <tr>\n",
              "      <th>0</th>\n",
              "      <td>1996</td>\n",
              "      <td>5995.000000</td>\n",
              "    </tr>\n",
              "    <tr>\n",
              "      <th>1</th>\n",
              "      <td>1997</td>\n",
              "      <td>3950.000000</td>\n",
              "    </tr>\n",
              "    <tr>\n",
              "      <th>2</th>\n",
              "      <td>1998</td>\n",
              "      <td>3950.000000</td>\n",
              "    </tr>\n",
              "    <tr>\n",
              "      <th>3</th>\n",
              "      <td>1999</td>\n",
              "      <td>3980.000000</td>\n",
              "    </tr>\n",
              "    <tr>\n",
              "      <th>4</th>\n",
              "      <td>2000</td>\n",
              "      <td>1550.000000</td>\n",
              "    </tr>\n",
              "    <tr>\n",
              "      <th>5</th>\n",
              "      <td>2001</td>\n",
              "      <td>7333.333333</td>\n",
              "    </tr>\n",
              "    <tr>\n",
              "      <th>6</th>\n",
              "      <td>2002</td>\n",
              "      <td>3893.500000</td>\n",
              "    </tr>\n",
              "    <tr>\n",
              "      <th>7</th>\n",
              "      <td>2003</td>\n",
              "      <td>9222.500000</td>\n",
              "    </tr>\n",
              "    <tr>\n",
              "      <th>8</th>\n",
              "      <td>2004</td>\n",
              "      <td>7932.857143</td>\n",
              "    </tr>\n",
              "    <tr>\n",
              "      <th>9</th>\n",
              "      <td>2005</td>\n",
              "      <td>5390.166667</td>\n",
              "    </tr>\n",
              "    <tr>\n",
              "      <th>10</th>\n",
              "      <td>2006</td>\n",
              "      <td>5445.250000</td>\n",
              "    </tr>\n",
              "    <tr>\n",
              "      <th>11</th>\n",
              "      <td>2007</td>\n",
              "      <td>5027.833333</td>\n",
              "    </tr>\n",
              "    <tr>\n",
              "      <th>12</th>\n",
              "      <td>2008</td>\n",
              "      <td>6004.666667</td>\n",
              "    </tr>\n",
              "    <tr>\n",
              "      <th>13</th>\n",
              "      <td>2009</td>\n",
              "      <td>6506.090909</td>\n",
              "    </tr>\n",
              "    <tr>\n",
              "      <th>14</th>\n",
              "      <td>2010</td>\n",
              "      <td>7374.129032</td>\n",
              "    </tr>\n",
              "    <tr>\n",
              "      <th>15</th>\n",
              "      <td>2011</td>\n",
              "      <td>8860.297297</td>\n",
              "    </tr>\n",
              "    <tr>\n",
              "      <th>16</th>\n",
              "      <td>2012</td>\n",
              "      <td>9432.923913</td>\n",
              "    </tr>\n",
              "    <tr>\n",
              "      <th>17</th>\n",
              "      <td>2013</td>\n",
              "      <td>11041.347826</td>\n",
              "    </tr>\n",
              "    <tr>\n",
              "      <th>18</th>\n",
              "      <td>2014</td>\n",
              "      <td>13411.333333</td>\n",
              "    </tr>\n",
              "    <tr>\n",
              "      <th>19</th>\n",
              "      <td>2015</td>\n",
              "      <td>15086.536313</td>\n",
              "    </tr>\n",
              "    <tr>\n",
              "      <th>20</th>\n",
              "      <td>2016</td>\n",
              "      <td>16531.655222</td>\n",
              "    </tr>\n",
              "    <tr>\n",
              "      <th>21</th>\n",
              "      <td>2017</td>\n",
              "      <td>19205.839506</td>\n",
              "    </tr>\n",
              "    <tr>\n",
              "      <th>22</th>\n",
              "      <td>2018</td>\n",
              "      <td>22562.450394</td>\n",
              "    </tr>\n",
              "    <tr>\n",
              "      <th>23</th>\n",
              "      <td>2019</td>\n",
              "      <td>31066.986143</td>\n",
              "    </tr>\n",
              "    <tr>\n",
              "      <th>24</th>\n",
              "      <td>2020</td>\n",
              "      <td>35359.445652</td>\n",
              "    </tr>\n",
              "  </tbody>\n",
              "</table>\n",
              "</div>\n",
              "      <button class=\"colab-df-convert\" onclick=\"convertToInteractive('df-9f9677e8-ed24-40f8-a271-b41f1728e0c6')\"\n",
              "              title=\"Convert this dataframe to an interactive table.\"\n",
              "              style=\"display:none;\">\n",
              "        \n",
              "  <svg xmlns=\"http://www.w3.org/2000/svg\" height=\"24px\"viewBox=\"0 0 24 24\"\n",
              "       width=\"24px\">\n",
              "    <path d=\"M0 0h24v24H0V0z\" fill=\"none\"/>\n",
              "    <path d=\"M18.56 5.44l.94 2.06.94-2.06 2.06-.94-2.06-.94-.94-2.06-.94 2.06-2.06.94zm-11 1L8.5 8.5l.94-2.06 2.06-.94-2.06-.94L8.5 2.5l-.94 2.06-2.06.94zm10 10l.94 2.06.94-2.06 2.06-.94-2.06-.94-.94-2.06-.94 2.06-2.06.94z\"/><path d=\"M17.41 7.96l-1.37-1.37c-.4-.4-.92-.59-1.43-.59-.52 0-1.04.2-1.43.59L10.3 9.45l-7.72 7.72c-.78.78-.78 2.05 0 2.83L4 21.41c.39.39.9.59 1.41.59.51 0 1.02-.2 1.41-.59l7.78-7.78 2.81-2.81c.8-.78.8-2.07 0-2.86zM5.41 20L4 18.59l7.72-7.72 1.47 1.35L5.41 20z\"/>\n",
              "  </svg>\n",
              "      </button>\n",
              "      \n",
              "  <style>\n",
              "    .colab-df-container {\n",
              "      display:flex;\n",
              "      flex-wrap:wrap;\n",
              "      gap: 12px;\n",
              "    }\n",
              "\n",
              "    .colab-df-convert {\n",
              "      background-color: #E8F0FE;\n",
              "      border: none;\n",
              "      border-radius: 50%;\n",
              "      cursor: pointer;\n",
              "      display: none;\n",
              "      fill: #1967D2;\n",
              "      height: 32px;\n",
              "      padding: 0 0 0 0;\n",
              "      width: 32px;\n",
              "    }\n",
              "\n",
              "    .colab-df-convert:hover {\n",
              "      background-color: #E2EBFA;\n",
              "      box-shadow: 0px 1px 2px rgba(60, 64, 67, 0.3), 0px 1px 3px 1px rgba(60, 64, 67, 0.15);\n",
              "      fill: #174EA6;\n",
              "    }\n",
              "\n",
              "    [theme=dark] .colab-df-convert {\n",
              "      background-color: #3B4455;\n",
              "      fill: #D2E3FC;\n",
              "    }\n",
              "\n",
              "    [theme=dark] .colab-df-convert:hover {\n",
              "      background-color: #434B5C;\n",
              "      box-shadow: 0px 1px 3px 1px rgba(0, 0, 0, 0.15);\n",
              "      filter: drop-shadow(0px 1px 2px rgba(0, 0, 0, 0.3));\n",
              "      fill: #FFFFFF;\n",
              "    }\n",
              "  </style>\n",
              "\n",
              "      <script>\n",
              "        const buttonEl =\n",
              "          document.querySelector('#df-9f9677e8-ed24-40f8-a271-b41f1728e0c6 button.colab-df-convert');\n",
              "        buttonEl.style.display =\n",
              "          google.colab.kernel.accessAllowed ? 'block' : 'none';\n",
              "\n",
              "        async function convertToInteractive(key) {\n",
              "          const element = document.querySelector('#df-9f9677e8-ed24-40f8-a271-b41f1728e0c6');\n",
              "          const dataTable =\n",
              "            await google.colab.kernel.invokeFunction('convertToInteractive',\n",
              "                                                     [key], {});\n",
              "          if (!dataTable) return;\n",
              "\n",
              "          const docLinkHtml = 'Like what you see? Visit the ' +\n",
              "            '<a target=\"_blank\" href=https://colab.research.google.com/notebooks/data_table.ipynb>data table notebook</a>'\n",
              "            + ' to learn more about interactive tables.';\n",
              "          element.innerHTML = '';\n",
              "          dataTable['output_type'] = 'display_data';\n",
              "          await google.colab.output.renderOutput(dataTable, element);\n",
              "          const docLink = document.createElement('div');\n",
              "          docLink.innerHTML = docLinkHtml;\n",
              "          element.appendChild(docLink);\n",
              "        }\n",
              "      </script>\n",
              "    </div>\n",
              "  </div>\n",
              "  "
            ]
          },
          "metadata": {},
          "execution_count": 33
        }
      ]
    },
    {
      "cell_type": "code",
      "source": [
        "train = train.merge(model_year_mean,how='left',on='year')"
      ],
      "metadata": {
        "id": "on8ROAe3rhsk"
      },
      "execution_count": 34,
      "outputs": []
    },
    {
      "cell_type": "code",
      "source": [
        "mean_absolute_error(train['price'], train['price_pred_year_mean'])"
      ],
      "metadata": {
        "colab": {
          "base_uri": "https://localhost:8080/"
        },
        "outputId": "87d54ef5-8234-488f-d36e-5d2879a00eba",
        "id": "S3gsKjUYtnSW"
      },
      "execution_count": 35,
      "outputs": [
        {
          "output_type": "execute_result",
          "data": {
            "text/plain": [
              "5474.243598515644"
            ]
          },
          "metadata": {},
          "execution_count": 35
        }
      ]
    },
    {
      "cell_type": "code",
      "source": [
        "mean_absolute_percentage_error(train['price'], train['price_pred_year_mean'])"
      ],
      "metadata": {
        "colab": {
          "base_uri": "https://localhost:8080/"
        },
        "outputId": "be8d76b2-c9b2-4b3e-8148-90f0f3776ab2",
        "id": "Dkb08ChatnSX"
      },
      "execution_count": 36,
      "outputs": [
        {
          "output_type": "execute_result",
          "data": {
            "text/plain": [
              "0.2447228468704618"
            ]
          },
          "metadata": {},
          "execution_count": 36
        }
      ]
    },
    {
      "cell_type": "markdown",
      "source": [
        "Проверяем модель на тестовой выборке:"
      ],
      "metadata": {
        "id": "W4GFdWLlt_BH"
      }
    },
    {
      "cell_type": "code",
      "source": [
        "test = test.merge(model_year_mean,how='left',on='year')"
      ],
      "metadata": {
        "id": "Cr3ZtSqwuFSd"
      },
      "execution_count": 37,
      "outputs": []
    },
    {
      "cell_type": "code",
      "source": [
        "test.isna().mean()"
      ],
      "metadata": {
        "colab": {
          "base_uri": "https://localhost:8080/"
        },
        "id": "nw5XhVuOuV-v",
        "outputId": "1b7a232a-e7aa-4f82-81e6-29af697dcfef"
      },
      "execution_count": 38,
      "outputs": [
        {
          "output_type": "execute_result",
          "data": {
            "text/plain": [
              "model                   0.0\n",
              "year                    0.0\n",
              "price                   0.0\n",
              "transmission            0.0\n",
              "mileage                 0.0\n",
              "fuelType                0.0\n",
              "tax                     0.0\n",
              "mpg                     0.0\n",
              "engineSize              0.0\n",
              "price_pred_median       0.0\n",
              "price_pred_year_mean    0.0\n",
              "dtype: float64"
            ]
          },
          "metadata": {},
          "execution_count": 38
        }
      ]
    },
    {
      "cell_type": "code",
      "source": [
        "mean_absolute_error(test['price'], test['price_pred_year_mean'])"
      ],
      "metadata": {
        "colab": {
          "base_uri": "https://localhost:8080/"
        },
        "outputId": "cecb24af-20c7-4f99-dc4f-6d0be4d3e137",
        "id": "hdxfntD9urZ3"
      },
      "execution_count": 39,
      "outputs": [
        {
          "output_type": "execute_result",
          "data": {
            "text/plain": [
              "5426.271071211102"
            ]
          },
          "metadata": {},
          "execution_count": 39
        }
      ]
    },
    {
      "cell_type": "code",
      "source": [
        "mean_absolute_percentage_error(test['price'], test['price_pred_year_mean'])"
      ],
      "metadata": {
        "colab": {
          "base_uri": "https://localhost:8080/"
        },
        "outputId": "6c2244ca-d72e-4a5f-ce91-a429f8114cc7",
        "id": "qxiqXXVpurZ4"
      },
      "execution_count": 40,
      "outputs": [
        {
          "output_type": "execute_result",
          "data": {
            "text/plain": [
              "0.23933940428873632"
            ]
          },
          "metadata": {},
          "execution_count": 40
        }
      ]
    },
    {
      "cell_type": "markdown",
      "source": [
        "#Медиана по году"
      ],
      "metadata": {
        "id": "DP4MsMBDuZeX"
      }
    },
    {
      "cell_type": "code",
      "source": [
        "model_year_median = train.groupby('year')['price'].median().reset_index()"
      ],
      "metadata": {
        "id": "culEhBvmoS-L"
      },
      "execution_count": 41,
      "outputs": []
    },
    {
      "cell_type": "code",
      "source": [
        "model_year_median = model_year_median.rename({'price':'price_pred_year_median'},axis=1)"
      ],
      "metadata": {
        "id": "5T5uSBSsoS-M"
      },
      "execution_count": 42,
      "outputs": []
    },
    {
      "cell_type": "code",
      "source": [
        "model_year_median"
      ],
      "metadata": {
        "colab": {
          "base_uri": "https://localhost:8080/",
          "height": 833
        },
        "outputId": "dcd6bea0-5fa1-4145-88d0-4e1ae70ef0bb",
        "id": "zDTQFATZoS-M"
      },
      "execution_count": 43,
      "outputs": [
        {
          "output_type": "execute_result",
          "data": {
            "text/plain": [
              "    year  price_pred_year_median\n",
              "0   1996                  5995.0\n",
              "1   1997                  3950.0\n",
              "2   1998                  3950.0\n",
              "3   1999                  3995.0\n",
              "4   2000                  1550.0\n",
              "5   2001                  5950.0\n",
              "6   2002                  3494.5\n",
              "7   2003                  9222.5\n",
              "8   2004                  3495.0\n",
              "9   2005                  4685.0\n",
              "10  2006                  3942.5\n",
              "11  2007                  4597.5\n",
              "12  2008                  5272.5\n",
              "13  2009                  5845.0\n",
              "14  2010                  6495.0\n",
              "15  2011                  8470.0\n",
              "16  2012                  8990.0\n",
              "17  2013                 10490.0\n",
              "18  2014                 12797.5\n",
              "19  2015                 14103.5\n",
              "20  2016                 15699.5\n",
              "21  2017                 18299.5\n",
              "22  2018                 21000.0\n",
              "23  2019                 27980.0\n",
              "24  2020                 32450.5"
            ],
            "text/html": [
              "\n",
              "  <div id=\"df-77cdb1a2-9976-4713-9d5d-dd19faa5fb5e\">\n",
              "    <div class=\"colab-df-container\">\n",
              "      <div>\n",
              "<style scoped>\n",
              "    .dataframe tbody tr th:only-of-type {\n",
              "        vertical-align: middle;\n",
              "    }\n",
              "\n",
              "    .dataframe tbody tr th {\n",
              "        vertical-align: top;\n",
              "    }\n",
              "\n",
              "    .dataframe thead th {\n",
              "        text-align: right;\n",
              "    }\n",
              "</style>\n",
              "<table border=\"1\" class=\"dataframe\">\n",
              "  <thead>\n",
              "    <tr style=\"text-align: right;\">\n",
              "      <th></th>\n",
              "      <th>year</th>\n",
              "      <th>price_pred_year_median</th>\n",
              "    </tr>\n",
              "  </thead>\n",
              "  <tbody>\n",
              "    <tr>\n",
              "      <th>0</th>\n",
              "      <td>1996</td>\n",
              "      <td>5995.0</td>\n",
              "    </tr>\n",
              "    <tr>\n",
              "      <th>1</th>\n",
              "      <td>1997</td>\n",
              "      <td>3950.0</td>\n",
              "    </tr>\n",
              "    <tr>\n",
              "      <th>2</th>\n",
              "      <td>1998</td>\n",
              "      <td>3950.0</td>\n",
              "    </tr>\n",
              "    <tr>\n",
              "      <th>3</th>\n",
              "      <td>1999</td>\n",
              "      <td>3995.0</td>\n",
              "    </tr>\n",
              "    <tr>\n",
              "      <th>4</th>\n",
              "      <td>2000</td>\n",
              "      <td>1550.0</td>\n",
              "    </tr>\n",
              "    <tr>\n",
              "      <th>5</th>\n",
              "      <td>2001</td>\n",
              "      <td>5950.0</td>\n",
              "    </tr>\n",
              "    <tr>\n",
              "      <th>6</th>\n",
              "      <td>2002</td>\n",
              "      <td>3494.5</td>\n",
              "    </tr>\n",
              "    <tr>\n",
              "      <th>7</th>\n",
              "      <td>2003</td>\n",
              "      <td>9222.5</td>\n",
              "    </tr>\n",
              "    <tr>\n",
              "      <th>8</th>\n",
              "      <td>2004</td>\n",
              "      <td>3495.0</td>\n",
              "    </tr>\n",
              "    <tr>\n",
              "      <th>9</th>\n",
              "      <td>2005</td>\n",
              "      <td>4685.0</td>\n",
              "    </tr>\n",
              "    <tr>\n",
              "      <th>10</th>\n",
              "      <td>2006</td>\n",
              "      <td>3942.5</td>\n",
              "    </tr>\n",
              "    <tr>\n",
              "      <th>11</th>\n",
              "      <td>2007</td>\n",
              "      <td>4597.5</td>\n",
              "    </tr>\n",
              "    <tr>\n",
              "      <th>12</th>\n",
              "      <td>2008</td>\n",
              "      <td>5272.5</td>\n",
              "    </tr>\n",
              "    <tr>\n",
              "      <th>13</th>\n",
              "      <td>2009</td>\n",
              "      <td>5845.0</td>\n",
              "    </tr>\n",
              "    <tr>\n",
              "      <th>14</th>\n",
              "      <td>2010</td>\n",
              "      <td>6495.0</td>\n",
              "    </tr>\n",
              "    <tr>\n",
              "      <th>15</th>\n",
              "      <td>2011</td>\n",
              "      <td>8470.0</td>\n",
              "    </tr>\n",
              "    <tr>\n",
              "      <th>16</th>\n",
              "      <td>2012</td>\n",
              "      <td>8990.0</td>\n",
              "    </tr>\n",
              "    <tr>\n",
              "      <th>17</th>\n",
              "      <td>2013</td>\n",
              "      <td>10490.0</td>\n",
              "    </tr>\n",
              "    <tr>\n",
              "      <th>18</th>\n",
              "      <td>2014</td>\n",
              "      <td>12797.5</td>\n",
              "    </tr>\n",
              "    <tr>\n",
              "      <th>19</th>\n",
              "      <td>2015</td>\n",
              "      <td>14103.5</td>\n",
              "    </tr>\n",
              "    <tr>\n",
              "      <th>20</th>\n",
              "      <td>2016</td>\n",
              "      <td>15699.5</td>\n",
              "    </tr>\n",
              "    <tr>\n",
              "      <th>21</th>\n",
              "      <td>2017</td>\n",
              "      <td>18299.5</td>\n",
              "    </tr>\n",
              "    <tr>\n",
              "      <th>22</th>\n",
              "      <td>2018</td>\n",
              "      <td>21000.0</td>\n",
              "    </tr>\n",
              "    <tr>\n",
              "      <th>23</th>\n",
              "      <td>2019</td>\n",
              "      <td>27980.0</td>\n",
              "    </tr>\n",
              "    <tr>\n",
              "      <th>24</th>\n",
              "      <td>2020</td>\n",
              "      <td>32450.5</td>\n",
              "    </tr>\n",
              "  </tbody>\n",
              "</table>\n",
              "</div>\n",
              "      <button class=\"colab-df-convert\" onclick=\"convertToInteractive('df-77cdb1a2-9976-4713-9d5d-dd19faa5fb5e')\"\n",
              "              title=\"Convert this dataframe to an interactive table.\"\n",
              "              style=\"display:none;\">\n",
              "        \n",
              "  <svg xmlns=\"http://www.w3.org/2000/svg\" height=\"24px\"viewBox=\"0 0 24 24\"\n",
              "       width=\"24px\">\n",
              "    <path d=\"M0 0h24v24H0V0z\" fill=\"none\"/>\n",
              "    <path d=\"M18.56 5.44l.94 2.06.94-2.06 2.06-.94-2.06-.94-.94-2.06-.94 2.06-2.06.94zm-11 1L8.5 8.5l.94-2.06 2.06-.94-2.06-.94L8.5 2.5l-.94 2.06-2.06.94zm10 10l.94 2.06.94-2.06 2.06-.94-2.06-.94-.94-2.06-.94 2.06-2.06.94z\"/><path d=\"M17.41 7.96l-1.37-1.37c-.4-.4-.92-.59-1.43-.59-.52 0-1.04.2-1.43.59L10.3 9.45l-7.72 7.72c-.78.78-.78 2.05 0 2.83L4 21.41c.39.39.9.59 1.41.59.51 0 1.02-.2 1.41-.59l7.78-7.78 2.81-2.81c.8-.78.8-2.07 0-2.86zM5.41 20L4 18.59l7.72-7.72 1.47 1.35L5.41 20z\"/>\n",
              "  </svg>\n",
              "      </button>\n",
              "      \n",
              "  <style>\n",
              "    .colab-df-container {\n",
              "      display:flex;\n",
              "      flex-wrap:wrap;\n",
              "      gap: 12px;\n",
              "    }\n",
              "\n",
              "    .colab-df-convert {\n",
              "      background-color: #E8F0FE;\n",
              "      border: none;\n",
              "      border-radius: 50%;\n",
              "      cursor: pointer;\n",
              "      display: none;\n",
              "      fill: #1967D2;\n",
              "      height: 32px;\n",
              "      padding: 0 0 0 0;\n",
              "      width: 32px;\n",
              "    }\n",
              "\n",
              "    .colab-df-convert:hover {\n",
              "      background-color: #E2EBFA;\n",
              "      box-shadow: 0px 1px 2px rgba(60, 64, 67, 0.3), 0px 1px 3px 1px rgba(60, 64, 67, 0.15);\n",
              "      fill: #174EA6;\n",
              "    }\n",
              "\n",
              "    [theme=dark] .colab-df-convert {\n",
              "      background-color: #3B4455;\n",
              "      fill: #D2E3FC;\n",
              "    }\n",
              "\n",
              "    [theme=dark] .colab-df-convert:hover {\n",
              "      background-color: #434B5C;\n",
              "      box-shadow: 0px 1px 3px 1px rgba(0, 0, 0, 0.15);\n",
              "      filter: drop-shadow(0px 1px 2px rgba(0, 0, 0, 0.3));\n",
              "      fill: #FFFFFF;\n",
              "    }\n",
              "  </style>\n",
              "\n",
              "      <script>\n",
              "        const buttonEl =\n",
              "          document.querySelector('#df-77cdb1a2-9976-4713-9d5d-dd19faa5fb5e button.colab-df-convert');\n",
              "        buttonEl.style.display =\n",
              "          google.colab.kernel.accessAllowed ? 'block' : 'none';\n",
              "\n",
              "        async function convertToInteractive(key) {\n",
              "          const element = document.querySelector('#df-77cdb1a2-9976-4713-9d5d-dd19faa5fb5e');\n",
              "          const dataTable =\n",
              "            await google.colab.kernel.invokeFunction('convertToInteractive',\n",
              "                                                     [key], {});\n",
              "          if (!dataTable) return;\n",
              "\n",
              "          const docLinkHtml = 'Like what you see? Visit the ' +\n",
              "            '<a target=\"_blank\" href=https://colab.research.google.com/notebooks/data_table.ipynb>data table notebook</a>'\n",
              "            + ' to learn more about interactive tables.';\n",
              "          element.innerHTML = '';\n",
              "          dataTable['output_type'] = 'display_data';\n",
              "          await google.colab.output.renderOutput(dataTable, element);\n",
              "          const docLink = document.createElement('div');\n",
              "          docLink.innerHTML = docLinkHtml;\n",
              "          element.appendChild(docLink);\n",
              "        }\n",
              "      </script>\n",
              "    </div>\n",
              "  </div>\n",
              "  "
            ]
          },
          "metadata": {},
          "execution_count": 43
        }
      ]
    },
    {
      "cell_type": "code",
      "source": [
        "train = train.merge(model_year_median,how='left',on='year')"
      ],
      "metadata": {
        "id": "oahVTdBop_J1"
      },
      "execution_count": 44,
      "outputs": []
    },
    {
      "cell_type": "code",
      "source": [
        "mean_absolute_error(train['price'], train['price_pred_year_median'])"
      ],
      "metadata": {
        "colab": {
          "base_uri": "https://localhost:8080/"
        },
        "outputId": "60bf204b-8e76-4f2e-a880-f3b0ca7cfb76",
        "id": "CBe0_ilxp_J1"
      },
      "execution_count": 45,
      "outputs": [
        {
          "output_type": "execute_result",
          "data": {
            "text/plain": [
              "5232.327891156463"
            ]
          },
          "metadata": {},
          "execution_count": 45
        }
      ]
    },
    {
      "cell_type": "code",
      "source": [
        "mean_absolute_percentage_error(train['price'], train['price_pred_year_median'])"
      ],
      "metadata": {
        "colab": {
          "base_uri": "https://localhost:8080/"
        },
        "outputId": "7eb65155-e0a1-4f69-caac-efdea0a4d90c",
        "id": "KBdXQ8gJp_J2"
      },
      "execution_count": 46,
      "outputs": [
        {
          "output_type": "execute_result",
          "data": {
            "text/plain": [
              "0.21723436816638503"
            ]
          },
          "metadata": {},
          "execution_count": 46
        }
      ]
    },
    {
      "cell_type": "markdown",
      "source": [
        "Тестовая выборка:"
      ],
      "metadata": {
        "id": "-OOLZk2JqNG6"
      }
    },
    {
      "cell_type": "code",
      "source": [
        "test = test.merge(model_year_median,how='left',on='year')"
      ],
      "metadata": {
        "id": "M7lj---ZpEHg"
      },
      "execution_count": 47,
      "outputs": []
    },
    {
      "cell_type": "code",
      "source": [
        "mean_absolute_error(test['price'], test['price_pred_year_median'])"
      ],
      "metadata": {
        "colab": {
          "base_uri": "https://localhost:8080/"
        },
        "outputId": "025c5e98-17ba-489e-d687-f3304f2c00c7",
        "id": "oUy66hR0pEHh"
      },
      "execution_count": 48,
      "outputs": [
        {
          "output_type": "execute_result",
          "data": {
            "text/plain": [
              "5240.677299703264"
            ]
          },
          "metadata": {},
          "execution_count": 48
        }
      ]
    },
    {
      "cell_type": "code",
      "source": [
        "mean_absolute_percentage_error(test['price'], test['price_pred_year_median'])"
      ],
      "metadata": {
        "colab": {
          "base_uri": "https://localhost:8080/"
        },
        "outputId": "0843284d-9e0a-48ed-c8db-086dccdb3132",
        "id": "rFgNuLKxpEHi"
      },
      "execution_count": 49,
      "outputs": [
        {
          "output_type": "execute_result",
          "data": {
            "text/plain": [
              "0.21478293590399475"
            ]
          },
          "metadata": {},
          "execution_count": 49
        }
      ]
    },
    {
      "cell_type": "markdown",
      "source": [
        "#Добавляем переменную по объему двигателя\n"
      ],
      "metadata": {
        "id": "CxjTfk80r6I8"
      }
    },
    {
      "cell_type": "code",
      "source": [
        "train.groupby('engineSize')['price'].agg(['count','mean','median'])"
      ],
      "metadata": {
        "colab": {
          "base_uri": "https://localhost:8080/",
          "height": 614
        },
        "id": "jFoOXOWIsMOh",
        "outputId": "a75fca42-bf3f-4f6c-e4a8-f499cb9b2190"
      },
      "execution_count": 50,
      "outputs": [
        {
          "output_type": "execute_result",
          "data": {
            "text/plain": [
              "            count          mean   median\n",
              "engineSize                              \n",
              "0.0            32  18469.906250  18250.0\n",
              "0.6             6  17973.333333  18200.0\n",
              "1.0             1  17400.000000  17400.0\n",
              "1.5          1146  17104.345550  15881.5\n",
              "1.6            75   9230.240000   8890.0\n",
              "1.9             5   3968.000000   3950.0\n",
              "2.0          4925  20697.721624  19792.0\n",
              "2.2             4   6010.000000   3972.5\n",
              "2.5             8   4532.375000   3892.5\n",
              "2.8             1   5995.000000   5995.0\n",
              "3.0          1818  31545.723872  27058.0\n",
              "3.2             3  16116.333333  17850.0\n",
              "3.5             1   6990.000000   6990.0\n",
              "4.0             4  18012.250000  17700.0\n",
              "4.4            54  49960.666667  45904.5\n",
              "5.0             1  12495.000000  12495.0\n",
              "6.6             1  57000.000000  57000.0"
            ],
            "text/html": [
              "\n",
              "  <div id=\"df-2f669218-ad7d-49c5-81d0-d956d21aa4f9\">\n",
              "    <div class=\"colab-df-container\">\n",
              "      <div>\n",
              "<style scoped>\n",
              "    .dataframe tbody tr th:only-of-type {\n",
              "        vertical-align: middle;\n",
              "    }\n",
              "\n",
              "    .dataframe tbody tr th {\n",
              "        vertical-align: top;\n",
              "    }\n",
              "\n",
              "    .dataframe thead th {\n",
              "        text-align: right;\n",
              "    }\n",
              "</style>\n",
              "<table border=\"1\" class=\"dataframe\">\n",
              "  <thead>\n",
              "    <tr style=\"text-align: right;\">\n",
              "      <th></th>\n",
              "      <th>count</th>\n",
              "      <th>mean</th>\n",
              "      <th>median</th>\n",
              "    </tr>\n",
              "    <tr>\n",
              "      <th>engineSize</th>\n",
              "      <th></th>\n",
              "      <th></th>\n",
              "      <th></th>\n",
              "    </tr>\n",
              "  </thead>\n",
              "  <tbody>\n",
              "    <tr>\n",
              "      <th>0.0</th>\n",
              "      <td>32</td>\n",
              "      <td>18469.906250</td>\n",
              "      <td>18250.0</td>\n",
              "    </tr>\n",
              "    <tr>\n",
              "      <th>0.6</th>\n",
              "      <td>6</td>\n",
              "      <td>17973.333333</td>\n",
              "      <td>18200.0</td>\n",
              "    </tr>\n",
              "    <tr>\n",
              "      <th>1.0</th>\n",
              "      <td>1</td>\n",
              "      <td>17400.000000</td>\n",
              "      <td>17400.0</td>\n",
              "    </tr>\n",
              "    <tr>\n",
              "      <th>1.5</th>\n",
              "      <td>1146</td>\n",
              "      <td>17104.345550</td>\n",
              "      <td>15881.5</td>\n",
              "    </tr>\n",
              "    <tr>\n",
              "      <th>1.6</th>\n",
              "      <td>75</td>\n",
              "      <td>9230.240000</td>\n",
              "      <td>8890.0</td>\n",
              "    </tr>\n",
              "    <tr>\n",
              "      <th>1.9</th>\n",
              "      <td>5</td>\n",
              "      <td>3968.000000</td>\n",
              "      <td>3950.0</td>\n",
              "    </tr>\n",
              "    <tr>\n",
              "      <th>2.0</th>\n",
              "      <td>4925</td>\n",
              "      <td>20697.721624</td>\n",
              "      <td>19792.0</td>\n",
              "    </tr>\n",
              "    <tr>\n",
              "      <th>2.2</th>\n",
              "      <td>4</td>\n",
              "      <td>6010.000000</td>\n",
              "      <td>3972.5</td>\n",
              "    </tr>\n",
              "    <tr>\n",
              "      <th>2.5</th>\n",
              "      <td>8</td>\n",
              "      <td>4532.375000</td>\n",
              "      <td>3892.5</td>\n",
              "    </tr>\n",
              "    <tr>\n",
              "      <th>2.8</th>\n",
              "      <td>1</td>\n",
              "      <td>5995.000000</td>\n",
              "      <td>5995.0</td>\n",
              "    </tr>\n",
              "    <tr>\n",
              "      <th>3.0</th>\n",
              "      <td>1818</td>\n",
              "      <td>31545.723872</td>\n",
              "      <td>27058.0</td>\n",
              "    </tr>\n",
              "    <tr>\n",
              "      <th>3.2</th>\n",
              "      <td>3</td>\n",
              "      <td>16116.333333</td>\n",
              "      <td>17850.0</td>\n",
              "    </tr>\n",
              "    <tr>\n",
              "      <th>3.5</th>\n",
              "      <td>1</td>\n",
              "      <td>6990.000000</td>\n",
              "      <td>6990.0</td>\n",
              "    </tr>\n",
              "    <tr>\n",
              "      <th>4.0</th>\n",
              "      <td>4</td>\n",
              "      <td>18012.250000</td>\n",
              "      <td>17700.0</td>\n",
              "    </tr>\n",
              "    <tr>\n",
              "      <th>4.4</th>\n",
              "      <td>54</td>\n",
              "      <td>49960.666667</td>\n",
              "      <td>45904.5</td>\n",
              "    </tr>\n",
              "    <tr>\n",
              "      <th>5.0</th>\n",
              "      <td>1</td>\n",
              "      <td>12495.000000</td>\n",
              "      <td>12495.0</td>\n",
              "    </tr>\n",
              "    <tr>\n",
              "      <th>6.6</th>\n",
              "      <td>1</td>\n",
              "      <td>57000.000000</td>\n",
              "      <td>57000.0</td>\n",
              "    </tr>\n",
              "  </tbody>\n",
              "</table>\n",
              "</div>\n",
              "      <button class=\"colab-df-convert\" onclick=\"convertToInteractive('df-2f669218-ad7d-49c5-81d0-d956d21aa4f9')\"\n",
              "              title=\"Convert this dataframe to an interactive table.\"\n",
              "              style=\"display:none;\">\n",
              "        \n",
              "  <svg xmlns=\"http://www.w3.org/2000/svg\" height=\"24px\"viewBox=\"0 0 24 24\"\n",
              "       width=\"24px\">\n",
              "    <path d=\"M0 0h24v24H0V0z\" fill=\"none\"/>\n",
              "    <path d=\"M18.56 5.44l.94 2.06.94-2.06 2.06-.94-2.06-.94-.94-2.06-.94 2.06-2.06.94zm-11 1L8.5 8.5l.94-2.06 2.06-.94-2.06-.94L8.5 2.5l-.94 2.06-2.06.94zm10 10l.94 2.06.94-2.06 2.06-.94-2.06-.94-.94-2.06-.94 2.06-2.06.94z\"/><path d=\"M17.41 7.96l-1.37-1.37c-.4-.4-.92-.59-1.43-.59-.52 0-1.04.2-1.43.59L10.3 9.45l-7.72 7.72c-.78.78-.78 2.05 0 2.83L4 21.41c.39.39.9.59 1.41.59.51 0 1.02-.2 1.41-.59l7.78-7.78 2.81-2.81c.8-.78.8-2.07 0-2.86zM5.41 20L4 18.59l7.72-7.72 1.47 1.35L5.41 20z\"/>\n",
              "  </svg>\n",
              "      </button>\n",
              "      \n",
              "  <style>\n",
              "    .colab-df-container {\n",
              "      display:flex;\n",
              "      flex-wrap:wrap;\n",
              "      gap: 12px;\n",
              "    }\n",
              "\n",
              "    .colab-df-convert {\n",
              "      background-color: #E8F0FE;\n",
              "      border: none;\n",
              "      border-radius: 50%;\n",
              "      cursor: pointer;\n",
              "      display: none;\n",
              "      fill: #1967D2;\n",
              "      height: 32px;\n",
              "      padding: 0 0 0 0;\n",
              "      width: 32px;\n",
              "    }\n",
              "\n",
              "    .colab-df-convert:hover {\n",
              "      background-color: #E2EBFA;\n",
              "      box-shadow: 0px 1px 2px rgba(60, 64, 67, 0.3), 0px 1px 3px 1px rgba(60, 64, 67, 0.15);\n",
              "      fill: #174EA6;\n",
              "    }\n",
              "\n",
              "    [theme=dark] .colab-df-convert {\n",
              "      background-color: #3B4455;\n",
              "      fill: #D2E3FC;\n",
              "    }\n",
              "\n",
              "    [theme=dark] .colab-df-convert:hover {\n",
              "      background-color: #434B5C;\n",
              "      box-shadow: 0px 1px 3px 1px rgba(0, 0, 0, 0.15);\n",
              "      filter: drop-shadow(0px 1px 2px rgba(0, 0, 0, 0.3));\n",
              "      fill: #FFFFFF;\n",
              "    }\n",
              "  </style>\n",
              "\n",
              "      <script>\n",
              "        const buttonEl =\n",
              "          document.querySelector('#df-2f669218-ad7d-49c5-81d0-d956d21aa4f9 button.colab-df-convert');\n",
              "        buttonEl.style.display =\n",
              "          google.colab.kernel.accessAllowed ? 'block' : 'none';\n",
              "\n",
              "        async function convertToInteractive(key) {\n",
              "          const element = document.querySelector('#df-2f669218-ad7d-49c5-81d0-d956d21aa4f9');\n",
              "          const dataTable =\n",
              "            await google.colab.kernel.invokeFunction('convertToInteractive',\n",
              "                                                     [key], {});\n",
              "          if (!dataTable) return;\n",
              "\n",
              "          const docLinkHtml = 'Like what you see? Visit the ' +\n",
              "            '<a target=\"_blank\" href=https://colab.research.google.com/notebooks/data_table.ipynb>data table notebook</a>'\n",
              "            + ' to learn more about interactive tables.';\n",
              "          element.innerHTML = '';\n",
              "          dataTable['output_type'] = 'display_data';\n",
              "          await google.colab.output.renderOutput(dataTable, element);\n",
              "          const docLink = document.createElement('div');\n",
              "          docLink.innerHTML = docLinkHtml;\n",
              "          element.appendChild(docLink);\n",
              "        }\n",
              "      </script>\n",
              "    </div>\n",
              "  </div>\n",
              "  "
            ]
          },
          "metadata": {},
          "execution_count": 50
        }
      ]
    },
    {
      "cell_type": "code",
      "source": [
        "def engine_group(x):\n",
        "  if x <= 1.5:\n",
        "    return '<=1.5'\n",
        "  if x <= 2.0:\n",
        "    return '<=2.0'\n",
        "  return '>2.0'"
      ],
      "metadata": {
        "id": "zKWo7Pp6ssi0"
      },
      "execution_count": 51,
      "outputs": []
    },
    {
      "cell_type": "code",
      "source": [
        "train['engine_group'] = train['engineSize'].apply(engine_group)"
      ],
      "metadata": {
        "id": "TZC0Pp2-tPta"
      },
      "execution_count": 52,
      "outputs": []
    },
    {
      "cell_type": "code",
      "source": [
        "train.groupby('engine_group')['price'].agg(['count','mean','median'])"
      ],
      "metadata": {
        "colab": {
          "base_uri": "https://localhost:8080/",
          "height": 175
        },
        "id": "eNTx8k2btiXD",
        "outputId": "3174f3b8-f07d-481d-ac8f-ee75e0bb0629"
      },
      "execution_count": 53,
      "outputs": [
        {
          "output_type": "execute_result",
          "data": {
            "text/plain": [
              "              count          mean   median\n",
              "engine_group                              \n",
              "<=1.5          1185  17145.870886  15980.0\n",
              "<=2.0          5005  20509.168232  19499.0\n",
              ">2.0           1895  31826.479683  27500.0"
            ],
            "text/html": [
              "\n",
              "  <div id=\"df-68cc4177-300e-41a8-a5c4-d7875535b5d0\">\n",
              "    <div class=\"colab-df-container\">\n",
              "      <div>\n",
              "<style scoped>\n",
              "    .dataframe tbody tr th:only-of-type {\n",
              "        vertical-align: middle;\n",
              "    }\n",
              "\n",
              "    .dataframe tbody tr th {\n",
              "        vertical-align: top;\n",
              "    }\n",
              "\n",
              "    .dataframe thead th {\n",
              "        text-align: right;\n",
              "    }\n",
              "</style>\n",
              "<table border=\"1\" class=\"dataframe\">\n",
              "  <thead>\n",
              "    <tr style=\"text-align: right;\">\n",
              "      <th></th>\n",
              "      <th>count</th>\n",
              "      <th>mean</th>\n",
              "      <th>median</th>\n",
              "    </tr>\n",
              "    <tr>\n",
              "      <th>engine_group</th>\n",
              "      <th></th>\n",
              "      <th></th>\n",
              "      <th></th>\n",
              "    </tr>\n",
              "  </thead>\n",
              "  <tbody>\n",
              "    <tr>\n",
              "      <th>&lt;=1.5</th>\n",
              "      <td>1185</td>\n",
              "      <td>17145.870886</td>\n",
              "      <td>15980.0</td>\n",
              "    </tr>\n",
              "    <tr>\n",
              "      <th>&lt;=2.0</th>\n",
              "      <td>5005</td>\n",
              "      <td>20509.168232</td>\n",
              "      <td>19499.0</td>\n",
              "    </tr>\n",
              "    <tr>\n",
              "      <th>&gt;2.0</th>\n",
              "      <td>1895</td>\n",
              "      <td>31826.479683</td>\n",
              "      <td>27500.0</td>\n",
              "    </tr>\n",
              "  </tbody>\n",
              "</table>\n",
              "</div>\n",
              "      <button class=\"colab-df-convert\" onclick=\"convertToInteractive('df-68cc4177-300e-41a8-a5c4-d7875535b5d0')\"\n",
              "              title=\"Convert this dataframe to an interactive table.\"\n",
              "              style=\"display:none;\">\n",
              "        \n",
              "  <svg xmlns=\"http://www.w3.org/2000/svg\" height=\"24px\"viewBox=\"0 0 24 24\"\n",
              "       width=\"24px\">\n",
              "    <path d=\"M0 0h24v24H0V0z\" fill=\"none\"/>\n",
              "    <path d=\"M18.56 5.44l.94 2.06.94-2.06 2.06-.94-2.06-.94-.94-2.06-.94 2.06-2.06.94zm-11 1L8.5 8.5l.94-2.06 2.06-.94-2.06-.94L8.5 2.5l-.94 2.06-2.06.94zm10 10l.94 2.06.94-2.06 2.06-.94-2.06-.94-.94-2.06-.94 2.06-2.06.94z\"/><path d=\"M17.41 7.96l-1.37-1.37c-.4-.4-.92-.59-1.43-.59-.52 0-1.04.2-1.43.59L10.3 9.45l-7.72 7.72c-.78.78-.78 2.05 0 2.83L4 21.41c.39.39.9.59 1.41.59.51 0 1.02-.2 1.41-.59l7.78-7.78 2.81-2.81c.8-.78.8-2.07 0-2.86zM5.41 20L4 18.59l7.72-7.72 1.47 1.35L5.41 20z\"/>\n",
              "  </svg>\n",
              "      </button>\n",
              "      \n",
              "  <style>\n",
              "    .colab-df-container {\n",
              "      display:flex;\n",
              "      flex-wrap:wrap;\n",
              "      gap: 12px;\n",
              "    }\n",
              "\n",
              "    .colab-df-convert {\n",
              "      background-color: #E8F0FE;\n",
              "      border: none;\n",
              "      border-radius: 50%;\n",
              "      cursor: pointer;\n",
              "      display: none;\n",
              "      fill: #1967D2;\n",
              "      height: 32px;\n",
              "      padding: 0 0 0 0;\n",
              "      width: 32px;\n",
              "    }\n",
              "\n",
              "    .colab-df-convert:hover {\n",
              "      background-color: #E2EBFA;\n",
              "      box-shadow: 0px 1px 2px rgba(60, 64, 67, 0.3), 0px 1px 3px 1px rgba(60, 64, 67, 0.15);\n",
              "      fill: #174EA6;\n",
              "    }\n",
              "\n",
              "    [theme=dark] .colab-df-convert {\n",
              "      background-color: #3B4455;\n",
              "      fill: #D2E3FC;\n",
              "    }\n",
              "\n",
              "    [theme=dark] .colab-df-convert:hover {\n",
              "      background-color: #434B5C;\n",
              "      box-shadow: 0px 1px 3px 1px rgba(0, 0, 0, 0.15);\n",
              "      filter: drop-shadow(0px 1px 2px rgba(0, 0, 0, 0.3));\n",
              "      fill: #FFFFFF;\n",
              "    }\n",
              "  </style>\n",
              "\n",
              "      <script>\n",
              "        const buttonEl =\n",
              "          document.querySelector('#df-68cc4177-300e-41a8-a5c4-d7875535b5d0 button.colab-df-convert');\n",
              "        buttonEl.style.display =\n",
              "          google.colab.kernel.accessAllowed ? 'block' : 'none';\n",
              "\n",
              "        async function convertToInteractive(key) {\n",
              "          const element = document.querySelector('#df-68cc4177-300e-41a8-a5c4-d7875535b5d0');\n",
              "          const dataTable =\n",
              "            await google.colab.kernel.invokeFunction('convertToInteractive',\n",
              "                                                     [key], {});\n",
              "          if (!dataTable) return;\n",
              "\n",
              "          const docLinkHtml = 'Like what you see? Visit the ' +\n",
              "            '<a target=\"_blank\" href=https://colab.research.google.com/notebooks/data_table.ipynb>data table notebook</a>'\n",
              "            + ' to learn more about interactive tables.';\n",
              "          element.innerHTML = '';\n",
              "          dataTable['output_type'] = 'display_data';\n",
              "          await google.colab.output.renderOutput(dataTable, element);\n",
              "          const docLink = document.createElement('div');\n",
              "          docLink.innerHTML = docLinkHtml;\n",
              "          element.appendChild(docLink);\n",
              "        }\n",
              "      </script>\n",
              "    </div>\n",
              "  </div>\n",
              "  "
            ]
          },
          "metadata": {},
          "execution_count": 53
        }
      ]
    },
    {
      "cell_type": "markdown",
      "source": [
        "#Дополняем модель параметром engine_group"
      ],
      "metadata": {
        "id": "nxI4j85r3Y4G"
      }
    },
    {
      "cell_type": "code",
      "source": [
        "model_year_engine_median = train.groupby(['year','engine_group'])['price'].median().reset_index()"
      ],
      "metadata": {
        "id": "uSrlinIl3jod"
      },
      "execution_count": 54,
      "outputs": []
    },
    {
      "cell_type": "code",
      "source": [
        "model_year_engine_median"
      ],
      "metadata": {
        "colab": {
          "base_uri": "https://localhost:8080/",
          "height": 1000
        },
        "id": "yi5HoXEX33uE",
        "outputId": "7d1468b5-7318-44c0-8306-fa4ee277b673"
      },
      "execution_count": 55,
      "outputs": [
        {
          "output_type": "execute_result",
          "data": {
            "text/plain": [
              "    year engine_group    price\n",
              "0   1996         >2.0   5995.0\n",
              "1   1997        <=2.0   3950.0\n",
              "2   1998        <=2.0   3950.0\n",
              "3   1999        <=2.0   3995.0\n",
              "4   2000         >2.0   1550.0\n",
              "5   2001        <=1.5  13000.0\n",
              "6   2001         >2.0   4500.0\n",
              "7   2002        <=2.0   3999.0\n",
              "8   2002         >2.0   2990.0\n",
              "9   2003         >2.0   9222.5\n",
              "10  2004        <=2.0   1970.0\n",
              "11  2004         >2.0   8750.0\n",
              "12  2005        <=2.0   4375.0\n",
              "13  2005         >2.0   4995.0\n",
              "14  2006        <=2.0   2992.5\n",
              "15  2006         >2.0   5344.5\n",
              "16  2007        <=2.0   3495.0\n",
              "17  2007         >2.0   5994.0\n",
              "18  2008        <=2.0   3992.5\n",
              "19  2008         >2.0   7642.5\n",
              "20  2009        <=2.0   4740.0\n",
              "21  2009         >2.0   9490.0\n",
              "22  2010        <=2.0   5995.0\n",
              "23  2010         >2.0   9125.0\n",
              "24  2011        <=2.0   7624.0\n",
              "25  2011         >2.0  10500.0\n",
              "26  2012        <=2.0   8500.0\n",
              "27  2012         >2.0  12970.0\n",
              "28  2013        <=2.0   9990.0\n",
              "29  2013         >2.0  15895.5\n",
              "30  2014        <=1.5  14972.5\n",
              "31  2014        <=2.0  11945.0\n",
              "32  2014         >2.0  16656.0\n",
              "33  2015        <=1.5  10999.0\n",
              "34  2015        <=2.0  13490.0\n",
              "35  2015         >2.0  18144.5\n",
              "36  2016        <=1.5  11809.0\n",
              "37  2016        <=2.0  15500.0\n",
              "38  2016         >2.0  19996.5\n",
              "39  2017        <=1.5  14292.5\n",
              "40  2017        <=2.0  17625.0\n",
              "41  2017         >2.0  22980.5\n",
              "42  2018        <=1.5  16500.0\n",
              "43  2018        <=2.0  20750.0\n",
              "44  2018         >2.0  27980.0\n",
              "45  2019        <=1.5  20980.0\n",
              "46  2019        <=2.0  27294.0\n",
              "47  2019         >2.0  45980.0\n",
              "48  2020        <=1.5  23995.0\n",
              "49  2020        <=2.0  30995.0\n",
              "50  2020         >2.0  48560.0"
            ],
            "text/html": [
              "\n",
              "  <div id=\"df-72dcec82-711f-4023-9c08-02a9c2709287\">\n",
              "    <div class=\"colab-df-container\">\n",
              "      <div>\n",
              "<style scoped>\n",
              "    .dataframe tbody tr th:only-of-type {\n",
              "        vertical-align: middle;\n",
              "    }\n",
              "\n",
              "    .dataframe tbody tr th {\n",
              "        vertical-align: top;\n",
              "    }\n",
              "\n",
              "    .dataframe thead th {\n",
              "        text-align: right;\n",
              "    }\n",
              "</style>\n",
              "<table border=\"1\" class=\"dataframe\">\n",
              "  <thead>\n",
              "    <tr style=\"text-align: right;\">\n",
              "      <th></th>\n",
              "      <th>year</th>\n",
              "      <th>engine_group</th>\n",
              "      <th>price</th>\n",
              "    </tr>\n",
              "  </thead>\n",
              "  <tbody>\n",
              "    <tr>\n",
              "      <th>0</th>\n",
              "      <td>1996</td>\n",
              "      <td>&gt;2.0</td>\n",
              "      <td>5995.0</td>\n",
              "    </tr>\n",
              "    <tr>\n",
              "      <th>1</th>\n",
              "      <td>1997</td>\n",
              "      <td>&lt;=2.0</td>\n",
              "      <td>3950.0</td>\n",
              "    </tr>\n",
              "    <tr>\n",
              "      <th>2</th>\n",
              "      <td>1998</td>\n",
              "      <td>&lt;=2.0</td>\n",
              "      <td>3950.0</td>\n",
              "    </tr>\n",
              "    <tr>\n",
              "      <th>3</th>\n",
              "      <td>1999</td>\n",
              "      <td>&lt;=2.0</td>\n",
              "      <td>3995.0</td>\n",
              "    </tr>\n",
              "    <tr>\n",
              "      <th>4</th>\n",
              "      <td>2000</td>\n",
              "      <td>&gt;2.0</td>\n",
              "      <td>1550.0</td>\n",
              "    </tr>\n",
              "    <tr>\n",
              "      <th>5</th>\n",
              "      <td>2001</td>\n",
              "      <td>&lt;=1.5</td>\n",
              "      <td>13000.0</td>\n",
              "    </tr>\n",
              "    <tr>\n",
              "      <th>6</th>\n",
              "      <td>2001</td>\n",
              "      <td>&gt;2.0</td>\n",
              "      <td>4500.0</td>\n",
              "    </tr>\n",
              "    <tr>\n",
              "      <th>7</th>\n",
              "      <td>2002</td>\n",
              "      <td>&lt;=2.0</td>\n",
              "      <td>3999.0</td>\n",
              "    </tr>\n",
              "    <tr>\n",
              "      <th>8</th>\n",
              "      <td>2002</td>\n",
              "      <td>&gt;2.0</td>\n",
              "      <td>2990.0</td>\n",
              "    </tr>\n",
              "    <tr>\n",
              "      <th>9</th>\n",
              "      <td>2003</td>\n",
              "      <td>&gt;2.0</td>\n",
              "      <td>9222.5</td>\n",
              "    </tr>\n",
              "    <tr>\n",
              "      <th>10</th>\n",
              "      <td>2004</td>\n",
              "      <td>&lt;=2.0</td>\n",
              "      <td>1970.0</td>\n",
              "    </tr>\n",
              "    <tr>\n",
              "      <th>11</th>\n",
              "      <td>2004</td>\n",
              "      <td>&gt;2.0</td>\n",
              "      <td>8750.0</td>\n",
              "    </tr>\n",
              "    <tr>\n",
              "      <th>12</th>\n",
              "      <td>2005</td>\n",
              "      <td>&lt;=2.0</td>\n",
              "      <td>4375.0</td>\n",
              "    </tr>\n",
              "    <tr>\n",
              "      <th>13</th>\n",
              "      <td>2005</td>\n",
              "      <td>&gt;2.0</td>\n",
              "      <td>4995.0</td>\n",
              "    </tr>\n",
              "    <tr>\n",
              "      <th>14</th>\n",
              "      <td>2006</td>\n",
              "      <td>&lt;=2.0</td>\n",
              "      <td>2992.5</td>\n",
              "    </tr>\n",
              "    <tr>\n",
              "      <th>15</th>\n",
              "      <td>2006</td>\n",
              "      <td>&gt;2.0</td>\n",
              "      <td>5344.5</td>\n",
              "    </tr>\n",
              "    <tr>\n",
              "      <th>16</th>\n",
              "      <td>2007</td>\n",
              "      <td>&lt;=2.0</td>\n",
              "      <td>3495.0</td>\n",
              "    </tr>\n",
              "    <tr>\n",
              "      <th>17</th>\n",
              "      <td>2007</td>\n",
              "      <td>&gt;2.0</td>\n",
              "      <td>5994.0</td>\n",
              "    </tr>\n",
              "    <tr>\n",
              "      <th>18</th>\n",
              "      <td>2008</td>\n",
              "      <td>&lt;=2.0</td>\n",
              "      <td>3992.5</td>\n",
              "    </tr>\n",
              "    <tr>\n",
              "      <th>19</th>\n",
              "      <td>2008</td>\n",
              "      <td>&gt;2.0</td>\n",
              "      <td>7642.5</td>\n",
              "    </tr>\n",
              "    <tr>\n",
              "      <th>20</th>\n",
              "      <td>2009</td>\n",
              "      <td>&lt;=2.0</td>\n",
              "      <td>4740.0</td>\n",
              "    </tr>\n",
              "    <tr>\n",
              "      <th>21</th>\n",
              "      <td>2009</td>\n",
              "      <td>&gt;2.0</td>\n",
              "      <td>9490.0</td>\n",
              "    </tr>\n",
              "    <tr>\n",
              "      <th>22</th>\n",
              "      <td>2010</td>\n",
              "      <td>&lt;=2.0</td>\n",
              "      <td>5995.0</td>\n",
              "    </tr>\n",
              "    <tr>\n",
              "      <th>23</th>\n",
              "      <td>2010</td>\n",
              "      <td>&gt;2.0</td>\n",
              "      <td>9125.0</td>\n",
              "    </tr>\n",
              "    <tr>\n",
              "      <th>24</th>\n",
              "      <td>2011</td>\n",
              "      <td>&lt;=2.0</td>\n",
              "      <td>7624.0</td>\n",
              "    </tr>\n",
              "    <tr>\n",
              "      <th>25</th>\n",
              "      <td>2011</td>\n",
              "      <td>&gt;2.0</td>\n",
              "      <td>10500.0</td>\n",
              "    </tr>\n",
              "    <tr>\n",
              "      <th>26</th>\n",
              "      <td>2012</td>\n",
              "      <td>&lt;=2.0</td>\n",
              "      <td>8500.0</td>\n",
              "    </tr>\n",
              "    <tr>\n",
              "      <th>27</th>\n",
              "      <td>2012</td>\n",
              "      <td>&gt;2.0</td>\n",
              "      <td>12970.0</td>\n",
              "    </tr>\n",
              "    <tr>\n",
              "      <th>28</th>\n",
              "      <td>2013</td>\n",
              "      <td>&lt;=2.0</td>\n",
              "      <td>9990.0</td>\n",
              "    </tr>\n",
              "    <tr>\n",
              "      <th>29</th>\n",
              "      <td>2013</td>\n",
              "      <td>&gt;2.0</td>\n",
              "      <td>15895.5</td>\n",
              "    </tr>\n",
              "    <tr>\n",
              "      <th>30</th>\n",
              "      <td>2014</td>\n",
              "      <td>&lt;=1.5</td>\n",
              "      <td>14972.5</td>\n",
              "    </tr>\n",
              "    <tr>\n",
              "      <th>31</th>\n",
              "      <td>2014</td>\n",
              "      <td>&lt;=2.0</td>\n",
              "      <td>11945.0</td>\n",
              "    </tr>\n",
              "    <tr>\n",
              "      <th>32</th>\n",
              "      <td>2014</td>\n",
              "      <td>&gt;2.0</td>\n",
              "      <td>16656.0</td>\n",
              "    </tr>\n",
              "    <tr>\n",
              "      <th>33</th>\n",
              "      <td>2015</td>\n",
              "      <td>&lt;=1.5</td>\n",
              "      <td>10999.0</td>\n",
              "    </tr>\n",
              "    <tr>\n",
              "      <th>34</th>\n",
              "      <td>2015</td>\n",
              "      <td>&lt;=2.0</td>\n",
              "      <td>13490.0</td>\n",
              "    </tr>\n",
              "    <tr>\n",
              "      <th>35</th>\n",
              "      <td>2015</td>\n",
              "      <td>&gt;2.0</td>\n",
              "      <td>18144.5</td>\n",
              "    </tr>\n",
              "    <tr>\n",
              "      <th>36</th>\n",
              "      <td>2016</td>\n",
              "      <td>&lt;=1.5</td>\n",
              "      <td>11809.0</td>\n",
              "    </tr>\n",
              "    <tr>\n",
              "      <th>37</th>\n",
              "      <td>2016</td>\n",
              "      <td>&lt;=2.0</td>\n",
              "      <td>15500.0</td>\n",
              "    </tr>\n",
              "    <tr>\n",
              "      <th>38</th>\n",
              "      <td>2016</td>\n",
              "      <td>&gt;2.0</td>\n",
              "      <td>19996.5</td>\n",
              "    </tr>\n",
              "    <tr>\n",
              "      <th>39</th>\n",
              "      <td>2017</td>\n",
              "      <td>&lt;=1.5</td>\n",
              "      <td>14292.5</td>\n",
              "    </tr>\n",
              "    <tr>\n",
              "      <th>40</th>\n",
              "      <td>2017</td>\n",
              "      <td>&lt;=2.0</td>\n",
              "      <td>17625.0</td>\n",
              "    </tr>\n",
              "    <tr>\n",
              "      <th>41</th>\n",
              "      <td>2017</td>\n",
              "      <td>&gt;2.0</td>\n",
              "      <td>22980.5</td>\n",
              "    </tr>\n",
              "    <tr>\n",
              "      <th>42</th>\n",
              "      <td>2018</td>\n",
              "      <td>&lt;=1.5</td>\n",
              "      <td>16500.0</td>\n",
              "    </tr>\n",
              "    <tr>\n",
              "      <th>43</th>\n",
              "      <td>2018</td>\n",
              "      <td>&lt;=2.0</td>\n",
              "      <td>20750.0</td>\n",
              "    </tr>\n",
              "    <tr>\n",
              "      <th>44</th>\n",
              "      <td>2018</td>\n",
              "      <td>&gt;2.0</td>\n",
              "      <td>27980.0</td>\n",
              "    </tr>\n",
              "    <tr>\n",
              "      <th>45</th>\n",
              "      <td>2019</td>\n",
              "      <td>&lt;=1.5</td>\n",
              "      <td>20980.0</td>\n",
              "    </tr>\n",
              "    <tr>\n",
              "      <th>46</th>\n",
              "      <td>2019</td>\n",
              "      <td>&lt;=2.0</td>\n",
              "      <td>27294.0</td>\n",
              "    </tr>\n",
              "    <tr>\n",
              "      <th>47</th>\n",
              "      <td>2019</td>\n",
              "      <td>&gt;2.0</td>\n",
              "      <td>45980.0</td>\n",
              "    </tr>\n",
              "    <tr>\n",
              "      <th>48</th>\n",
              "      <td>2020</td>\n",
              "      <td>&lt;=1.5</td>\n",
              "      <td>23995.0</td>\n",
              "    </tr>\n",
              "    <tr>\n",
              "      <th>49</th>\n",
              "      <td>2020</td>\n",
              "      <td>&lt;=2.0</td>\n",
              "      <td>30995.0</td>\n",
              "    </tr>\n",
              "    <tr>\n",
              "      <th>50</th>\n",
              "      <td>2020</td>\n",
              "      <td>&gt;2.0</td>\n",
              "      <td>48560.0</td>\n",
              "    </tr>\n",
              "  </tbody>\n",
              "</table>\n",
              "</div>\n",
              "      <button class=\"colab-df-convert\" onclick=\"convertToInteractive('df-72dcec82-711f-4023-9c08-02a9c2709287')\"\n",
              "              title=\"Convert this dataframe to an interactive table.\"\n",
              "              style=\"display:none;\">\n",
              "        \n",
              "  <svg xmlns=\"http://www.w3.org/2000/svg\" height=\"24px\"viewBox=\"0 0 24 24\"\n",
              "       width=\"24px\">\n",
              "    <path d=\"M0 0h24v24H0V0z\" fill=\"none\"/>\n",
              "    <path d=\"M18.56 5.44l.94 2.06.94-2.06 2.06-.94-2.06-.94-.94-2.06-.94 2.06-2.06.94zm-11 1L8.5 8.5l.94-2.06 2.06-.94-2.06-.94L8.5 2.5l-.94 2.06-2.06.94zm10 10l.94 2.06.94-2.06 2.06-.94-2.06-.94-.94-2.06-.94 2.06-2.06.94z\"/><path d=\"M17.41 7.96l-1.37-1.37c-.4-.4-.92-.59-1.43-.59-.52 0-1.04.2-1.43.59L10.3 9.45l-7.72 7.72c-.78.78-.78 2.05 0 2.83L4 21.41c.39.39.9.59 1.41.59.51 0 1.02-.2 1.41-.59l7.78-7.78 2.81-2.81c.8-.78.8-2.07 0-2.86zM5.41 20L4 18.59l7.72-7.72 1.47 1.35L5.41 20z\"/>\n",
              "  </svg>\n",
              "      </button>\n",
              "      \n",
              "  <style>\n",
              "    .colab-df-container {\n",
              "      display:flex;\n",
              "      flex-wrap:wrap;\n",
              "      gap: 12px;\n",
              "    }\n",
              "\n",
              "    .colab-df-convert {\n",
              "      background-color: #E8F0FE;\n",
              "      border: none;\n",
              "      border-radius: 50%;\n",
              "      cursor: pointer;\n",
              "      display: none;\n",
              "      fill: #1967D2;\n",
              "      height: 32px;\n",
              "      padding: 0 0 0 0;\n",
              "      width: 32px;\n",
              "    }\n",
              "\n",
              "    .colab-df-convert:hover {\n",
              "      background-color: #E2EBFA;\n",
              "      box-shadow: 0px 1px 2px rgba(60, 64, 67, 0.3), 0px 1px 3px 1px rgba(60, 64, 67, 0.15);\n",
              "      fill: #174EA6;\n",
              "    }\n",
              "\n",
              "    [theme=dark] .colab-df-convert {\n",
              "      background-color: #3B4455;\n",
              "      fill: #D2E3FC;\n",
              "    }\n",
              "\n",
              "    [theme=dark] .colab-df-convert:hover {\n",
              "      background-color: #434B5C;\n",
              "      box-shadow: 0px 1px 3px 1px rgba(0, 0, 0, 0.15);\n",
              "      filter: drop-shadow(0px 1px 2px rgba(0, 0, 0, 0.3));\n",
              "      fill: #FFFFFF;\n",
              "    }\n",
              "  </style>\n",
              "\n",
              "      <script>\n",
              "        const buttonEl =\n",
              "          document.querySelector('#df-72dcec82-711f-4023-9c08-02a9c2709287 button.colab-df-convert');\n",
              "        buttonEl.style.display =\n",
              "          google.colab.kernel.accessAllowed ? 'block' : 'none';\n",
              "\n",
              "        async function convertToInteractive(key) {\n",
              "          const element = document.querySelector('#df-72dcec82-711f-4023-9c08-02a9c2709287');\n",
              "          const dataTable =\n",
              "            await google.colab.kernel.invokeFunction('convertToInteractive',\n",
              "                                                     [key], {});\n",
              "          if (!dataTable) return;\n",
              "\n",
              "          const docLinkHtml = 'Like what you see? Visit the ' +\n",
              "            '<a target=\"_blank\" href=https://colab.research.google.com/notebooks/data_table.ipynb>data table notebook</a>'\n",
              "            + ' to learn more about interactive tables.';\n",
              "          element.innerHTML = '';\n",
              "          dataTable['output_type'] = 'display_data';\n",
              "          await google.colab.output.renderOutput(dataTable, element);\n",
              "          const docLink = document.createElement('div');\n",
              "          docLink.innerHTML = docLinkHtml;\n",
              "          element.appendChild(docLink);\n",
              "        }\n",
              "      </script>\n",
              "    </div>\n",
              "  </div>\n",
              "  "
            ]
          },
          "metadata": {},
          "execution_count": 55
        }
      ]
    },
    {
      "cell_type": "code",
      "source": [
        "t = train.pivot_table(index='year',columns='engine_group',values='price', aggfunc='median')"
      ],
      "metadata": {
        "id": "LxUdv9ts38bn"
      },
      "execution_count": 56,
      "outputs": []
    },
    {
      "cell_type": "code",
      "source": [
        "t"
      ],
      "metadata": {
        "colab": {
          "base_uri": "https://localhost:8080/",
          "height": 865
        },
        "id": "9n4klht_4tgy",
        "outputId": "3ba7d94e-1665-483c-952b-fc7246b242ef"
      },
      "execution_count": 57,
      "outputs": [
        {
          "output_type": "execute_result",
          "data": {
            "text/plain": [
              "engine_group    <=1.5    <=2.0     >2.0\n",
              "year                                   \n",
              "1996              NaN      NaN   5995.0\n",
              "1997              NaN   3950.0      NaN\n",
              "1998              NaN   3950.0      NaN\n",
              "1999              NaN   3995.0      NaN\n",
              "2000              NaN      NaN   1550.0\n",
              "2001          13000.0      NaN   4500.0\n",
              "2002              NaN   3999.0   2990.0\n",
              "2003              NaN      NaN   9222.5\n",
              "2004              NaN   1970.0   8750.0\n",
              "2005              NaN   4375.0   4995.0\n",
              "2006              NaN   2992.5   5344.5\n",
              "2007              NaN   3495.0   5994.0\n",
              "2008              NaN   3992.5   7642.5\n",
              "2009              NaN   4740.0   9490.0\n",
              "2010              NaN   5995.0   9125.0\n",
              "2011              NaN   7624.0  10500.0\n",
              "2012              NaN   8500.0  12970.0\n",
              "2013              NaN   9990.0  15895.5\n",
              "2014          14972.5  11945.0  16656.0\n",
              "2015          10999.0  13490.0  18144.5\n",
              "2016          11809.0  15500.0  19996.5\n",
              "2017          14292.5  17625.0  22980.5\n",
              "2018          16500.0  20750.0  27980.0\n",
              "2019          20980.0  27294.0  45980.0\n",
              "2020          23995.0  30995.0  48560.0"
            ],
            "text/html": [
              "\n",
              "  <div id=\"df-70576a58-6ea1-4ddb-b2ba-a05060a63e8a\">\n",
              "    <div class=\"colab-df-container\">\n",
              "      <div>\n",
              "<style scoped>\n",
              "    .dataframe tbody tr th:only-of-type {\n",
              "        vertical-align: middle;\n",
              "    }\n",
              "\n",
              "    .dataframe tbody tr th {\n",
              "        vertical-align: top;\n",
              "    }\n",
              "\n",
              "    .dataframe thead th {\n",
              "        text-align: right;\n",
              "    }\n",
              "</style>\n",
              "<table border=\"1\" class=\"dataframe\">\n",
              "  <thead>\n",
              "    <tr style=\"text-align: right;\">\n",
              "      <th>engine_group</th>\n",
              "      <th>&lt;=1.5</th>\n",
              "      <th>&lt;=2.0</th>\n",
              "      <th>&gt;2.0</th>\n",
              "    </tr>\n",
              "    <tr>\n",
              "      <th>year</th>\n",
              "      <th></th>\n",
              "      <th></th>\n",
              "      <th></th>\n",
              "    </tr>\n",
              "  </thead>\n",
              "  <tbody>\n",
              "    <tr>\n",
              "      <th>1996</th>\n",
              "      <td>NaN</td>\n",
              "      <td>NaN</td>\n",
              "      <td>5995.0</td>\n",
              "    </tr>\n",
              "    <tr>\n",
              "      <th>1997</th>\n",
              "      <td>NaN</td>\n",
              "      <td>3950.0</td>\n",
              "      <td>NaN</td>\n",
              "    </tr>\n",
              "    <tr>\n",
              "      <th>1998</th>\n",
              "      <td>NaN</td>\n",
              "      <td>3950.0</td>\n",
              "      <td>NaN</td>\n",
              "    </tr>\n",
              "    <tr>\n",
              "      <th>1999</th>\n",
              "      <td>NaN</td>\n",
              "      <td>3995.0</td>\n",
              "      <td>NaN</td>\n",
              "    </tr>\n",
              "    <tr>\n",
              "      <th>2000</th>\n",
              "      <td>NaN</td>\n",
              "      <td>NaN</td>\n",
              "      <td>1550.0</td>\n",
              "    </tr>\n",
              "    <tr>\n",
              "      <th>2001</th>\n",
              "      <td>13000.0</td>\n",
              "      <td>NaN</td>\n",
              "      <td>4500.0</td>\n",
              "    </tr>\n",
              "    <tr>\n",
              "      <th>2002</th>\n",
              "      <td>NaN</td>\n",
              "      <td>3999.0</td>\n",
              "      <td>2990.0</td>\n",
              "    </tr>\n",
              "    <tr>\n",
              "      <th>2003</th>\n",
              "      <td>NaN</td>\n",
              "      <td>NaN</td>\n",
              "      <td>9222.5</td>\n",
              "    </tr>\n",
              "    <tr>\n",
              "      <th>2004</th>\n",
              "      <td>NaN</td>\n",
              "      <td>1970.0</td>\n",
              "      <td>8750.0</td>\n",
              "    </tr>\n",
              "    <tr>\n",
              "      <th>2005</th>\n",
              "      <td>NaN</td>\n",
              "      <td>4375.0</td>\n",
              "      <td>4995.0</td>\n",
              "    </tr>\n",
              "    <tr>\n",
              "      <th>2006</th>\n",
              "      <td>NaN</td>\n",
              "      <td>2992.5</td>\n",
              "      <td>5344.5</td>\n",
              "    </tr>\n",
              "    <tr>\n",
              "      <th>2007</th>\n",
              "      <td>NaN</td>\n",
              "      <td>3495.0</td>\n",
              "      <td>5994.0</td>\n",
              "    </tr>\n",
              "    <tr>\n",
              "      <th>2008</th>\n",
              "      <td>NaN</td>\n",
              "      <td>3992.5</td>\n",
              "      <td>7642.5</td>\n",
              "    </tr>\n",
              "    <tr>\n",
              "      <th>2009</th>\n",
              "      <td>NaN</td>\n",
              "      <td>4740.0</td>\n",
              "      <td>9490.0</td>\n",
              "    </tr>\n",
              "    <tr>\n",
              "      <th>2010</th>\n",
              "      <td>NaN</td>\n",
              "      <td>5995.0</td>\n",
              "      <td>9125.0</td>\n",
              "    </tr>\n",
              "    <tr>\n",
              "      <th>2011</th>\n",
              "      <td>NaN</td>\n",
              "      <td>7624.0</td>\n",
              "      <td>10500.0</td>\n",
              "    </tr>\n",
              "    <tr>\n",
              "      <th>2012</th>\n",
              "      <td>NaN</td>\n",
              "      <td>8500.0</td>\n",
              "      <td>12970.0</td>\n",
              "    </tr>\n",
              "    <tr>\n",
              "      <th>2013</th>\n",
              "      <td>NaN</td>\n",
              "      <td>9990.0</td>\n",
              "      <td>15895.5</td>\n",
              "    </tr>\n",
              "    <tr>\n",
              "      <th>2014</th>\n",
              "      <td>14972.5</td>\n",
              "      <td>11945.0</td>\n",
              "      <td>16656.0</td>\n",
              "    </tr>\n",
              "    <tr>\n",
              "      <th>2015</th>\n",
              "      <td>10999.0</td>\n",
              "      <td>13490.0</td>\n",
              "      <td>18144.5</td>\n",
              "    </tr>\n",
              "    <tr>\n",
              "      <th>2016</th>\n",
              "      <td>11809.0</td>\n",
              "      <td>15500.0</td>\n",
              "      <td>19996.5</td>\n",
              "    </tr>\n",
              "    <tr>\n",
              "      <th>2017</th>\n",
              "      <td>14292.5</td>\n",
              "      <td>17625.0</td>\n",
              "      <td>22980.5</td>\n",
              "    </tr>\n",
              "    <tr>\n",
              "      <th>2018</th>\n",
              "      <td>16500.0</td>\n",
              "      <td>20750.0</td>\n",
              "      <td>27980.0</td>\n",
              "    </tr>\n",
              "    <tr>\n",
              "      <th>2019</th>\n",
              "      <td>20980.0</td>\n",
              "      <td>27294.0</td>\n",
              "      <td>45980.0</td>\n",
              "    </tr>\n",
              "    <tr>\n",
              "      <th>2020</th>\n",
              "      <td>23995.0</td>\n",
              "      <td>30995.0</td>\n",
              "      <td>48560.0</td>\n",
              "    </tr>\n",
              "  </tbody>\n",
              "</table>\n",
              "</div>\n",
              "      <button class=\"colab-df-convert\" onclick=\"convertToInteractive('df-70576a58-6ea1-4ddb-b2ba-a05060a63e8a')\"\n",
              "              title=\"Convert this dataframe to an interactive table.\"\n",
              "              style=\"display:none;\">\n",
              "        \n",
              "  <svg xmlns=\"http://www.w3.org/2000/svg\" height=\"24px\"viewBox=\"0 0 24 24\"\n",
              "       width=\"24px\">\n",
              "    <path d=\"M0 0h24v24H0V0z\" fill=\"none\"/>\n",
              "    <path d=\"M18.56 5.44l.94 2.06.94-2.06 2.06-.94-2.06-.94-.94-2.06-.94 2.06-2.06.94zm-11 1L8.5 8.5l.94-2.06 2.06-.94-2.06-.94L8.5 2.5l-.94 2.06-2.06.94zm10 10l.94 2.06.94-2.06 2.06-.94-2.06-.94-.94-2.06-.94 2.06-2.06.94z\"/><path d=\"M17.41 7.96l-1.37-1.37c-.4-.4-.92-.59-1.43-.59-.52 0-1.04.2-1.43.59L10.3 9.45l-7.72 7.72c-.78.78-.78 2.05 0 2.83L4 21.41c.39.39.9.59 1.41.59.51 0 1.02-.2 1.41-.59l7.78-7.78 2.81-2.81c.8-.78.8-2.07 0-2.86zM5.41 20L4 18.59l7.72-7.72 1.47 1.35L5.41 20z\"/>\n",
              "  </svg>\n",
              "      </button>\n",
              "      \n",
              "  <style>\n",
              "    .colab-df-container {\n",
              "      display:flex;\n",
              "      flex-wrap:wrap;\n",
              "      gap: 12px;\n",
              "    }\n",
              "\n",
              "    .colab-df-convert {\n",
              "      background-color: #E8F0FE;\n",
              "      border: none;\n",
              "      border-radius: 50%;\n",
              "      cursor: pointer;\n",
              "      display: none;\n",
              "      fill: #1967D2;\n",
              "      height: 32px;\n",
              "      padding: 0 0 0 0;\n",
              "      width: 32px;\n",
              "    }\n",
              "\n",
              "    .colab-df-convert:hover {\n",
              "      background-color: #E2EBFA;\n",
              "      box-shadow: 0px 1px 2px rgba(60, 64, 67, 0.3), 0px 1px 3px 1px rgba(60, 64, 67, 0.15);\n",
              "      fill: #174EA6;\n",
              "    }\n",
              "\n",
              "    [theme=dark] .colab-df-convert {\n",
              "      background-color: #3B4455;\n",
              "      fill: #D2E3FC;\n",
              "    }\n",
              "\n",
              "    [theme=dark] .colab-df-convert:hover {\n",
              "      background-color: #434B5C;\n",
              "      box-shadow: 0px 1px 3px 1px rgba(0, 0, 0, 0.15);\n",
              "      filter: drop-shadow(0px 1px 2px rgba(0, 0, 0, 0.3));\n",
              "      fill: #FFFFFF;\n",
              "    }\n",
              "  </style>\n",
              "\n",
              "      <script>\n",
              "        const buttonEl =\n",
              "          document.querySelector('#df-70576a58-6ea1-4ddb-b2ba-a05060a63e8a button.colab-df-convert');\n",
              "        buttonEl.style.display =\n",
              "          google.colab.kernel.accessAllowed ? 'block' : 'none';\n",
              "\n",
              "        async function convertToInteractive(key) {\n",
              "          const element = document.querySelector('#df-70576a58-6ea1-4ddb-b2ba-a05060a63e8a');\n",
              "          const dataTable =\n",
              "            await google.colab.kernel.invokeFunction('convertToInteractive',\n",
              "                                                     [key], {});\n",
              "          if (!dataTable) return;\n",
              "\n",
              "          const docLinkHtml = 'Like what you see? Visit the ' +\n",
              "            '<a target=\"_blank\" href=https://colab.research.google.com/notebooks/data_table.ipynb>data table notebook</a>'\n",
              "            + ' to learn more about interactive tables.';\n",
              "          element.innerHTML = '';\n",
              "          dataTable['output_type'] = 'display_data';\n",
              "          await google.colab.output.renderOutput(dataTable, element);\n",
              "          const docLink = document.createElement('div');\n",
              "          docLink.innerHTML = docLinkHtml;\n",
              "          element.appendChild(docLink);\n",
              "        }\n",
              "      </script>\n",
              "    </div>\n",
              "  </div>\n",
              "  "
            ]
          },
          "metadata": {},
          "execution_count": 57
        }
      ]
    },
    {
      "cell_type": "markdown",
      "source": [
        "Визуализируем зависимость цены от года выпуска и объема двигателя:"
      ],
      "metadata": {
        "id": "X7-5z8upW1gS"
      }
    },
    {
      "cell_type": "code",
      "source": [
        "import seaborn as sns"
      ],
      "metadata": {
        "id": "1APYLgVm4vLM"
      },
      "execution_count": 58,
      "outputs": []
    },
    {
      "cell_type": "code",
      "source": [
        "sns.heatmap(t)"
      ],
      "metadata": {
        "colab": {
          "base_uri": "https://localhost:8080/",
          "height": 467
        },
        "id": "4Ng7dWHa41gF",
        "outputId": "9451bfe8-77f6-45d7-9461-5ed2473d33f4"
      },
      "execution_count": 59,
      "outputs": [
        {
          "output_type": "execute_result",
          "data": {
            "text/plain": [
              "<Axes: xlabel='engine_group', ylabel='year'>"
            ]
          },
          "metadata": {},
          "execution_count": 59
        },
        {
          "output_type": "display_data",
          "data": {
            "text/plain": [
              "<Figure size 640x480 with 2 Axes>"
            ],
            "image/png": "[encoded data removed]"
          },
          "metadata": {}
        }
      ]
    },
    {
      "cell_type": "markdown",
      "source": [
        "Визуализация показывает, что цена тем выше, чем новее год выпуска авто и чем больше объем двигателя."
      ],
      "metadata": {
        "id": "70z_m6pNXIan"
      }
    },
    {
      "cell_type": "markdown",
      "source": [
        "Обучающая выборка:"
      ],
      "metadata": {
        "id": "ulZOqGHvXeTe"
      }
    },
    {
      "cell_type": "code",
      "source": [
        "model_year_engine_median = model_year_engine_median.rename({'price':'price_pred_year_engine_median'},axis=1)"
      ],
      "metadata": {
        "id": "QfW_UvDU3MLL"
      },
      "execution_count": 60,
      "outputs": []
    },
    {
      "cell_type": "code",
      "source": [
        "train = train.merge(model_year_engine_median,how='left',on=['year','engine_group'])"
      ],
      "metadata": {
        "id": "YL7J462Y3x6G"
      },
      "execution_count": 61,
      "outputs": []
    },
    {
      "cell_type": "code",
      "source": [
        "mean_absolute_error(train['price'], train['price_pred_year_engine_median'])"
      ],
      "metadata": {
        "colab": {
          "base_uri": "https://localhost:8080/"
        },
        "outputId": "83bd9efa-ccc9-4fd9-f1e0-b7152403b427",
        "id": "NLz-bl0F4Tvx"
      },
      "execution_count": 62,
      "outputs": [
        {
          "output_type": "execute_result",
          "data": {
            "text/plain": [
              "3659.774273345702"
            ]
          },
          "metadata": {},
          "execution_count": 62
        }
      ]
    },
    {
      "cell_type": "code",
      "source": [
        "mean_absolute_percentage_error(train['price'], train['price_pred_year_engine_median'])"
      ],
      "metadata": {
        "colab": {
          "base_uri": "https://localhost:8080/"
        },
        "outputId": "0306b524-63cc-47e9-95c4-2078db7d658f",
        "id": "kR_RkT_Y4Tvx"
      },
      "execution_count": 63,
      "outputs": [
        {
          "output_type": "execute_result",
          "data": {
            "text/plain": [
              "0.1582922021242831"
            ]
          },
          "metadata": {},
          "execution_count": 63
        }
      ]
    },
    {
      "cell_type": "markdown",
      "source": [
        "Тестовая выборка:"
      ],
      "metadata": {
        "id": "SDBQSfdy4L8o"
      }
    },
    {
      "cell_type": "code",
      "source": [
        "test['engine_group'] = test['engineSize'].apply(engine_group)"
      ],
      "metadata": {
        "id": "dMDyVgXY5H-o"
      },
      "execution_count": 64,
      "outputs": []
    },
    {
      "cell_type": "code",
      "source": [
        "test = test.merge(model_year_engine_median,how='left',on=['year','engine_group'])"
      ],
      "metadata": {
        "id": "wlYHoEP24rVi"
      },
      "execution_count": 65,
      "outputs": []
    },
    {
      "cell_type": "markdown",
      "source": [
        "Проверка на пропуски:"
      ],
      "metadata": {
        "id": "o08hP_1tWT5v"
      }
    },
    {
      "cell_type": "code",
      "source": [
        "test.isna().mean()"
      ],
      "metadata": {
        "colab": {
          "base_uri": "https://localhost:8080/"
        },
        "id": "sGGMP6mx6C6x",
        "outputId": "20893b2b-f767-4d71-9e8a-36c055312797"
      },
      "execution_count": 66,
      "outputs": [
        {
          "output_type": "execute_result",
          "data": {
            "text/plain": [
              "model                            0.000000\n",
              "year                             0.000000\n",
              "price                            0.000000\n",
              "transmission                     0.000000\n",
              "mileage                          0.000000\n",
              "fuelType                         0.000000\n",
              "tax                              0.000000\n",
              "mpg                              0.000000\n",
              "engineSize                       0.000000\n",
              "price_pred_median                0.000000\n",
              "price_pred_year_mean             0.000000\n",
              "price_pred_year_median           0.000000\n",
              "engine_group                     0.000000\n",
              "price_pred_year_engine_median    0.000742\n",
              "dtype: float64"
            ]
          },
          "metadata": {},
          "execution_count": 66
        }
      ]
    },
    {
      "cell_type": "code",
      "source": [
        "test_no_nan = test.dropna().copy()"
      ],
      "metadata": {
        "id": "D6dcu_S57GkB"
      },
      "execution_count": 67,
      "outputs": []
    },
    {
      "cell_type": "markdown",
      "source": [
        "Проверка качества полученной модели на тестовой группе:"
      ],
      "metadata": {
        "id": "tch2knnfWbIz"
      }
    },
    {
      "cell_type": "code",
      "source": [
        "mean_absolute_error(test_no_nan['price'], test_no_nan['price_pred_year_engine_median'])"
      ],
      "metadata": {
        "colab": {
          "base_uri": "https://localhost:8080/"
        },
        "outputId": "0633dbe8-a8c3-4535-843e-49359562adaf",
        "id": "xikoOaNV4jUe"
      },
      "execution_count": 68,
      "outputs": [
        {
          "output_type": "execute_result",
          "data": {
            "text/plain": [
              "3790.014291017075"
            ]
          },
          "metadata": {},
          "execution_count": 68
        }
      ]
    },
    {
      "cell_type": "code",
      "source": [
        "mean_absolute_percentage_error(test_no_nan['price'], test_no_nan['price_pred_year_engine_median'])"
      ],
      "metadata": {
        "colab": {
          "base_uri": "https://localhost:8080/"
        },
        "outputId": "1293bbb7-720b-470f-ed5c-c1119b803805",
        "id": "bjTWwUUz4jUg"
      },
      "execution_count": 69,
      "outputs": [
        {
          "output_type": "execute_result",
          "data": {
            "text/plain": [
              "0.16270961023342095"
            ]
          },
          "metadata": {},
          "execution_count": 69
        }
      ]
    },
    {
      "cell_type": "markdown",
      "source": [
        "#Улучшение модели"
      ],
      "metadata": {
        "id": "hyCkqM-k7xkx"
      }
    },
    {
      "cell_type": "markdown",
      "source": [
        "Сделаем группировку по годам:"
      ],
      "metadata": {
        "id": "cPoYyBai71si"
      }
    },
    {
      "cell_type": "code",
      "source": [
        "train['year_group'] = pd.cut(train['year'],[0,2010,2012,2014,2016,2018,float('inf')])"
      ],
      "metadata": {
        "id": "csHxttnUWQkq"
      },
      "execution_count": 70,
      "outputs": []
    },
    {
      "cell_type": "code",
      "source": [
        "train.groupby('year_group')['price'].agg(['count','median'])"
      ],
      "metadata": {
        "colab": {
          "base_uri": "https://localhost:8080/",
          "height": 269
        },
        "id": "zl8k1mgfaQHF",
        "outputId": "8f35cb0c-84ed-4c38-b88f-25d11477bd00"
      },
      "execution_count": 71,
      "outputs": [
        {
          "output_type": "execute_result",
          "data": {
            "text/plain": [
              "                  count   median\n",
              "year_group                      \n",
              "(0.0, 2010.0]       124   5584.0\n",
              "(2010.0, 2012.0]    129   8985.0\n",
              "(2012.0, 2014.0]    637  11695.0\n",
              "(2014.0, 2016.0]   2114  15080.5\n",
              "(2016.0, 2018.0]   1931  19370.0\n",
              "(2018.0, inf]      3150  28867.5"
            ],
            "text/html": [
              "\n",
              "  <div id=\"df-4f0528a3-0fef-4e2a-bf38-b29d58b30e08\">\n",
              "    <div class=\"colab-df-container\">\n",
              "      <div>\n",
              "<style scoped>\n",
              "    .dataframe tbody tr th:only-of-type {\n",
              "        vertical-align: middle;\n",
              "    }\n",
              "\n",
              "    .dataframe tbody tr th {\n",
              "        vertical-align: top;\n",
              "    }\n",
              "\n",
              "    .dataframe thead th {\n",
              "        text-align: right;\n",
              "    }\n",
              "</style>\n",
              "<table border=\"1\" class=\"dataframe\">\n",
              "  <thead>\n",
              "    <tr style=\"text-align: right;\">\n",
              "      <th></th>\n",
              "      <th>count</th>\n",
              "      <th>median</th>\n",
              "    </tr>\n",
              "    <tr>\n",
              "      <th>year_group</th>\n",
              "      <th></th>\n",
              "      <th></th>\n",
              "    </tr>\n",
              "  </thead>\n",
              "  <tbody>\n",
              "    <tr>\n",
              "      <th>(0.0, 2010.0]</th>\n",
              "      <td>124</td>\n",
              "      <td>5584.0</td>\n",
              "    </tr>\n",
              "    <tr>\n",
              "      <th>(2010.0, 2012.0]</th>\n",
              "      <td>129</td>\n",
              "      <td>8985.0</td>\n",
              "    </tr>\n",
              "    <tr>\n",
              "      <th>(2012.0, 2014.0]</th>\n",
              "      <td>637</td>\n",
              "      <td>11695.0</td>\n",
              "    </tr>\n",
              "    <tr>\n",
              "      <th>(2014.0, 2016.0]</th>\n",
              "      <td>2114</td>\n",
              "      <td>15080.5</td>\n",
              "    </tr>\n",
              "    <tr>\n",
              "      <th>(2016.0, 2018.0]</th>\n",
              "      <td>1931</td>\n",
              "      <td>19370.0</td>\n",
              "    </tr>\n",
              "    <tr>\n",
              "      <th>(2018.0, inf]</th>\n",
              "      <td>3150</td>\n",
              "      <td>28867.5</td>\n",
              "    </tr>\n",
              "  </tbody>\n",
              "</table>\n",
              "</div>\n",
              "      <button class=\"colab-df-convert\" onclick=\"convertToInteractive('df-4f0528a3-0fef-4e2a-bf38-b29d58b30e08')\"\n",
              "              title=\"Convert this dataframe to an interactive table.\"\n",
              "              style=\"display:none;\">\n",
              "        \n",
              "  <svg xmlns=\"http://www.w3.org/2000/svg\" height=\"24px\"viewBox=\"0 0 24 24\"\n",
              "       width=\"24px\">\n",
              "    <path d=\"M0 0h24v24H0V0z\" fill=\"none\"/>\n",
              "    <path d=\"M18.56 5.44l.94 2.06.94-2.06 2.06-.94-2.06-.94-.94-2.06-.94 2.06-2.06.94zm-11 1L8.5 8.5l.94-2.06 2.06-.94-2.06-.94L8.5 2.5l-.94 2.06-2.06.94zm10 10l.94 2.06.94-2.06 2.06-.94-2.06-.94-.94-2.06-.94 2.06-2.06.94z\"/><path d=\"M17.41 7.96l-1.37-1.37c-.4-.4-.92-.59-1.43-.59-.52 0-1.04.2-1.43.59L10.3 9.45l-7.72 7.72c-.78.78-.78 2.05 0 2.83L4 21.41c.39.39.9.59 1.41.59.51 0 1.02-.2 1.41-.59l7.78-7.78 2.81-2.81c.8-.78.8-2.07 0-2.86zM5.41 20L4 18.59l7.72-7.72 1.47 1.35L5.41 20z\"/>\n",
              "  </svg>\n",
              "      </button>\n",
              "      \n",
              "  <style>\n",
              "    .colab-df-container {\n",
              "      display:flex;\n",
              "      flex-wrap:wrap;\n",
              "      gap: 12px;\n",
              "    }\n",
              "\n",
              "    .colab-df-convert {\n",
              "      background-color: #E8F0FE;\n",
              "      border: none;\n",
              "      border-radius: 50%;\n",
              "      cursor: pointer;\n",
              "      display: none;\n",
              "      fill: #1967D2;\n",
              "      height: 32px;\n",
              "      padding: 0 0 0 0;\n",
              "      width: 32px;\n",
              "    }\n",
              "\n",
              "    .colab-df-convert:hover {\n",
              "      background-color: #E2EBFA;\n",
              "      box-shadow: 0px 1px 2px rgba(60, 64, 67, 0.3), 0px 1px 3px 1px rgba(60, 64, 67, 0.15);\n",
              "      fill: #174EA6;\n",
              "    }\n",
              "\n",
              "    [theme=dark] .colab-df-convert {\n",
              "      background-color: #3B4455;\n",
              "      fill: #D2E3FC;\n",
              "    }\n",
              "\n",
              "    [theme=dark] .colab-df-convert:hover {\n",
              "      background-color: #434B5C;\n",
              "      box-shadow: 0px 1px 3px 1px rgba(0, 0, 0, 0.15);\n",
              "      filter: drop-shadow(0px 1px 2px rgba(0, 0, 0, 0.3));\n",
              "      fill: #FFFFFF;\n",
              "    }\n",
              "  </style>\n",
              "\n",
              "      <script>\n",
              "        const buttonEl =\n",
              "          document.querySelector('#df-4f0528a3-0fef-4e2a-bf38-b29d58b30e08 button.colab-df-convert');\n",
              "        buttonEl.style.display =\n",
              "          google.colab.kernel.accessAllowed ? 'block' : 'none';\n",
              "\n",
              "        async function convertToInteractive(key) {\n",
              "          const element = document.querySelector('#df-4f0528a3-0fef-4e2a-bf38-b29d58b30e08');\n",
              "          const dataTable =\n",
              "            await google.colab.kernel.invokeFunction('convertToInteractive',\n",
              "                                                     [key], {});\n",
              "          if (!dataTable) return;\n",
              "\n",
              "          const docLinkHtml = 'Like what you see? Visit the ' +\n",
              "            '<a target=\"_blank\" href=https://colab.research.google.com/notebooks/data_table.ipynb>data table notebook</a>'\n",
              "            + ' to learn more about interactive tables.';\n",
              "          element.innerHTML = '';\n",
              "          dataTable['output_type'] = 'display_data';\n",
              "          await google.colab.output.renderOutput(dataTable, element);\n",
              "          const docLink = document.createElement('div');\n",
              "          docLink.innerHTML = docLinkHtml;\n",
              "          element.appendChild(docLink);\n",
              "        }\n",
              "      </script>\n",
              "    </div>\n",
              "  </div>\n",
              "  "
            ]
          },
          "metadata": {},
          "execution_count": 71
        }
      ]
    },
    {
      "cell_type": "code",
      "source": [
        "model_year_engine_group_median = train.groupby(['engine_group','year_group'])['price'].median().reset_index()"
      ],
      "metadata": {
        "id": "A7V2BAd4ah7b"
      },
      "execution_count": 72,
      "outputs": []
    },
    {
      "cell_type": "code",
      "source": [
        "model_year_engine_group_median"
      ],
      "metadata": {
        "colab": {
          "base_uri": "https://localhost:8080/",
          "height": 614
        },
        "id": "OZOaiuxNbdBI",
        "outputId": "7b3d1022-300d-4e63-8353-767efd913e0e"
      },
      "execution_count": 73,
      "outputs": [
        {
          "output_type": "execute_result",
          "data": {
            "text/plain": [
              "   engine_group        year_group    price\n",
              "0         <=1.5     (0.0, 2010.0]  13000.0\n",
              "1         <=1.5  (2010.0, 2012.0]      NaN\n",
              "2         <=1.5  (2012.0, 2014.0]  14972.5\n",
              "3         <=1.5  (2014.0, 2016.0]  11557.0\n",
              "4         <=1.5  (2016.0, 2018.0]  14999.0\n",
              "5         <=1.5     (2018.0, inf]  21500.0\n",
              "6         <=2.0     (0.0, 2010.0]   4097.0\n",
              "7         <=2.0  (2010.0, 2012.0]   8470.0\n",
              "8         <=2.0  (2012.0, 2014.0]  10998.0\n",
              "9         <=2.0  (2014.0, 2016.0]  14800.0\n",
              "10        <=2.0  (2016.0, 2018.0]  18980.0\n",
              "11        <=2.0     (2018.0, inf]  27990.0\n",
              "12         >2.0     (0.0, 2010.0]   6990.0\n",
              "13         >2.0  (2010.0, 2012.0]  12245.0\n",
              "14         >2.0  (2012.0, 2014.0]  16345.0\n",
              "15         >2.0  (2014.0, 2016.0]  19497.5\n",
              "16         >2.0  (2016.0, 2018.0]  24480.0\n",
              "17         >2.0     (2018.0, inf]  46000.0"
            ],
            "text/html": [
              "\n",
              "  <div id=\"df-96d86bf9-a730-4abe-97e0-4d08fb94d1ce\">\n",
              "    <div class=\"colab-df-container\">\n",
              "      <div>\n",
              "<style scoped>\n",
              "    .dataframe tbody tr th:only-of-type {\n",
              "        vertical-align: middle;\n",
              "    }\n",
              "\n",
              "    .dataframe tbody tr th {\n",
              "        vertical-align: top;\n",
              "    }\n",
              "\n",
              "    .dataframe thead th {\n",
              "        text-align: right;\n",
              "    }\n",
              "</style>\n",
              "<table border=\"1\" class=\"dataframe\">\n",
              "  <thead>\n",
              "    <tr style=\"text-align: right;\">\n",
              "      <th></th>\n",
              "      <th>engine_group</th>\n",
              "      <th>year_group</th>\n",
              "      <th>price</th>\n",
              "    </tr>\n",
              "  </thead>\n",
              "  <tbody>\n",
              "    <tr>\n",
              "      <th>0</th>\n",
              "      <td>&lt;=1.5</td>\n",
              "      <td>(0.0, 2010.0]</td>\n",
              "      <td>13000.0</td>\n",
              "    </tr>\n",
              "    <tr>\n",
              "      <th>1</th>\n",
              "      <td>&lt;=1.5</td>\n",
              "      <td>(2010.0, 2012.0]</td>\n",
              "      <td>NaN</td>\n",
              "    </tr>\n",
              "    <tr>\n",
              "      <th>2</th>\n",
              "      <td>&lt;=1.5</td>\n",
              "      <td>(2012.0, 2014.0]</td>\n",
              "      <td>14972.5</td>\n",
              "    </tr>\n",
              "    <tr>\n",
              "      <th>3</th>\n",
              "      <td>&lt;=1.5</td>\n",
              "      <td>(2014.0, 2016.0]</td>\n",
              "      <td>11557.0</td>\n",
              "    </tr>\n",
              "    <tr>\n",
              "      <th>4</th>\n",
              "      <td>&lt;=1.5</td>\n",
              "      <td>(2016.0, 2018.0]</td>\n",
              "      <td>14999.0</td>\n",
              "    </tr>\n",
              "    <tr>\n",
              "      <th>5</th>\n",
              "      <td>&lt;=1.5</td>\n",
              "      <td>(2018.0, inf]</td>\n",
              "      <td>21500.0</td>\n",
              "    </tr>\n",
              "    <tr>\n",
              "      <th>6</th>\n",
              "      <td>&lt;=2.0</td>\n",
              "      <td>(0.0, 2010.0]</td>\n",
              "      <td>4097.0</td>\n",
              "    </tr>\n",
              "    <tr>\n",
              "      <th>7</th>\n",
              "      <td>&lt;=2.0</td>\n",
              "      <td>(2010.0, 2012.0]</td>\n",
              "      <td>8470.0</td>\n",
              "    </tr>\n",
              "    <tr>\n",
              "      <th>8</th>\n",
              "      <td>&lt;=2.0</td>\n",
              "      <td>(2012.0, 2014.0]</td>\n",
              "      <td>10998.0</td>\n",
              "    </tr>\n",
              "    <tr>\n",
              "      <th>9</th>\n",
              "      <td>&lt;=2.0</td>\n",
              "      <td>(2014.0, 2016.0]</td>\n",
              "      <td>14800.0</td>\n",
              "    </tr>\n",
              "    <tr>\n",
              "      <th>10</th>\n",
              "      <td>&lt;=2.0</td>\n",
              "      <td>(2016.0, 2018.0]</td>\n",
              "      <td>18980.0</td>\n",
              "    </tr>\n",
              "    <tr>\n",
              "      <th>11</th>\n",
              "      <td>&lt;=2.0</td>\n",
              "      <td>(2018.0, inf]</td>\n",
              "      <td>27990.0</td>\n",
              "    </tr>\n",
              "    <tr>\n",
              "      <th>12</th>\n",
              "      <td>&gt;2.0</td>\n",
              "      <td>(0.0, 2010.0]</td>\n",
              "      <td>6990.0</td>\n",
              "    </tr>\n",
              "    <tr>\n",
              "      <th>13</th>\n",
              "      <td>&gt;2.0</td>\n",
              "      <td>(2010.0, 2012.0]</td>\n",
              "      <td>12245.0</td>\n",
              "    </tr>\n",
              "    <tr>\n",
              "      <th>14</th>\n",
              "      <td>&gt;2.0</td>\n",
              "      <td>(2012.0, 2014.0]</td>\n",
              "      <td>16345.0</td>\n",
              "    </tr>\n",
              "    <tr>\n",
              "      <th>15</th>\n",
              "      <td>&gt;2.0</td>\n",
              "      <td>(2014.0, 2016.0]</td>\n",
              "      <td>19497.5</td>\n",
              "    </tr>\n",
              "    <tr>\n",
              "      <th>16</th>\n",
              "      <td>&gt;2.0</td>\n",
              "      <td>(2016.0, 2018.0]</td>\n",
              "      <td>24480.0</td>\n",
              "    </tr>\n",
              "    <tr>\n",
              "      <th>17</th>\n",
              "      <td>&gt;2.0</td>\n",
              "      <td>(2018.0, inf]</td>\n",
              "      <td>46000.0</td>\n",
              "    </tr>\n",
              "  </tbody>\n",
              "</table>\n",
              "</div>\n",
              "      <button class=\"colab-df-convert\" onclick=\"convertToInteractive('df-96d86bf9-a730-4abe-97e0-4d08fb94d1ce')\"\n",
              "              title=\"Convert this dataframe to an interactive table.\"\n",
              "              style=\"display:none;\">\n",
              "        \n",
              "  <svg xmlns=\"http://www.w3.org/2000/svg\" height=\"24px\"viewBox=\"0 0 24 24\"\n",
              "       width=\"24px\">\n",
              "    <path d=\"M0 0h24v24H0V0z\" fill=\"none\"/>\n",
              "    <path d=\"M18.56 5.44l.94 2.06.94-2.06 2.06-.94-2.06-.94-.94-2.06-.94 2.06-2.06.94zm-11 1L8.5 8.5l.94-2.06 2.06-.94-2.06-.94L8.5 2.5l-.94 2.06-2.06.94zm10 10l.94 2.06.94-2.06 2.06-.94-2.06-.94-.94-2.06-.94 2.06-2.06.94z\"/><path d=\"M17.41 7.96l-1.37-1.37c-.4-.4-.92-.59-1.43-.59-.52 0-1.04.2-1.43.59L10.3 9.45l-7.72 7.72c-.78.78-.78 2.05 0 2.83L4 21.41c.39.39.9.59 1.41.59.51 0 1.02-.2 1.41-.59l7.78-7.78 2.81-2.81c.8-.78.8-2.07 0-2.86zM5.41 20L4 18.59l7.72-7.72 1.47 1.35L5.41 20z\"/>\n",
              "  </svg>\n",
              "      </button>\n",
              "      \n",
              "  <style>\n",
              "    .colab-df-container {\n",
              "      display:flex;\n",
              "      flex-wrap:wrap;\n",
              "      gap: 12px;\n",
              "    }\n",
              "\n",
              "    .colab-df-convert {\n",
              "      background-color: #E8F0FE;\n",
              "      border: none;\n",
              "      border-radius: 50%;\n",
              "      cursor: pointer;\n",
              "      display: none;\n",
              "      fill: #1967D2;\n",
              "      height: 32px;\n",
              "      padding: 0 0 0 0;\n",
              "      width: 32px;\n",
              "    }\n",
              "\n",
              "    .colab-df-convert:hover {\n",
              "      background-color: #E2EBFA;\n",
              "      box-shadow: 0px 1px 2px rgba(60, 64, 67, 0.3), 0px 1px 3px 1px rgba(60, 64, 67, 0.15);\n",
              "      fill: #174EA6;\n",
              "    }\n",
              "\n",
              "    [theme=dark] .colab-df-convert {\n",
              "      background-color: #3B4455;\n",
              "      fill: #D2E3FC;\n",
              "    }\n",
              "\n",
              "    [theme=dark] .colab-df-convert:hover {\n",
              "      background-color: #434B5C;\n",
              "      box-shadow: 0px 1px 3px 1px rgba(0, 0, 0, 0.15);\n",
              "      filter: drop-shadow(0px 1px 2px rgba(0, 0, 0, 0.3));\n",
              "      fill: #FFFFFF;\n",
              "    }\n",
              "  </style>\n",
              "\n",
              "      <script>\n",
              "        const buttonEl =\n",
              "          document.querySelector('#df-96d86bf9-a730-4abe-97e0-4d08fb94d1ce button.colab-df-convert');\n",
              "        buttonEl.style.display =\n",
              "          google.colab.kernel.accessAllowed ? 'block' : 'none';\n",
              "\n",
              "        async function convertToInteractive(key) {\n",
              "          const element = document.querySelector('#df-96d86bf9-a730-4abe-97e0-4d08fb94d1ce');\n",
              "          const dataTable =\n",
              "            await google.colab.kernel.invokeFunction('convertToInteractive',\n",
              "                                                     [key], {});\n",
              "          if (!dataTable) return;\n",
              "\n",
              "          const docLinkHtml = 'Like what you see? Visit the ' +\n",
              "            '<a target=\"_blank\" href=https://colab.research.google.com/notebooks/data_table.ipynb>data table notebook</a>'\n",
              "            + ' to learn more about interactive tables.';\n",
              "          element.innerHTML = '';\n",
              "          dataTable['output_type'] = 'display_data';\n",
              "          await google.colab.output.renderOutput(dataTable, element);\n",
              "          const docLink = document.createElement('div');\n",
              "          docLink.innerHTML = docLinkHtml;\n",
              "          element.appendChild(docLink);\n",
              "        }\n",
              "      </script>\n",
              "    </div>\n",
              "  </div>\n",
              "  "
            ]
          },
          "metadata": {},
          "execution_count": 73
        }
      ]
    },
    {
      "cell_type": "code",
      "source": [
        "model_year_engine_group_median = model_year_engine_group_median.rename({'price':'price_pred_year_engine_group_median'},axis=1)"
      ],
      "metadata": {
        "id": "AVq5_8vIby6d"
      },
      "execution_count": 74,
      "outputs": []
    },
    {
      "cell_type": "code",
      "source": [
        "train = train.merge(model_year_engine_group_median,how='left',on=['year_group','engine_group'])"
      ],
      "metadata": {
        "id": "wgBvLyM_by6e"
      },
      "execution_count": 75,
      "outputs": []
    },
    {
      "cell_type": "code",
      "source": [
        "train"
      ],
      "metadata": {
        "colab": {
          "base_uri": "https://localhost:8080/",
          "height": 644
        },
        "id": "YHcyp54qc_OJ",
        "outputId": "c209ff5d-86e4-4ebd-bcbf-898b6ec88e32"
      },
      "execution_count": 76,
      "outputs": [
        {
          "output_type": "execute_result",
          "data": {
            "text/plain": [
              "          model  year  price transmission  mileage fuelType  tax   mpg  \\\n",
              "0      5 Series  2013  12791    Semi-Auto    55642   Diesel  145  55.4   \n",
              "1      1 Series  2019  23995    Semi-Auto     1527   Petrol  145  43.5   \n",
              "2            X5  2015  25995    Automatic    43344   Diesel  200  47.1   \n",
              "3      2 Series  2019  25000    Automatic     4000   Petrol  145  47.9   \n",
              "4      1 Series  2015  10950       Manual    33000   Diesel   20  72.4   \n",
              "...         ...   ...    ...          ...      ...      ...  ...   ...   \n",
              "8080   3 Series  2018  17995    Semi-Auto    40456   Diesel  145  64.2   \n",
              "8081   1 Series  2016  19950    Semi-Auto    23210   Petrol  200  39.8   \n",
              "8082         X2  2019  25450    Semi-Auto     5652   Diesel  145  47.9   \n",
              "8083         X1  2016  19850    Semi-Auto    14542   Diesel  125  60.1   \n",
              "8084   1 Series  2016  15745    Automatic    17237   Petrol  125  54.3   \n",
              "\n",
              "      engineSize  price_pred_mean           err       err_abs  err_abs_pct  \\\n",
              "0            2.0     22668.821645   9877.821645   9877.821645     0.772248   \n",
              "1            1.5     22668.821645  -1326.178355   1326.178355     0.055269   \n",
              "2            3.0     22668.821645  -3326.178355   3326.178355     0.127955   \n",
              "3            2.0     22668.821645  -2331.178355   2331.178355     0.093247   \n",
              "4            1.5     22668.821645  11718.821645  11718.821645     1.070212   \n",
              "...          ...              ...           ...           ...          ...   \n",
              "8080         2.0     22668.821645   4673.821645   4673.821645     0.259729   \n",
              "8081         3.0     22668.821645   2718.821645   2718.821645     0.136282   \n",
              "8082         2.0     22668.821645  -2781.178355   2781.178355     0.109280   \n",
              "8083         2.0     22668.821645   2818.821645   2818.821645     0.142006   \n",
              "8084         1.5     22668.821645   6923.821645   6923.821645     0.439747   \n",
              "\n",
              "      price_pred_median  price_pred_year_mean  price_pred_year_median  \\\n",
              "0               20022.0          11041.347826                 10490.0   \n",
              "1               20022.0          31066.986143                 27980.0   \n",
              "2               20022.0          15086.536313                 14103.5   \n",
              "3               20022.0          31066.986143                 27980.0   \n",
              "4               20022.0          15086.536313                 14103.5   \n",
              "...                 ...                   ...                     ...   \n",
              "8080            20022.0          22562.450394                 21000.0   \n",
              "8081            20022.0          16531.655222                 15699.5   \n",
              "8082            20022.0          31066.986143                 27980.0   \n",
              "8083            20022.0          16531.655222                 15699.5   \n",
              "8084            20022.0          16531.655222                 15699.5   \n",
              "\n",
              "     engine_group  price_pred_year_engine_median        year_group  \\\n",
              "0           <=2.0                         9990.0  (2012.0, 2014.0]   \n",
              "1           <=1.5                        20980.0     (2018.0, inf]   \n",
              "2            >2.0                        18144.5  (2014.0, 2016.0]   \n",
              "3           <=2.0                        27294.0     (2018.0, inf]   \n",
              "4           <=1.5                        10999.0  (2014.0, 2016.0]   \n",
              "...           ...                            ...               ...   \n",
              "8080        <=2.0                        20750.0  (2016.0, 2018.0]   \n",
              "8081         >2.0                        19996.5  (2014.0, 2016.0]   \n",
              "8082        <=2.0                        27294.0     (2018.0, inf]   \n",
              "8083        <=2.0                        15500.0  (2014.0, 2016.0]   \n",
              "8084        <=1.5                        11809.0  (2014.0, 2016.0]   \n",
              "\n",
              "      price_pred_year_engine_group_median  \n",
              "0                                 10998.0  \n",
              "1                                 21500.0  \n",
              "2                                 19497.5  \n",
              "3                                 27990.0  \n",
              "4                                 11557.0  \n",
              "...                                   ...  \n",
              "8080                              18980.0  \n",
              "8081                              19497.5  \n",
              "8082                              27990.0  \n",
              "8083                              14800.0  \n",
              "8084                              11557.0  \n",
              "\n",
              "[8085 rows x 20 columns]"
            ],
            "text/html": [
              "\n",
              "  <div id=\"df-06538684-57ef-4e40-9397-b6c728053d10\">\n",
              "    <div class=\"colab-df-container\">\n",
              "      <div>\n",
              "<style scoped>\n",
              "    .dataframe tbody tr th:only-of-type {\n",
              "        vertical-align: middle;\n",
              "    }\n",
              "\n",
              "    .dataframe tbody tr th {\n",
              "        vertical-align: top;\n",
              "    }\n",
              "\n",
              "    .dataframe thead th {\n",
              "        text-align: right;\n",
              "    }\n",
              "</style>\n",
              "<table border=\"1\" class=\"dataframe\">\n",
              "  <thead>\n",
              "    <tr style=\"text-align: right;\">\n",
              "      <th></th>\n",
              "      <th>model</th>\n",
              "      <th>year</th>\n",
              "      <th>price</th>\n",
              "      <th>transmission</th>\n",
              "      <th>mileage</th>\n",
              "      <th>fuelType</th>\n",
              "      <th>tax</th>\n",
              "      <th>mpg</th>\n",
              "      <th>engineSize</th>\n",
              "      <th>price_pred_mean</th>\n",
              "      <th>err</th>\n",
              "      <th>err_abs</th>\n",
              "      <th>err_abs_pct</th>\n",
              "      <th>price_pred_median</th>\n",
              "      <th>price_pred_year_mean</th>\n",
              "      <th>price_pred_year_median</th>\n",
              "      <th>engine_group</th>\n",
              "      <th>price_pred_year_engine_median</th>\n",
              "      <th>year_group</th>\n",
              "      <th>price_pred_year_engine_group_median</th>\n",
              "    </tr>\n",
              "  </thead>\n",
              "  <tbody>\n",
              "    <tr>\n",
              "      <th>0</th>\n",
              "      <td>5 Series</td>\n",
              "      <td>2013</td>\n",
              "      <td>12791</td>\n",
              "      <td>Semi-Auto</td>\n",
              "      <td>55642</td>\n",
              "      <td>Diesel</td>\n",
              "      <td>145</td>\n",
              "      <td>55.4</td>\n",
              "      <td>2.0</td>\n",
              "      <td>22668.821645</td>\n",
              "      <td>9877.821645</td>\n",
              "      <td>9877.821645</td>\n",
              "      <td>0.772248</td>\n",
              "      <td>20022.0</td>\n",
              "      <td>11041.347826</td>\n",
              "      <td>10490.0</td>\n",
              "      <td>&lt;=2.0</td>\n",
              "      <td>9990.0</td>\n",
              "      <td>(2012.0, 2014.0]</td>\n",
              "      <td>10998.0</td>\n",
              "    </tr>\n",
              "    <tr>\n",
              "      <th>1</th>\n",
              "      <td>1 Series</td>\n",
              "      <td>2019</td>\n",
              "      <td>23995</td>\n",
              "      <td>Semi-Auto</td>\n",
              "      <td>1527</td>\n",
              "      <td>Petrol</td>\n",
              "      <td>145</td>\n",
              "      <td>43.5</td>\n",
              "      <td>1.5</td>\n",
              "      <td>22668.821645</td>\n",
              "      <td>-1326.178355</td>\n",
              "      <td>1326.178355</td>\n",
              "      <td>0.055269</td>\n",
              "      <td>20022.0</td>\n",
              "      <td>31066.986143</td>\n",
              "      <td>27980.0</td>\n",
              "      <td>&lt;=1.5</td>\n",
              "      <td>20980.0</td>\n",
              "      <td>(2018.0, inf]</td>\n",
              "      <td>21500.0</td>\n",
              "    </tr>\n",
              "    <tr>\n",
              "      <th>2</th>\n",
              "      <td>X5</td>\n",
              "      <td>2015</td>\n",
              "      <td>25995</td>\n",
              "      <td>Automatic</td>\n",
              "      <td>43344</td>\n",
              "      <td>Diesel</td>\n",
              "      <td>200</td>\n",
              "      <td>47.1</td>\n",
              "      <td>3.0</td>\n",
              "      <td>22668.821645</td>\n",
              "      <td>-3326.178355</td>\n",
              "      <td>3326.178355</td>\n",
              "      <td>0.127955</td>\n",
              "      <td>20022.0</td>\n",
              "      <td>15086.536313</td>\n",
              "      <td>14103.5</td>\n",
              "      <td>&gt;2.0</td>\n",
              "      <td>18144.5</td>\n",
              "      <td>(2014.0, 2016.0]</td>\n",
              "      <td>19497.5</td>\n",
              "    </tr>\n",
              "    <tr>\n",
              "      <th>3</th>\n",
              "      <td>2 Series</td>\n",
              "      <td>2019</td>\n",
              "      <td>25000</td>\n",
              "      <td>Automatic</td>\n",
              "      <td>4000</td>\n",
              "      <td>Petrol</td>\n",
              "      <td>145</td>\n",
              "      <td>47.9</td>\n",
              "      <td>2.0</td>\n",
              "      <td>22668.821645</td>\n",
              "      <td>-2331.178355</td>\n",
              "      <td>2331.178355</td>\n",
              "      <td>0.093247</td>\n",
              "      <td>20022.0</td>\n",
              "      <td>31066.986143</td>\n",
              "      <td>27980.0</td>\n",
              "      <td>&lt;=2.0</td>\n",
              "      <td>27294.0</td>\n",
              "      <td>(2018.0, inf]</td>\n",
              "      <td>27990.0</td>\n",
              "    </tr>\n",
              "    <tr>\n",
              "      <th>4</th>\n",
              "      <td>1 Series</td>\n",
              "      <td>2015</td>\n",
              "      <td>10950</td>\n",
              "      <td>Manual</td>\n",
              "      <td>33000</td>\n",
              "      <td>Diesel</td>\n",
              "      <td>20</td>\n",
              "      <td>72.4</td>\n",
              "      <td>1.5</td>\n",
              "      <td>22668.821645</td>\n",
              "      <td>11718.821645</td>\n",
              "      <td>11718.821645</td>\n",
              "      <td>1.070212</td>\n",
              "      <td>20022.0</td>\n",
              "      <td>15086.536313</td>\n",
              "      <td>14103.5</td>\n",
              "      <td>&lt;=1.5</td>\n",
              "      <td>10999.0</td>\n",
              "      <td>(2014.0, 2016.0]</td>\n",
              "      <td>11557.0</td>\n",
              "    </tr>\n",
              "    <tr>\n",
              "      <th>...</th>\n",
              "      <td>...</td>\n",
              "      <td>...</td>\n",
              "      <td>...</td>\n",
              "      <td>...</td>\n",
              "      <td>...</td>\n",
              "      <td>...</td>\n",
              "      <td>...</td>\n",
              "      <td>...</td>\n",
              "      <td>...</td>\n",
              "      <td>...</td>\n",
              "      <td>...</td>\n",
              "      <td>...</td>\n",
              "      <td>...</td>\n",
              "      <td>...</td>\n",
              "      <td>...</td>\n",
              "      <td>...</td>\n",
              "      <td>...</td>\n",
              "      <td>...</td>\n",
              "      <td>...</td>\n",
              "      <td>...</td>\n",
              "    </tr>\n",
              "    <tr>\n",
              "      <th>8080</th>\n",
              "      <td>3 Series</td>\n",
              "      <td>2018</td>\n",
              "      <td>17995</td>\n",
              "      <td>Semi-Auto</td>\n",
              "      <td>40456</td>\n",
              "      <td>Diesel</td>\n",
              "      <td>145</td>\n",
              "      <td>64.2</td>\n",
              "      <td>2.0</td>\n",
              "      <td>22668.821645</td>\n",
              "      <td>4673.821645</td>\n",
              "      <td>4673.821645</td>\n",
              "      <td>0.259729</td>\n",
              "      <td>20022.0</td>\n",
              "      <td>22562.450394</td>\n",
              "      <td>21000.0</td>\n",
              "      <td>&lt;=2.0</td>\n",
              "      <td>20750.0</td>\n",
              "      <td>(2016.0, 2018.0]</td>\n",
              "      <td>18980.0</td>\n",
              "    </tr>\n",
              "    <tr>\n",
              "      <th>8081</th>\n",
              "      <td>1 Series</td>\n",
              "      <td>2016</td>\n",
              "      <td>19950</td>\n",
              "      <td>Semi-Auto</td>\n",
              "      <td>23210</td>\n",
              "      <td>Petrol</td>\n",
              "      <td>200</td>\n",
              "      <td>39.8</td>\n",
              "      <td>3.0</td>\n",
              "      <td>22668.821645</td>\n",
              "      <td>2718.821645</td>\n",
              "      <td>2718.821645</td>\n",
              "      <td>0.136282</td>\n",
              "      <td>20022.0</td>\n",
              "      <td>16531.655222</td>\n",
              "      <td>15699.5</td>\n",
              "      <td>&gt;2.0</td>\n",
              "      <td>19996.5</td>\n",
              "      <td>(2014.0, 2016.0]</td>\n",
              "      <td>19497.5</td>\n",
              "    </tr>\n",
              "    <tr>\n",
              "      <th>8082</th>\n",
              "      <td>X2</td>\n",
              "      <td>2019</td>\n",
              "      <td>25450</td>\n",
              "      <td>Semi-Auto</td>\n",
              "      <td>5652</td>\n",
              "      <td>Diesel</td>\n",
              "      <td>145</td>\n",
              "      <td>47.9</td>\n",
              "      <td>2.0</td>\n",
              "      <td>22668.821645</td>\n",
              "      <td>-2781.178355</td>\n",
              "      <td>2781.178355</td>\n",
              "      <td>0.109280</td>\n",
              "      <td>20022.0</td>\n",
              "      <td>31066.986143</td>\n",
              "      <td>27980.0</td>\n",
              "      <td>&lt;=2.0</td>\n",
              "      <td>27294.0</td>\n",
              "      <td>(2018.0, inf]</td>\n",
              "      <td>27990.0</td>\n",
              "    </tr>\n",
              "    <tr>\n",
              "      <th>8083</th>\n",
              "      <td>X1</td>\n",
              "      <td>2016</td>\n",
              "      <td>19850</td>\n",
              "      <td>Semi-Auto</td>\n",
              "      <td>14542</td>\n",
              "      <td>Diesel</td>\n",
              "      <td>125</td>\n",
              "      <td>60.1</td>\n",
              "      <td>2.0</td>\n",
              "      <td>22668.821645</td>\n",
              "      <td>2818.821645</td>\n",
              "      <td>2818.821645</td>\n",
              "      <td>0.142006</td>\n",
              "      <td>20022.0</td>\n",
              "      <td>16531.655222</td>\n",
              "      <td>15699.5</td>\n",
              "      <td>&lt;=2.0</td>\n",
              "      <td>15500.0</td>\n",
              "      <td>(2014.0, 2016.0]</td>\n",
              "      <td>14800.0</td>\n",
              "    </tr>\n",
              "    <tr>\n",
              "      <th>8084</th>\n",
              "      <td>1 Series</td>\n",
              "      <td>2016</td>\n",
              "      <td>15745</td>\n",
              "      <td>Automatic</td>\n",
              "      <td>17237</td>\n",
              "      <td>Petrol</td>\n",
              "      <td>125</td>\n",
              "      <td>54.3</td>\n",
              "      <td>1.5</td>\n",
              "      <td>22668.821645</td>\n",
              "      <td>6923.821645</td>\n",
              "      <td>6923.821645</td>\n",
              "      <td>0.439747</td>\n",
              "      <td>20022.0</td>\n",
              "      <td>16531.655222</td>\n",
              "      <td>15699.5</td>\n",
              "      <td>&lt;=1.5</td>\n",
              "      <td>11809.0</td>\n",
              "      <td>(2014.0, 2016.0]</td>\n",
              "      <td>11557.0</td>\n",
              "    </tr>\n",
              "  </tbody>\n",
              "</table>\n",
              "<p>8085 rows × 20 columns</p>\n",
              "</div>\n",
              "      <button class=\"colab-df-convert\" onclick=\"convertToInteractive('df-06538684-57ef-4e40-9397-b6c728053d10')\"\n",
              "              title=\"Convert this dataframe to an interactive table.\"\n",
              "              style=\"display:none;\">\n",
              "        \n",
              "  <svg xmlns=\"http://www.w3.org/2000/svg\" height=\"24px\"viewBox=\"0 0 24 24\"\n",
              "       width=\"24px\">\n",
              "    <path d=\"M0 0h24v24H0V0z\" fill=\"none\"/>\n",
              "    <path d=\"M18.56 5.44l.94 2.06.94-2.06 2.06-.94-2.06-.94-.94-2.06-.94 2.06-2.06.94zm-11 1L8.5 8.5l.94-2.06 2.06-.94-2.06-.94L8.5 2.5l-.94 2.06-2.06.94zm10 10l.94 2.06.94-2.06 2.06-.94-2.06-.94-.94-2.06-.94 2.06-2.06.94z\"/><path d=\"M17.41 7.96l-1.37-1.37c-.4-.4-.92-.59-1.43-.59-.52 0-1.04.2-1.43.59L10.3 9.45l-7.72 7.72c-.78.78-.78 2.05 0 2.83L4 21.41c.39.39.9.59 1.41.59.51 0 1.02-.2 1.41-.59l7.78-7.78 2.81-2.81c.8-.78.8-2.07 0-2.86zM5.41 20L4 18.59l7.72-7.72 1.47 1.35L5.41 20z\"/>\n",
              "  </svg>\n",
              "      </button>\n",
              "      \n",
              "  <style>\n",
              "    .colab-df-container {\n",
              "      display:flex;\n",
              "      flex-wrap:wrap;\n",
              "      gap: 12px;\n",
              "    }\n",
              "\n",
              "    .colab-df-convert {\n",
              "      background-color: #E8F0FE;\n",
              "      border: none;\n",
              "      border-radius: 50%;\n",
              "      cursor: pointer;\n",
              "      display: none;\n",
              "      fill: #1967D2;\n",
              "      height: 32px;\n",
              "      padding: 0 0 0 0;\n",
              "      width: 32px;\n",
              "    }\n",
              "\n",
              "    .colab-df-convert:hover {\n",
              "      background-color: #E2EBFA;\n",
              "      box-shadow: 0px 1px 2px rgba(60, 64, 67, 0.3), 0px 1px 3px 1px rgba(60, 64, 67, 0.15);\n",
              "      fill: #174EA6;\n",
              "    }\n",
              "\n",
              "    [theme=dark] .colab-df-convert {\n",
              "      background-color: #3B4455;\n",
              "      fill: #D2E3FC;\n",
              "    }\n",
              "\n",
              "    [theme=dark] .colab-df-convert:hover {\n",
              "      background-color: #434B5C;\n",
              "      box-shadow: 0px 1px 3px 1px rgba(0, 0, 0, 0.15);\n",
              "      filter: drop-shadow(0px 1px 2px rgba(0, 0, 0, 0.3));\n",
              "      fill: #FFFFFF;\n",
              "    }\n",
              "  </style>\n",
              "\n",
              "      <script>\n",
              "        const buttonEl =\n",
              "          document.querySelector('#df-06538684-57ef-4e40-9397-b6c728053d10 button.colab-df-convert');\n",
              "        buttonEl.style.display =\n",
              "          google.colab.kernel.accessAllowed ? 'block' : 'none';\n",
              "\n",
              "        async function convertToInteractive(key) {\n",
              "          const element = document.querySelector('#df-06538684-57ef-4e40-9397-b6c728053d10');\n",
              "          const dataTable =\n",
              "            await google.colab.kernel.invokeFunction('convertToInteractive',\n",
              "                                                     [key], {});\n",
              "          if (!dataTable) return;\n",
              "\n",
              "          const docLinkHtml = 'Like what you see? Visit the ' +\n",
              "            '<a target=\"_blank\" href=https://colab.research.google.com/notebooks/data_table.ipynb>data table notebook</a>'\n",
              "            + ' to learn more about interactive tables.';\n",
              "          element.innerHTML = '';\n",
              "          dataTable['output_type'] = 'display_data';\n",
              "          await google.colab.output.renderOutput(dataTable, element);\n",
              "          const docLink = document.createElement('div');\n",
              "          docLink.innerHTML = docLinkHtml;\n",
              "          element.appendChild(docLink);\n",
              "        }\n",
              "      </script>\n",
              "    </div>\n",
              "  </div>\n",
              "  "
            ]
          },
          "metadata": {},
          "execution_count": 76
        }
      ]
    },
    {
      "cell_type": "code",
      "source": [
        "mean_absolute_error(train['price'], train['price_pred_year_engine_group_median'])"
      ],
      "metadata": {
        "colab": {
          "base_uri": "https://localhost:8080/"
        },
        "outputId": "d5f199dc-acb6-423e-bbc8-994e8b88abfe",
        "id": "8RF7mafGby6f"
      },
      "execution_count": 77,
      "outputs": [
        {
          "output_type": "execute_result",
          "data": {
            "text/plain": [
              "3827.4336425479282"
            ]
          },
          "metadata": {},
          "execution_count": 77
        }
      ]
    },
    {
      "cell_type": "code",
      "source": [
        "mean_absolute_percentage_error(train['price'], train['price_pred_year_engine_group_median'])"
      ],
      "metadata": {
        "colab": {
          "base_uri": "https://localhost:8080/"
        },
        "id": "kKt69CeWbqUL",
        "outputId": "56996c98-d721-4c44-a63c-7d67aa7a3c1b"
      },
      "execution_count": 78,
      "outputs": [
        {
          "output_type": "execute_result",
          "data": {
            "text/plain": [
              "0.1693848259731495"
            ]
          },
          "metadata": {},
          "execution_count": 78
        }
      ]
    },
    {
      "cell_type": "markdown",
      "source": [
        "Качество модели осталось примерно на том же уровне, при этом количество условий было сокращено."
      ],
      "metadata": {
        "id": "dNOo69uwe7WE"
      }
    }
  ]
}